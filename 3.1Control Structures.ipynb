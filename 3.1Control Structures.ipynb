{
 "cells": [
  {
   "cell_type": "markdown",
   "id": "ef0e84a8-0ce9-4f5f-a062-aac6f3002dee",
   "metadata": {},
   "source": [
    "## 3.1 Control Structures"
   ]
  },
  {
   "cell_type": "markdown",
   "id": "5f367b03-fc86-4f10-bf9c-97e6c056c642",
   "metadata": {},
   "source": [
    "#### Identation"
   ]
  },
  {
   "cell_type": "code",
   "execution_count": 1,
   "id": "8d1e751f-07f7-41af-ab0a-52d60d59d0aa",
   "metadata": {},
   "outputs": [
    {
     "name": "stdout",
     "output_type": "stream",
     "text": [
      "This line should only run if 'mystery_value' is GREATER than 0.\n",
      "This line should only be printed if the above line is printed.\n",
      "This line should always be printed.\n",
      "This line should always be printed.\n",
      "\n"
     ]
    }
   ],
   "source": [
    "mystery_value = 1\n",
    "\n",
    "#All of the indentation has been removed from this program. \n",
    "#Fix the program by correcting the indentation levels. Note\n",
    "#that you should add indentation by adding FOUR SPACES to the\n",
    "#start of the lines you want to indent. If you use Tab, you\n",
    "#will receive an IndentationError in your output.\n",
    "\n",
    "if mystery_value > 0:\n",
    "    print(\"This line should only run if 'mystery_value' is GREATER than 0.\")\n",
    "    print(\"This line should only be printed if the above line is printed.\")\n",
    "print(\"This line should always be printed.\")\n",
    "\n",
    "if 0 > mystery_value:\n",
    "    print(\"This line should only run if 'mystery_value' is LESS than 0.\")\n",
    "print(\"This line should always be printed.\\n\")"
   ]
  },
  {
   "cell_type": "markdown",
   "id": "fdc8bb21-cbb9-4bd0-aacf-5b340cee3d82",
   "metadata": {},
   "source": [
    "#### Identation and Conditionals"
   ]
  },
  {
   "cell_type": "code",
   "execution_count": 4,
   "id": "1b2ddf62-6362-4457-953f-44e0ca7a5220",
   "metadata": {},
   "outputs": [
    {
     "name": "stdout",
     "output_type": "stream",
     "text": [
      "myNum2 is greater than myNum1!\n",
      "Execution complete!\n"
     ]
    }
   ],
   "source": [
    "myNum1 = 1\n",
    "myNum2 = 2\n",
    "#Checks if myNum1 is less than myNum2\n",
    "if myNum1 < myNum2: \n",
    "    #Prints this if so\n",
    "    print(\"myNum2 is greater than myNum1!\") \n",
    "#Prints this regardless\n",
    "print(\"Execution complete!\")"
   ]
  },
  {
   "cell_type": "markdown",
   "id": "8d6ba83b-63a7-41b2-bd9d-c42503938ce0",
   "metadata": {},
   "source": [
    "#### Simple Scopein Python"
   ]
  },
  {
   "cell_type": "code",
   "execution_count": 6,
   "id": "782ffcf8-01bb-4dbe-a953-c788c1b832ac",
   "metadata": {},
   "outputs": [
    {
     "name": "stdout",
     "output_type": "stream",
     "text": [
      "myNum2 is greater than myNum1!\n",
      "Execution complete!\n"
     ]
    }
   ],
   "source": [
    "myNum1 = 1\n",
    "myNum2 = 2\n",
    "#Checks if myNum1 is less than myNum2\n",
    "if myNum1 < myNum2: \n",
    "    #Saves this if so\n",
    "    result = \"myNum2 is greater than myNum1!\" \n",
    "#Prints the result\n",
    "print(result)\n",
    "print(\"Execution complete!\")"
   ]
  },
  {
   "cell_type": "markdown",
   "id": "19479ce0-ce86-442c-aec0-ee1b1d244d41",
   "metadata": {},
   "source": [
    "#### Scope"
   ]
  },
  {
   "cell_type": "code",
   "execution_count": 5,
   "id": "bec61684-a142-4d97-a1d8-4220df688c64",
   "metadata": {},
   "outputs": [
    {
     "name": "stdout",
     "output_type": "stream",
     "text": [
      "mystery_value is less than 0.\n",
      "Boo :(\n"
     ]
    }
   ],
   "source": [
    "mystery_value = -1\n",
    "\n",
    "#We want this code to print \"Boo :(\"\n",
    "#(without the quotes) if mystery_value is not greater than 0.\n",
    "\n",
    "result = \"Boo :(\"\n",
    "\n",
    "if mystery_value > 0:\n",
    "    print(\"mystery_value is greater than 0.\")\n",
    "    result = \"Yay!\"\n",
    "else:\n",
    "    print(\"mystery_value is less than 0.\")\n",
    "\n",
    "print(result)"
   ]
  },
  {
   "cell_type": "code",
   "execution_count": null,
   "id": "d3fc865d-170a-4b15-ac60-5fe1c23dd27d",
   "metadata": {},
   "outputs": [],
   "source": []
  }
 ],
 "metadata": {
  "kernelspec": {
   "display_name": "Python 3 (ipykernel)",
   "language": "python",
   "name": "python3"
  },
  "language_info": {
   "codemirror_mode": {
    "name": "ipython",
    "version": 3
   },
   "file_extension": ".py",
   "mimetype": "text/x-python",
   "name": "python",
   "nbconvert_exporter": "python",
   "pygments_lexer": "ipython3",
   "version": "3.9.7"
  }
 },
 "nbformat": 4,
 "nbformat_minor": 5
}
