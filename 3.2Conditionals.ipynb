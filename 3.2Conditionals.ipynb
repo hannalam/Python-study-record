{
 "cells": [
  {
   "cell_type": "markdown",
   "id": "fe1500e2-291a-4a5b-96d1-d0f6bad4478b",
   "metadata": {},
   "source": [
    "## 3.2 Conditionals"
   ]
  },
  {
   "cell_type": "markdown",
   "id": "50f91da8-1a14-4bfc-9721-15afef131167",
   "metadata": {},
   "source": [
    "#### Factors"
   ]
  },
  {
   "cell_type": "code",
   "execution_count": 2,
   "id": "a63b8300-a0c6-45d1-9d20-2db705f2f29b",
   "metadata": {},
   "outputs": [
    {
     "name": "stdout",
     "output_type": "stream",
     "text": [
      "Factors!\n"
     ]
    }
   ],
   "source": [
    "mystery_int_1 = 15\n",
    "mystery_int_2 = 5\n",
    "\n",
    "#The variables below hold two integers, mystery_int_1 and\n",
    "#mystery_int_2. Complete this program below such that it\n",
    "#prints \"Factors!\" if either of the numbers is a factor of\n",
    "#the other. If neither number is a factor of the other, print \"Not factors :(\" \n",
    "\n",
    "if mystery_int_1 % mystery_int_2 == 0:\n",
    "    print(\"Factors!\")\n",
    "elif mystery_int_2 % mystery_int_1 == 0:\n",
    "    print(\"Factors!\")\n",
    "else:\n",
    "    print(\"Not factors :(\")"
   ]
  },
  {
   "cell_type": "markdown",
   "id": "84218121-9144-4ecc-9e3a-3144fa96ad56",
   "metadata": {},
   "source": [
    "#### Snow Days"
   ]
  },
  {
   "cell_type": "code",
   "execution_count": 3,
   "id": "8eb4b42c-e7b0-4b6f-9802-eb53553fe6d9",
   "metadata": {},
   "outputs": [
    {
     "name": "stdout",
     "output_type": "stream",
     "text": [
      "School is cancelled!\n"
     ]
    }
   ],
   "source": [
    "mystery_state = \"Georgia\"\n",
    "\n",
    "#The variable above holds the name of the state that you're in (hypothetically). \n",
    "#prints the following messages depending on what state you're in:\n",
    "#\n",
    "# - \"School isn't cancelled.\" if we're in New Jersey\n",
    "# - \"School is postponed.\" if we're in North Carolina\n",
    "# - \"School is cancelled!\" if we're in Georgia\n",
    "# - \"idk wear a sweater\" if we're in any other state (or if\n",
    "#   the value doesn't represent a valid state).\n",
    "\n",
    "if mystery_state == \"New Jersey\":\n",
    "    print(\"School isn't cancelled.\")\n",
    "elif mystery_state == \"North Carolina\":\n",
    "    print(\"School is postponed.\")\n",
    "elif mystery_state == \"Georgia\":\n",
    "    print(\"School is cancelled!\")\n",
    "else:\n",
    "    print(\"idk wear a sweater\")"
   ]
  },
  {
   "cell_type": "markdown",
   "id": "71a77f40-cc31-4d8a-a5db-6e064a212f28",
   "metadata": {},
   "source": [
    "#### Common Eorrors"
   ]
  },
  {
   "cell_type": "code",
   "execution_count": 4,
   "id": "664e9df3-5ebf-4967-84c2-fc0794ee580d",
   "metadata": {},
   "outputs": [
    {
     "name": "stdout",
     "output_type": "stream",
     "text": [
      "scarf\n",
      "Done!\n"
     ]
    }
   ],
   "source": [
    "#Creates todaysWeather and sets it equal to \"cold\"\n",
    "todaysWeather = \"cold\"\n",
    "\n",
    "#Checks if todaysWeather equals \"cold\"\n",
    "if todaysWeather == \"cold\":\n",
    "    print(\"scarf\") \n",
    "    print(\"Done!\") \n",
    "#Otherwise, checks if todaysWeather equals \"windy\" or \"cold\"\n",
    "elif todaysWeather == \"cold\" or todaysWeather == \"windy\":\n",
    "    print(\"jacket\")\n",
    "    print(\"Done!\")\n",
    "#This else is unattached because the block\n",
    "#was already broken!\n",
    "else:\n",
    "    print(\"t-shirt\")   \n",
    "    print(\"Done!\")"
   ]
  },
  {
   "cell_type": "markdown",
   "id": "481ce7f3-0eea-4a72-94a8-000b09c9fe10",
   "metadata": {},
   "source": [
    "#### Who Won"
   ]
  },
  {
   "cell_type": "code",
   "execution_count": 5,
   "id": "81b6d4c3-1381-4c42-9bc6-180ca70b2491",
   "metadata": {},
   "outputs": [
    {
     "name": "stdout",
     "output_type": "stream",
     "text": [
      "Georgia Tech beat Georgia by 1\n"
     ]
    }
   ],
   "source": [
    "team_1 = \"Georgia Tech\"\n",
    "team_1_score = 28\n",
    "team_2 = \"Georgia\"\n",
    "team_2_score = 27\n",
    "\n",
    "#Above we've created four variables: two team names and two\n",
    "#scores. A team wins if their score is greater than the other\n",
    "#team's score.\n",
    "#\n",
    "#To print a messages like these depending on the values:\n",
    "#\n",
    "# - If one team beat the other, print:\n",
    "#     \"[winner] beat [loser] by [margin]\"\n",
    "# - If neither team won, print:\n",
    "#     \"[team_1] played [team_2] and it was a tie\"\n",
    "#\n",
    "#For example, with the original values in this code, you\n",
    "#should print \"Georgia Tech beat Georgia by 1\"\n",
    "\n",
    "if team_1_score > team_2_score:\n",
    "    print(team_1, \"beat\", team_2, \"by\",team_1_score-team_2_score)\n",
    "elif team_2_score > team_1_score:\n",
    "    print(team_2, \"beat\", team_1, \"by\",team_2_score-team_1_score)\n",
    "else:\n",
    "    print(team_1,\"played\",team_2, \"and it was a tie\")"
   ]
  },
  {
   "cell_type": "markdown",
   "id": "17fb68e3-1011-4bf9-8c73-b854947041b9",
   "metadata": {},
   "source": [
    "#### Boolean Functions"
   ]
  },
  {
   "cell_type": "code",
   "execution_count": 6,
   "id": "ec1afbb0-45e8-4448-859d-0d549adb338a",
   "metadata": {},
   "outputs": [
    {
     "name": "stdout",
     "output_type": "stream",
     "text": [
      "The first string is numerical.\n",
      "The second string is non-numerical.\n"
     ]
    }
   ],
   "source": [
    "myNumericString = \"12345\"\n",
    "myNonNumericString = \"ABCDE\"\n",
    "\n",
    "#Checks if myNumericString is purely numeric\n",
    "if myNumericString.isdigit():\n",
    "    print(\"The first string is numerical.\")\n",
    "else:\n",
    "    print(\"The first string is non-numerical.\")\n",
    "#Checks if myNonNumericString is purely numeric\n",
    "if myNonNumericString.isdigit():\n",
    "    print(\"The second string is numerical.\")\n",
    "else:\n",
    "    print(\"The second string is non-numerical.\")"
   ]
  },
  {
   "cell_type": "markdown",
   "id": "c7714767-150c-4b3d-9aad-019581b76a21",
   "metadata": {},
   "source": [
    "### Nested Conditionals"
   ]
  },
  {
   "cell_type": "markdown",
   "id": "970fd5ba-1cad-4074-a158-141f3530e359",
   "metadata": {},
   "source": [
    "#### Outfit"
   ]
  },
  {
   "cell_type": "code",
   "execution_count": 7,
   "id": "d3468084-23d3-46d6-b29d-f8f8a61dad9f",
   "metadata": {},
   "outputs": [
    {
     "name": "stdout",
     "output_type": "stream",
     "text": [
      "Wear a hat!\n"
     ]
    }
   ],
   "source": [
    "sunny = True\n",
    "windy = False\n",
    "\n",
    "if sunny:\n",
    "    if windy:\n",
    "        print(\"Enjoy the breeze!\")\n",
    "    else:\n",
    "        print(\"Wear a hat!\")"
   ]
  },
  {
   "cell_type": "markdown",
   "id": "80bfd437-6111-4033-847f-a647ef41282b",
   "metadata": {},
   "source": [
    "#### Ifs Within Elses"
   ]
  },
  {
   "cell_type": "code",
   "execution_count": 8,
   "id": "06fb616f-3670-41c8-abe4-362e6a52115c",
   "metadata": {},
   "outputs": [
    {
     "name": "stdout",
     "output_type": "stream",
     "text": [
      "Purchase not approved; untrusted vendor.\n",
      "Done!\n"
     ]
    }
   ],
   "source": [
    "balance = 20.0  \n",
    "salesTax = 1.08 \n",
    "cardholderName = \"David Joyner\"\n",
    "trustedVendors = [\"Maria's\", \"Bob's\", \"Vrushali's\", \"Ling's\", \"Tia's\"]\n",
    "\n",
    "purchasePrice = 19.0\n",
    "customerName = \"David Joyner\"\n",
    "vendor = \"Freddy's\"\n",
    "overdraftProtection = True\n",
    "\n",
    "#This nested conditional checks whether the balance is less than or\n",
    "#equal to the total price and overdraft protection is not available;\n",
    "#otherwise, whether the cardholder is not also the customer; and\n",
    "#otherwise, whether the vendor is not trusted.\n",
    "if balance <= purchasePrice * salesTax and not overdraftProtection:\n",
    "    print(\"Purchase not approved; no funds or overdraft protection.\")\n",
    "else:\n",
    "    if not cardholderName == customerName:\n",
    "        print(\"Purchase not approved; invalid customer.\")\n",
    "    else:\n",
    "        if not vendor in trustedVendors:\n",
    "            print(\"Purchase not approved; untrusted vendor.\")\n",
    "        else:\n",
    "            print(\"Purchase approved!\")\n",
    "print(\"Done!\")"
   ]
  },
  {
   "cell_type": "markdown",
   "id": "06baca84-ee03-467b-be58-05c484169e68",
   "metadata": {},
   "source": [
    "### Conditionals and Scope"
   ]
  },
  {
   "cell_type": "markdown",
   "id": "b1b56d0a-d619-4050-8241-ffd548c7d0e4",
   "metadata": {},
   "source": [
    "#### Tea Time"
   ]
  },
  {
   "cell_type": "code",
   "execution_count": 9,
   "id": "821cbcf9-b5ed-42c6-a43e-f97f5c2dce3d",
   "metadata": {},
   "outputs": [
    {
     "name": "stdout",
     "output_type": "stream",
     "text": [
      "None\n",
      "free\n"
     ]
    }
   ],
   "source": [
    "mood = \"impatient\"\n",
    "\n",
    "#The correct output if mood is one of the expected moods\n",
    "#(sad, anxious, tired) is the name of the tea and the cost.\n",
    "#The correct output if mood is not one of the expected moods\n",
    "#is None and \"free\".\n",
    "\n",
    "if mood == \"sad\":\n",
    "    tea = \"oolong\"\n",
    "    cost = 3.99\n",
    "elif mood == \"anxious\":\n",
    "    tea = \"green tea\"\n",
    "    cost = 5.45\n",
    "elif mood == \"tired\":\n",
    "    tea = \"english breakfast\"\n",
    "    cost = 4.35\n",
    "else:\n",
    "    tea = None\n",
    "    cost = \"free\"\n",
    "\n",
    "print(tea)\n",
    "print(cost)"
   ]
  },
  {
   "cell_type": "markdown",
   "id": "fbb22fcc-110b-4eef-9450-68e27bd21997",
   "metadata": {},
   "source": [
    "#### Accessing Variables within Conditional"
   ]
  },
  {
   "cell_type": "code",
   "execution_count": 10,
   "id": "33250fe6-5784-4c0e-a231-82f7fdb6ff6b",
   "metadata": {},
   "outputs": [
    {
     "name": "stdout",
     "output_type": "stream",
     "text": [
      "myNum2 is greater than myNum1!\n",
      "Execution complete!\n"
     ]
    }
   ],
   "source": [
    "myNum1 = 1\n",
    "myNum2 = 2\n",
    "#Creates an initial value for result\n",
    "result = \"Result was unchanged.\"    \n",
    "if myNum1 < myNum2:\n",
    "    result = \"myNum2 is greater than myNum1!\" \n",
    "print(result)\n",
    "print(\"Execution complete!\")"
   ]
  },
  {
   "cell_type": "code",
   "execution_count": null,
   "id": "81d3ec56-f174-4269-b9f9-4cc44cd46975",
   "metadata": {},
   "outputs": [],
   "source": []
  }
 ],
 "metadata": {
  "kernelspec": {
   "display_name": "Python 3 (ipykernel)",
   "language": "python",
   "name": "python3"
  },
  "language_info": {
   "codemirror_mode": {
    "name": "ipython",
    "version": 3
   },
   "file_extension": ".py",
   "mimetype": "text/x-python",
   "name": "python",
   "nbconvert_exporter": "python",
   "pygments_lexer": "ipython3",
   "version": "3.9.7"
  }
 },
 "nbformat": 4,
 "nbformat_minor": 5
}
