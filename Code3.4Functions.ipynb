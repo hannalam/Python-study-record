{
 "cells": [
  {
   "cell_type": "markdown",
   "id": "ab869586-25b2-4cfa-bd91-9123e46d7a18",
   "metadata": {},
   "source": [
    "## Code 3.4 Functions"
   ]
  },
  {
   "cell_type": "markdown",
   "id": "fdce239d-7c33-4f28-a317-01ab97e34afa",
   "metadata": {},
   "source": [
    "#### Hide and Seek"
   ]
  },
  {
   "cell_type": "code",
   "execution_count": 1,
   "id": "6ca2108d-7091-4fee-834b-307b2e581072",
   "metadata": {},
   "outputs": [
    {
     "name": "stdout",
     "output_type": "stream",
     "text": [
      "1\n",
      "2\n",
      "3\n",
      "4\n",
      "5\n",
      "6\n",
      "7\n",
      "8\n",
      "9\n",
      "10\n",
      "Ready or not, here I come!\n"
     ]
    }
   ],
   "source": [
    "#Write a function called hide_and_seek. The function should\n",
    "#have no parameters and return no value; instead, when\n",
    "#called, it should just print the numbers from 1 through 10,\n",
    "#follow by the text \"Ready or not, here I come!\". Each\n",
    "#number and the message at the end should be on its own line.\n",
    "#There should be no print statements outside the function.\n",
    "\n",
    "#number = 0\n",
    "def hide_and_seek():\n",
    "    for number in range(1,11):\n",
    "    #number += 1\n",
    "        print(number)\n",
    "    print(\"Ready or not, here I come!\")\n",
    "\n",
    "hide_and_seek()"
   ]
  },
  {
   "cell_type": "code",
   "execution_count": 3,
   "id": "c53675f1-189c-45ed-bdbc-ae76816e80ba",
   "metadata": {},
   "outputs": [
    {
     "name": "stdout",
     "output_type": "stream",
     "text": [
      "1\n",
      "2\n",
      "3\n",
      "4\n",
      "5\n",
      "6\n",
      "7\n",
      "8\n",
      "9\n",
      "10\n",
      "11\n",
      "12\n",
      "13\n",
      "14\n",
      "15\n",
      "16\n",
      "17\n",
      "18\n",
      "19\n",
      "20\n",
      "21\n",
      "22\n",
      "23\n",
      "24\n",
      "25\n",
      "26\n",
      "27\n",
      "28\n",
      "29\n",
      "30\n",
      "31\n",
      "32\n",
      "33\n",
      "34\n",
      "35\n",
      "36\n",
      "Ready or not, here I come!\n"
     ]
    }
   ],
   "source": [
    "#Modify your previous function so that it takes as input one\n",
    "#parameter: count. Then, instead of printing the numbers from\n",
    "#1 to 10, it should print the numbers from 1 to the value of\n",
    "#count. Then, end with \"Ready or not, here I come!\"\n",
    "\n",
    "def hide_and_seek(number):\n",
    "    for i in range(1,number+1):\n",
    "        print(i)\n",
    "    print(\"Ready or not, here I come!\")\n",
    "    \n",
    "hide_and_seek(36)"
   ]
  },
  {
   "cell_type": "markdown",
   "id": "30dc1473-22d6-4878-a248-81a9bc1cf11d",
   "metadata": {},
   "source": [
    "#### Leap Year"
   ]
  },
  {
   "cell_type": "code",
   "execution_count": 4,
   "id": "4b1730e6-807f-4c74-b454-d36dd14bb7dd",
   "metadata": {},
   "outputs": [
    {
     "name": "stdout",
     "output_type": "stream",
     "text": [
      "1993 is a leap year: False\n",
      "1996 is a leap year: True\n",
      "1900 is a leap year: False\n",
      "2000 is a leap year: True\n"
     ]
    }
   ],
   "source": [
    "#A year is considered a leap year if it abides by the following rules:\n",
    "#  - Every 4th year IS a leap year, EXCEPT...\n",
    "#  - Every 100th year is NOT a leap year, EXCEPT...\n",
    "#  - Every 400th year IS a leap year.\n",
    "#\n",
    "#This starts at year 0. For example:\n",
    "#  - 1993 is not a leap year because it is not a multiple of 4.\n",
    "#  - 1996 is a leap year because it is a multiple of 4.\n",
    "#  - 1900 is not a leap year because it is a multiple of 100,\n",
    "#    even though it is a multiple of 4.\n",
    "#  - 2000 is a leap year because it is a multiple of 400,\n",
    "#    even though it is a multiple of 100.\n",
    "#\n",
    "#Write a function called is_leap_year. is_leap_year should\n",
    "#take one parameter: year, an integer. It should return the\n",
    "#boolean True if that year is a leap year, the boolean False if it is not.\n",
    "\n",
    "def is_leap_year(i):\n",
    "    if (i % 4 == 0):\n",
    "        #return True\n",
    "        if (i % 100 == 0):\n",
    "            if(i % 400 == 0):\n",
    "                return True\n",
    "            else:\n",
    "                return False\n",
    "        else:\n",
    "            return True\n",
    "    else:\n",
    "        return False\n",
    "#If your function works correctly, this will originally\n",
    "#print False, True, False, and True, each preceded by the\n",
    "#label \"[year] is a leap year:\".\n",
    "print(\"1993 is a leap year:\", is_leap_year(1993))\n",
    "print(\"1996 is a leap year:\", is_leap_year(1996))\n",
    "print(\"1900 is a leap year:\", is_leap_year(1900))\n",
    "print(\"2000 is a leap year:\", is_leap_year(2000))"
   ]
  },
  {
   "cell_type": "markdown",
   "id": "06df03ed-4a09-4670-a8a6-e76a52d3ac27",
   "metadata": {},
   "source": [
    "#### Ideal Gas Law"
   ]
  },
  {
   "cell_type": "code",
   "execution_count": 5,
   "id": "cba9bb94-9843-4fc1-ac3f-0c5c75a45a7e",
   "metadata": {},
   "outputs": [
    {
     "name": "stdout",
     "output_type": "stream",
     "text": [
      "Result: 48.905972000000006\n"
     ]
    }
   ],
   "source": [
    "#In chemistry, the ideal gas law states:\n",
    "# pressure * volume = # of moles * gas constant * temperature\n",
    "#\n",
    "#This is usually abbreviated to:\n",
    "# PV = nRT\n",
    "#\n",
    "#We can solve this for any of these five variables, but let's\n",
    "#solve it for Pressure. In terms of Pressure, the ideal gas law states:\n",
    "# P = (nRT) / V\n",
    "#\n",
    "#Write a function called find_pressure that takes as input\n",
    "#three variables: number of moles, temperature, and volume.\n",
    "#You can call these variables in the function whatever you\n",
    "#want, but they must be specified in that order: moles, then\n",
    "#temperature, then volume. You should assume all three are\n",
    "#floats. Then, return as output your calculation for\n",
    "#pressure. For the gas constant, you should use the value \n",
    "#0.082057.\n",
    "\n",
    "def find_pressure(n,t,v):\n",
    "    p = ( n * 0.082057 * t ) / v\n",
    "    return p\n",
    "\n",
    "#print: \"Result: 48.905972000000006\". The extra zeroes and\n",
    "#the 6 are rounding errors by Python.\n",
    "test_n = 10\n",
    "test_T = 298\n",
    "test_V = 5\n",
    "print(\"Result:\", find_pressure(test_n, test_T, test_V))"
   ]
  },
  {
   "cell_type": "markdown",
   "id": "e40a157c-7f2d-4a29-82ca-da73a91010cd",
   "metadata": {},
   "source": [
    "#### Phil Jackson "
   ]
  },
  {
   "cell_type": "code",
   "execution_count": 6,
   "id": "4332b484-4b52-4a82-b672-023a493d1ced",
   "metadata": {},
   "outputs": [
    {
     "name": "stdout",
     "output_type": "stream",
     "text": [
      "The Hawks are not a contender!\n"
     ]
    }
   ],
   "source": [
    "#Basketball coach Phil Jackson says that in order for an NBA\n",
    "#team to be a contender for a championship, they need to win\n",
    "#40 games before they lose 20 games.\n",
    "#\n",
    "#Write a function called is_a_contender that will take three\n",
    "#parameters: a team name (a string), a number of wins (an\n",
    "#integer), and a number of losses (an integer).\n",
    "\n",
    "# - If the team is a contender (at least 40 wins and fewer\n",
    "#   than 20 losses), return \"The [team name] are a contender!\"\n",
    "# - If the team is not a contender (less than 40 wins and at least\n",
    "#   20 losses), return \"The [team name] are not a contender!\"\n",
    "# - If it cannot be determined (both values are higher or both\n",
    "#   values are lower), return \"The [team name] might be a contender!\"\n",
    "\n",
    "def is_a_contender(name, wins, losses):\n",
    "    if wins >= 40 and losses <=20:\n",
    "        return (\"The \"+ name+ \" are a contender!\")\n",
    "    elif wins < 40 and losses >= 20:\n",
    "        return (\"The \"+ name+ \" are not a contender!\")\n",
    "    else:\n",
    "        return (\"The \"+ name+ \" might be a contender!\")\n",
    "    \n",
    "#If your function works correctly, this will originally\n",
    "#print: \"The Hawks are not a contender!\".\n",
    "\n",
    "test_team_name = \"Hawks\"\n",
    "test_wins = 18\n",
    "test_losses = 40\n",
    "\n",
    "print(is_a_contender(test_team_name, test_wins, test_losses))"
   ]
  },
  {
   "cell_type": "markdown",
   "id": "d60ad5d1-43cd-4e4a-86e1-b57c96bcc381",
   "metadata": {},
   "source": [
    "#### Blood Pressure"
   ]
  },
  {
   "cell_type": "code",
   "execution_count": 7,
   "id": "67247cfe-ac89-4ba6-9e9b-b503286ee164",
   "metadata": {},
   "outputs": [
    {
     "name": "stdout",
     "output_type": "stream",
     "text": [
      "Ideal\n"
     ]
    }
   ],
   "source": [
    "#Consult this blood pressures chart: http://bit.ly/2CloACs\n",
    "#\n",
    "#Write a function called check_blood_pressure that takes two\n",
    "#parameters: a systolic blood pressure and a diastolic blood\n",
    "#pressure, in that order. Your function should return \"Low\",\n",
    "#\"Ideal\", \"Pre-high\", or \"High\" -- whichever corresponds to\n",
    "#the given systolic and diastolic blood pressure.\n",
    "#\n",
    "#You should assume that if a combined blood pressure is on the\n",
    "#line between two categories (e.g. 80 and 60, or 120 and 70),\n",
    "#the result should be the higher category (e.g. Ideal and\n",
    "#Pre-high for those two combinations).\n",
    "\n",
    "def check_blood_pressure(s,d):\n",
    "    if s <= 90 and d <= 60:\n",
    "        return (\"Low\")\n",
    "    elif s <= 120 and d <=80:\n",
    "        return (\"Ideal\")\n",
    "    elif s <=140 and d <= 90:\n",
    "        return (\"Pre-high\")\n",
    "    else:\n",
    "        return (\"High\")\n",
    "    \n",
    "#print: Ideal\n",
    "test_systolic = 110\n",
    "test_diastolic = 70\n",
    "\n",
    "print(check_blood_pressure(test_systolic, test_diastolic))"
   ]
  },
  {
   "cell_type": "code",
   "execution_count": null,
   "id": "4a9eaef3-a1da-43e4-bcec-6a0350a55fdd",
   "metadata": {},
   "outputs": [],
   "source": []
  }
 ],
 "metadata": {
  "kernelspec": {
   "display_name": "Python 3 (ipykernel)",
   "language": "python",
   "name": "python3"
  },
  "language_info": {
   "codemirror_mode": {
    "name": "ipython",
    "version": 3
   },
   "file_extension": ".py",
   "mimetype": "text/x-python",
   "name": "python",
   "nbconvert_exporter": "python",
   "pygments_lexer": "ipython3",
   "version": "3.9.7"
  }
 },
 "nbformat": 4,
 "nbformat_minor": 5
}
