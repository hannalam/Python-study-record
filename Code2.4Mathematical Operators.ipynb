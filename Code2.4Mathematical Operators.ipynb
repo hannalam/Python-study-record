{
 "cells": [
  {
   "cell_type": "markdown",
   "id": "fa0639c8-c72a-4bd2-85ea-ce753331c75e",
   "metadata": {},
   "source": [
    "## Code 2.4 Mathematical Operators"
   ]
  },
  {
   "cell_type": "markdown",
   "id": "d3f4b3f1-9e0a-4dd8-a98e-481ac70df4b7",
   "metadata": {},
   "source": [
    "#### Quotient Remainder Preview"
   ]
  },
  {
   "cell_type": "code",
   "execution_count": 1,
   "id": "e756c154-540e-40ae-9437-4570665921d1",
   "metadata": {},
   "outputs": [
    {
     "name": "stdout",
     "output_type": "stream",
     "text": [
      "2\n",
      "1\n"
     ]
    }
   ],
   "source": [
    "dividend = 7\n",
    "divisor = 3\n",
    "\n",
    "#The quotient should be the\n",
    "#whole number, not the decimal number: for example, with the\n",
    "#original values of dividend and divisor (7 and 3), your code\n",
    "#should print 2, then 1: 3 goes into 7 two whole times, with\n",
    "#one left over.\n",
    "\n",
    "print(dividend // divisor)\n",
    "print(dividend % divisor)"
   ]
  },
  {
   "cell_type": "markdown",
   "id": "66945c3b-fcc5-4a44-8129-b1df528c40fa",
   "metadata": {},
   "source": [
    "#### Making Change"
   ]
  },
  {
   "cell_type": "code",
   "execution_count": 2,
   "id": "0b723bdb-653e-44e1-a2d2-e2ff4518b1bc",
   "metadata": {},
   "outputs": [
    {
     "name": "stdout",
     "output_type": "stream",
     "text": [
      "Quarters: 2\n",
      "Dimes: 1\n",
      "Nickels: 1\n",
      "Pennies: 2\n"
     ]
    }
   ],
   "source": [
    "amount = 67\n",
    "\n",
    "#Write a program that will print out the coins needed to\n",
    "#arrive at the amount shown above. Assume that we always want\n",
    "#the maximum number of large coins: for example, for 67 cents,\n",
    "#we want 2 quarters, 1 dime, 1 nickel, and 2 pennies instead\n",
    "#of 6 dimes and 7 pennies.\n",
    "#\n",
    "#If you are unfamiliar with American currency: a quarter is\n",
    "#worth 25 cents; a dime is worth 10 cents; a nickel is worth\n",
    "#5 cents; a penny is worth 1 cent.\n",
    "\n",
    "quarters = amount // 25\n",
    "dimes =  amount % 25 // 10\n",
    "nickels = amount % 25 % 10 // 5\n",
    "pennies = amount % 25 % 10 % 5 //1\n",
    "\n",
    "#If your code above is correct, the following lines will\n",
    "#initially print (for amount = 67):\n",
    "#Quarters: 2\n",
    "#Dimes: 1\n",
    "#Nickels: 1\n",
    "#Pennies: 2\n",
    "print(\"Quarters:\", quarters)\n",
    "print(\"Dimes:\", dimes)\n",
    "print(\"Nickels:\", nickels)\n",
    "print(\"Pennies:\", pennies)\n"
   ]
  },
  {
   "cell_type": "markdown",
   "id": "e0ac4491-01b5-4ae5-9551-6caaab16fc7f",
   "metadata": {},
   "source": [
    "#### Tip Tax Calculator"
   ]
  },
  {
   "cell_type": "code",
   "execution_count": 3,
   "id": "5e5130b1-8211-405c-926f-7e3cb33f8da9",
   "metadata": {},
   "outputs": [
    {
     "name": "stdout",
     "output_type": "stream",
     "text": [
      "Subtotal: 10.0\n",
      "Tax: 0.8\n",
      "Tip: 2.0\n",
      "Total: 12.8\n"
     ]
    }
   ],
   "source": [
    "meal_cost = 10.0\n",
    "tax_rate = 0.08\n",
    "tip_rate = 0.20\n",
    "\n",
    "#When eating at a restaurant in the United States, it's\n",
    "#customary to have two percentage-based surcharges added on\n",
    "#top of your bill: sales tax and tip. These percentages are\n",
    "#both applies to the original cost of the meal. For example,\n",
    "#a 10.00 meal with 8% sales tax and 20% tip would add 0.80\n",
    "#for tax (0.08 * 10.00) and 2.00 for tip (0.20 * 10.00).\n",
    "\n",
    "#The receipt should look like this:\n",
    "#Subtotal: 10.00\n",
    "#Tax: 0.8\n",
    "#Tip: 2.0\n",
    "#Total: 12.8\n",
    "#\n",
    "#Subtotal is the original value of meal_cost, tax is the\n",
    "#tax rate times the meal cost, tip is the tip rate times\n",
    "#the meal cost, and total is the sum of all three numbers.\n",
    "\n",
    "print(\"Subtotal:\", meal_cost)\n",
    "print(\"Tax:\", meal_cost * tax_rate )\n",
    "print(\"Tip:\", meal_cost * tip_rate )\n",
    "total = meal_cost + meal_cost * tax_rate + meal_cost * tip_rate\n",
    "print(\"Total:\", total)"
   ]
  },
  {
   "cell_type": "markdown",
   "id": "76422704-371c-4f1a-94f5-2ecc26f73113",
   "metadata": {},
   "source": [
    "#### Pokemon Damage"
   ]
  },
  {
   "cell_type": "code",
   "execution_count": 4,
   "id": "ad7fbcdb-e64b-427d-949d-23cf4bc563db",
   "metadata": {},
   "outputs": [
    {
     "name": "stdout",
     "output_type": "stream",
     "text": [
      "16.0\n"
     ]
    }
   ],
   "source": [
    "STAB = 1\n",
    "Type = 0.25\n",
    "Critical = 2\n",
    "Other = 1\n",
    "Random = 1\n",
    "Level = 50\n",
    "Attack = 125\n",
    "Defense = 110\n",
    "Base = 60\n",
    "\n",
    "#In the Pokemon game franchise, damage is calculated using this formula:\n",
    "#https://studio.edx.org/asset-v1:GTx+CS1301+1T2017+type@asset+block@DamageCalc.png\n",
    "#\n",
    "#In that formula, the variable Modifier is calculated using this formula:\n",
    "#https://studio.edx.org/asset-v1:GTx+CS1301+1T2017+type@asset+block@ModifierCalc.png\n",
    "#\n",
    "#Add code below such that the program prints the total damage\n",
    "#caused based on the STAB, Type, Critical, Other, Random,\n",
    "#Level, Attack, Defense, and Base given above.\n",
    "\n",
    "modifier = STAB * Type * Critical * Other * Random\n",
    "damage = (((2 * Level + 10 )/250) * (Attack/Defense) * Base + 2 ) *modifier\n",
    "\n",
    "print(damage)"
   ]
  },
  {
   "cell_type": "markdown",
   "id": "2d8e8f7e-85eb-423b-a69d-903f6ec5a847",
   "metadata": {},
   "source": [
    "#### Continually Compounding Interest"
   ]
  },
  {
   "cell_type": "code",
   "execution_count": 5,
   "id": "5de98e98-02b5-48ea-9a9a-afec8b9906c4",
   "metadata": {},
   "outputs": [
    {
     "name": "stdout",
     "output_type": "stream",
     "text": [
      "After 5 years invested with a 0.05 interest rate, a $5000 investment will be worth $6420.13.\n"
     ]
    }
   ],
   "source": [
    "principal = 5000\n",
    "rate = 0.05\n",
    "time = 5\n",
    "\n",
    "#One important formula in finance and accounting is the\n",
    "#formula for continually compounding interest. This formula\n",
    "#takes as input an amount of money invested, an interest\n",
    "#rate, and an amount of time (in years), and returns the\n",
    "#value of the investment after that period of time.\n",
    "#\n",
    "#The formula is:\n",
    "#\n",
    "#   amount = principal * e ^ (rate * time)\n",
    "#\n",
    "\n",
    "import math\n",
    "\n",
    "amount = principal * math.e ** (rate * time)\n",
    "\n",
    "print(\"After \" + str(time) + \" years invested with a \" + str(rate) + \" interest rate, a $\" + str(principal) + \" investment will be worth $\" + str(round(amount, 2)) + \".\")"
   ]
  },
  {
   "cell_type": "code",
   "execution_count": null,
   "id": "62ac2a86-3652-4143-a228-fa9f4cd1dfe5",
   "metadata": {},
   "outputs": [],
   "source": []
  }
 ],
 "metadata": {
  "kernelspec": {
   "display_name": "Python 3 (ipykernel)",
   "language": "python",
   "name": "python3"
  },
  "language_info": {
   "codemirror_mode": {
    "name": "ipython",
    "version": 3
   },
   "file_extension": ".py",
   "mimetype": "text/x-python",
   "name": "python",
   "nbconvert_exporter": "python",
   "pygments_lexer": "ipython3",
   "version": "3.9.7"
  }
 },
 "nbformat": 4,
 "nbformat_minor": 5
}
