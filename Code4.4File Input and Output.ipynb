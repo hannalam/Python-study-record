{
 "cells": [
  {
   "cell_type": "markdown",
   "id": "cb5c967e-c5d4-4ae4-bf13-258499557cad",
   "metadata": {},
   "source": [
    "## Code 4.4 File Input and Output"
   ]
  },
  {
   "cell_type": "code",
   "execution_count": null,
   "id": "dd4813b1-6f61-457e-babf-269ecf6a678d",
   "metadata": {},
   "outputs": [],
   "source": []
  }
 ],
 "metadata": {
  "kernelspec": {
   "display_name": "Python 3 (ipykernel)",
   "language": "python",
   "name": "python3"
  },
  "language_info": {
   "codemirror_mode": {
    "name": "ipython",
    "version": 3
   },
   "file_extension": ".py",
   "mimetype": "text/x-python",
   "name": "python",
   "nbconvert_exporter": "python",
   "pygments_lexer": "ipython3",
   "version": "3.9.7"
  }
 },
 "nbformat": 4,
 "nbformat_minor": 5
}
