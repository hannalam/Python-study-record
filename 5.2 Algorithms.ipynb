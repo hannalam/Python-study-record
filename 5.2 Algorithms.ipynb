{
 "cells": [
  {
   "cell_type": "markdown",
   "id": "8d4d0ea2-ece0-4e11-b5f5-820db6a52f7c",
   "metadata": {},
   "source": [
    "## 5.2 Algorithms"
   ]
  },
  {
   "cell_type": "markdown",
   "id": "227dda22-647b-42d5-91a4-ef5ae3050902",
   "metadata": {},
   "source": [
    "#### Algorithm: \n",
    "Technically, a collection of steps that transforms input into output; commonly, a complex set of lots of steps that is only feasible to perform with the efficiency of a computer."
   ]
  },
  {
   "cell_type": "markdown",
   "id": "241a8a7e-8555-48c9-8c7f-02be72925518",
   "metadata": {},
   "source": [
    "#### Complexity: \n",
    "The rate at which the number of operations requires to run an algorithm grows based on the value of the input on which it operates."
   ]
  },
  {
   "cell_type": "markdown",
   "id": "11e4494c-30a4-4efd-9fac-f22593189dad",
   "metadata": {},
   "source": [
    "#### Big O Notation: \n",
    "A notation for expressing the worst-case efficiency of an algorithm in terms of the size of the input."
   ]
  },
  {
   "cell_type": "markdown",
   "id": "be3cec3d-0c36-4750-93e1-2a547128257a",
   "metadata": {},
   "source": [
    "There also exist Big Ω (Omega) Notation, which expresses the best-case efficiency of an algorithm, and Big θ (Theta) Notation, which expresses the typical-case efficiency of an algorithm. Big O is used most commonly."
   ]
  },
  {
   "cell_type": "markdown",
   "id": "0bc25cec-ee95-42d4-9a38-92281086f961",
   "metadata": {},
   "source": [
    "These various values exist, though, because some algorithms are generally very efficiency, but are very inefficient with certain types of data. For example, there exists a sorting algorithm called QuickSort that is generally extremely efficient, but whose efficiency plummets if there are a lot of duplicate values in the data set that it's sorting."
   ]
  },
  {
   "cell_type": "markdown",
   "id": "58257a1c-9174-4a2c-9c35-002d252201cf",
   "metadata": {},
   "source": [
    "#### Recursion: \n",
    "A programming method characterized by functions that, during their operation, call additional copies of themselves; see also, recursion. Recursion involves breaking down a problem into smaller instances recursively until each of them can be independently solved. Solutions to these smaller instances combine to form the solution for the original problem."
   ]
  },
  {
   "cell_type": "markdown",
   "id": "ef8e787b-b566-4950-acd5-abdea45e6082",
   "metadata": {},
   "source": [
    "#### Factorial"
   ]
  },
  {
   "cell_type": "code",
   "execution_count": 1,
   "id": "86de93b1-fa8c-4fa9-8633-04f5b92225e5",
   "metadata": {},
   "outputs": [
    {
     "name": "stdout",
     "output_type": "stream",
     "text": [
      "5! is 120\n",
      "10! is 3628800\n"
     ]
    }
   ],
   "source": [
    "def factorial(n):\n",
    "    #What do we want to do inside the function? Well, there\n",
    "    #are two cases. First, if n is 1, we just want to return #1. After all, 1! is 1.\n",
    "    \n",
    "    if n == 1:\n",
    "        return 1 \n",
    "    #What if n doesn't equal 1, though? Then we want to\n",
    "    #return n times the factorial of (n - 1). After all, #5! = 5 * 4!, 4! = 4 * 3!, etc.   \n",
    "    else:\n",
    "        return n * factorial(n - 1)\n",
    "    \n",
    "    #If n is greater than 1, then it multiplies 1 by the\n",
    "    #factorial of n - 1, as calculated with the same\n",
    "    #function. Every time factorial() runs, n decreases\n",
    "    #by 1, which guarantees that eventually, n will equal #1.\n",
    "\n",
    "print(\"5! is\", factorial(5))\n",
    "print(\"10! is\", factorial(10))"
   ]
  },
  {
   "cell_type": "markdown",
   "id": "19bde5f9-48e1-4d28-a774-29a66db92759",
   "metadata": {},
   "source": [
    "#### Count Down"
   ]
  },
  {
   "cell_type": "code",
   "execution_count": 2,
   "id": "3afb112d-0d29-4cd0-b0fd-ae9ef3d1dfc6",
   "metadata": {},
   "outputs": [
    {
     "name": "stdout",
     "output_type": "stream",
     "text": [
      "5\n",
      "4\n",
      "3\n",
      "2\n",
      "1\n",
      "0\n"
     ]
    }
   ],
   "source": [
    "def count_down(start):\n",
    "    #If we've reached 0 already, print 0 but do not call another copy\n",
    "    if start <= 0:\n",
    "        print(start)\n",
    "    #If we haven't reached 0 yet, print the current number,\n",
    "    #then call count_down with the current number minus 1.\n",
    "    else:\n",
    "        print(start)\n",
    "        count_down(start - 1)\n",
    "        \n",
    "#Do not modify the code above. Fill in the function below to do the same as the function\n",
    "#above, but without recursion. You could use for loops, while loops, or some other approach.\n",
    "def count_down2(start):\n",
    "    if start <= 0:\n",
    "        print(start)\n",
    "    else:\n",
    "        print(start)\n",
    "        count_down(start - 1)\n",
    "        \n",
    "#print: 5, 4, 3, 2, 1, 0, each on their own line.\n",
    "count_down2(5)"
   ]
  },
  {
   "cell_type": "markdown",
   "id": "96bf0792-fa97-450a-89f9-77dd952377c6",
   "metadata": {},
   "source": [
    "#### Fibonacci"
   ]
  },
  {
   "cell_type": "code",
   "execution_count": 3,
   "id": "56c49099-23f3-40e3-b6c1-eb732e509477",
   "metadata": {},
   "outputs": [
    {
     "name": "stdout",
     "output_type": "stream",
     "text": [
      "fib(5) is 5\n",
      "fib(10) is 55\n"
     ]
    }
   ],
   "source": [
    "def fib(n):\n",
    "    #What do we want to do inside the function? Once again,\n",
    "    #there are really only two cases: either we're looking\n",
    "    #for the first two Fibonacci numbers, or we're not.\n",
    "    #What happens if we're looking for the first two? Well,\n",
    "    #we already know that the 1st and 2nd Fibonacci numbers\n",
    "    #are both 1, so if n == 1 or n == 2, we can go ahead and return 1.\n",
    "    \n",
    "    if n == 1 or n == 2:\n",
    "        return 1\n",
    "    \n",
    "    #What if n doesn't equal 1? For any value for n greater\n",
    "    #than 2, the result should be the sum of the previous\n",
    "    #two numbers. The previous Fibonacci number could then\n",
    "    #be calculated with the same kind of function call, decrementing n by 1 or 2.\n",
    "    \n",
    "    else:\n",
    "        return fib(n - 1) + fib(n - 2)\n",
    "\n",
    "print(\"fib(5) is\", fib(5))\n",
    "print(\"fib(10) is\", fib(10))"
   ]
  },
  {
   "cell_type": "markdown",
   "id": "36992f9b-9efd-4800-b50e-ed70f84d0e20",
   "metadata": {},
   "source": [
    "#### Exponent "
   ]
  },
  {
   "cell_type": "code",
   "execution_count": 4,
   "id": "18a0e433-1772-4fa4-a787-c10bbb6c8da8",
   "metadata": {},
   "outputs": [
    {
     "name": "stdout",
     "output_type": "stream",
     "text": [
      "125\n"
     ]
    }
   ],
   "source": [
    "#We've started a recursive function below called\n",
    "#exponent_calc(). It takes in two integer parameters, base\n",
    "#and expo. It should return the mathematical answer to\n",
    "#base^expo. For example, exponent_calc(5, 3) should return\n",
    "#125: 5^3 = 125.\n",
    "\n",
    "#Hint: Notice the similarity between exponentiation and factorial:\n",
    "#  4! = 4! = 4 * 3!, 3! = 3 * 2!, 2! = 2 * 1\n",
    "#  2^4 = 2 * 2^3, 2^3 = 2 * 2^2, 2^2 = 2 * 2^1, 2^1 = 2 * 2^0\n",
    "\n",
    "def exponent_calc(base, expo):\n",
    "    if expo == 0:\n",
    "        return 1\n",
    "    else:\n",
    "        return base * exponent_calc(base, expo - 1)\n",
    "\n",
    "#print: 125\n",
    "print(exponent_calc(5, 3))"
   ]
  },
  {
   "cell_type": "markdown",
   "id": "e531b8d3-6c22-4ab7-9221-304d5714680f",
   "metadata": {},
   "source": [
    "#### Sorting Algorithms: \n",
    "Algorithms that take as input a list, and produce as output a sorted version of that list. Examples include bubble sort,  insertion sort, selection sort, merge sort, shell sort, quick sort, and heap sort."
   ]
  },
  {
   "cell_type": "markdown",
   "id": "55a24adb-f5c0-4405-aceb-e14f6401c808",
   "metadata": {},
   "source": [
    "https://www.toptal.com/developers/sorting-algorithms"
   ]
  },
  {
   "cell_type": "markdown",
   "id": "fda54c42-b4eb-4b28-8978-e9d9795194ee",
   "metadata": {},
   "source": [
    "Bubble Sort"
   ]
  },
  {
   "cell_type": "markdown",
   "id": "47b5fe44-d875-4496-9efd-87a7618e14cf",
   "metadata": {},
   "source": [
    "Selection Sort"
   ]
  },
  {
   "cell_type": "markdown",
   "id": "7324cdbf-8e11-485c-9439-60f1760864df",
   "metadata": {},
   "source": [
    "Insertion Sort"
   ]
  },
  {
   "cell_type": "markdown",
   "id": "3f3a6607-76ba-4d70-8033-e4ee1ff1d899",
   "metadata": {},
   "source": [
    "Merge Sort"
   ]
  },
  {
   "cell_type": "markdown",
   "id": "ab802382-9145-41b2-802b-75300fddd39f",
   "metadata": {},
   "source": [
    "#### Search Algorithms: \n",
    "Algorithms that take as input a list and a value for which to search, and produce as output the index or indices where that  value was found in the list."
   ]
  },
  {
   "cell_type": "markdown",
   "id": "132ee140-dbb9-4509-b9b0-7df1d0ee901f",
   "metadata": {},
   "source": [
    "Linear Search"
   ]
  },
  {
   "cell_type": "markdown",
   "id": "44e2bf8e-fa8a-4851-8642-206627cb2d11",
   "metadata": {},
   "source": [
    "Binary Search"
   ]
  },
  {
   "cell_type": "markdown",
   "id": "11b5d82b-5d41-4d2a-86a8-6b57550f77b5",
   "metadata": {},
   "source": []
  }
 ],
 "metadata": {
  "kernelspec": {
   "display_name": "Python 3 (ipykernel)",
   "language": "python",
   "name": "python3"
  },
  "language_info": {
   "codemirror_mode": {
    "name": "ipython",
    "version": 3
   },
   "file_extension": ".py",
   "mimetype": "text/x-python",
   "name": "python",
   "nbconvert_exporter": "python",
   "pygments_lexer": "ipython3",
   "version": "3.9.7"
  }
 },
 "nbformat": 4,
 "nbformat_minor": 5
}
