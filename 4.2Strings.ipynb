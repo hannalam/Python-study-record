{
 "cells": [
  {
   "cell_type": "markdown",
   "id": "e4befefa-6f70-4f6a-95ca-4b0737e2197b",
   "metadata": {},
   "source": [
    "## 4.2 Strings"
   ]
  },
  {
   "cell_type": "markdown",
   "id": "40c411be-474d-4f6c-8b05-5820f1829293",
   "metadata": {},
   "source": [
    "String: A data structure that holds a list, or a string, of characters."
   ]
  },
  {
   "cell_type": "markdown",
   "id": "d66aa735-451f-4d6c-983f-5f24d84a1efd",
   "metadata": {},
   "source": [
    "Character: A single letter, number, symbol, or special character."
   ]
  },
  {
   "cell_type": "markdown",
   "id": "2f1bbe1f-2c1d-44ea-83b2-3aca226fb185",
   "metadata": {},
   "source": [
    "Unicode: A computing industry standard that sets what hexadecimal codes correspond to what characters, so that text appears consistent across platforms."
   ]
  },
  {
   "cell_type": "markdown",
   "id": "778f74ca-016a-4d9c-8377-9e232a9b3154",
   "metadata": {},
   "source": [
    "Hexadecimal: A short-hand expression of the ones and zeroes that comprise computer data, comprised of 16 characters, 0 through 9 and A through F."
   ]
  },
  {
   "cell_type": "markdown",
   "id": "b6af9d60-ee26-4840-a26c-94bdd3bc6414",
   "metadata": {},
   "source": [
    "Newline Character: A Unicode character, either LF (line feed) or CR (carriage return), that is rendered as the beginning of a new line of text."
   ]
  },
  {
   "cell_type": "markdown",
   "id": "b5758d90-d0da-4d1a-aaf9-dcdd82904a7b",
   "metadata": {},
   "source": [
    "#### Steps"
   ]
  },
  {
   "cell_type": "code",
   "execution_count": 2,
   "id": "6ea43a1e-7a76-4edc-99f6-d8af2fabb41c",
   "metadata": {},
   "outputs": [
    {
     "name": "stdout",
     "output_type": "stream",
     "text": [
      "111\n",
      "\t222\n",
      "\t\t333\n"
     ]
    }
   ],
   "source": [
    "#Write a function called \"steps\" that should return a string \n",
    "#that, if printed, looks like this:\n",
    "#\n",
    "#111\n",
    "#\t222\n",
    "#\t\t333\n",
    "#\n",
    "#Note that the characters at the beginning of the second and\n",
    "#third lines must be tabs, not spaces. There should be one\n",
    "#tab on the second line and two on the third line.\n",
    "\n",
    "def steps():\n",
    "    return (\"111\\n\\t222\\n\\t\\t333\")\n",
    "print(steps())"
   ]
  },
  {
   "cell_type": "markdown",
   "id": "4d3f5fa2-d4da-4341-bc60-e4a2b8dbe825",
   "metadata": {},
   "source": [
    "#### Special Characters"
   ]
  },
  {
   "cell_type": "code",
   "execution_count": 3,
   "id": "d8a97936-5dfd-4482-94a2-6fef4a844e89",
   "metadata": {},
   "outputs": [
    {
     "name": "stdout",
     "output_type": "stream",
     "text": [
      "12345\n",
      "67890\n"
     ]
    }
   ],
   "source": [
    "myStringWithNewline = \"12345\\n67890\"\n",
    "print(myStringWithNewline)"
   ]
  },
  {
   "cell_type": "markdown",
   "id": "05b6c2fa-6168-4319-bfee-4f58e003c3a8",
   "metadata": {},
   "source": [
    "### String Concatenation and Slicing"
   ]
  },
  {
   "cell_type": "markdown",
   "id": "58f626bc-7e60-4869-abbc-c5813a4743c8",
   "metadata": {},
   "source": [
    "String Concatenation: The process of putting two or more strings together in order to form one string made of the individual strings. For example, concatenating “A” with “B” would give “AB”."
   ]
  },
  {
   "cell_type": "markdown",
   "id": "072c03a0-426b-4735-8ceb-f8dd33274a02",
   "metadata": {},
   "source": [
    "String Slicing: The Python term for obtaining substrings from within a string based on character indices."
   ]
  },
  {
   "cell_type": "markdown",
   "id": "de649d76-5dbb-4a97-a842-168ebb7ede70",
   "metadata": {},
   "source": [
    "Zero-Indexing: A convention in most programming languages where the first item of a list of items is considered the “0th” item, not the 1st item."
   ]
  },
  {
   "cell_type": "markdown",
   "id": "0ba424e7-6391-4095-bf40-af000f36b584",
   "metadata": {},
   "source": [
    "#### Align Right"
   ]
  },
  {
   "cell_type": "code",
   "execution_count": 4,
   "id": "6524bcbb-f52d-4b9d-891b-42a60767b1cf",
   "metadata": {},
   "outputs": [
    {
     "name": "stdout",
     "output_type": "stream",
     "text": [
      "    CS1301\n"
     ]
    }
   ],
   "source": [
    "#Write a function called align_right. align_right should\n",
    "#take two parameters: a string (a_string) and an integer\n",
    "#(string_length), in that order.\n",
    "#\n",
    "#The function should return the same string with spaces\n",
    "#added to the left so that the text is \"right aligned\" in a\n",
    "#string. The number of spaces added should make the total\n",
    "#string length equal string_length.\n",
    "#\n",
    "#For example: align_right(\"CS1301\", 10) would return the\n",
    "#string \"    CS1301\". Four spaces are added to the left so\n",
    "#\"CS1301\" is right-aligned and the total string length is\n",
    "#10.\n",
    "\n",
    "def align_right(a_string, string_length):\n",
    "    return \"    \" + a_string\n",
    "\n",
    "#print: \"    CS1301\"\n",
    "print(align_right(\"CS1301\", 10))"
   ]
  },
  {
   "cell_type": "markdown",
   "id": "59efeec6-f145-4fd9-bdfe-9bffc3bf6423",
   "metadata": {},
   "source": [
    "#### String Concatenation"
   ]
  },
  {
   "cell_type": "code",
   "execution_count": 5,
   "id": "8f59025b-465d-40a7-b03a-596c7f45495e",
   "metadata": {},
   "outputs": [
    {
     "name": "stdout",
     "output_type": "stream",
     "text": [
      "Assignment Concatenation: 1234567890\n",
      "In-Line Concatenation: 1234567890\n",
      "Self-Assignment Concatenation: 1234567890\n"
     ]
    }
   ],
   "source": [
    "myString1 = \"12345\"\n",
    "myString2 = \"67890\"\n",
    "myString3 = myString1 + myString2\n",
    "print(\"Assignment Concatenation: \" + myString3)\n",
    "print(\"In-Line Concatenation: \" + myString1 + myString2)\n",
    "myString1 += myString2\n",
    "print(\"Self-Assignment Concatenation: \" + myString1)"
   ]
  },
  {
   "cell_type": "markdown",
   "id": "9c3b8e55-e229-43b9-9944-77342d18201a",
   "metadata": {},
   "source": [
    "#### Last N"
   ]
  },
  {
   "cell_type": "code",
   "execution_count": 6,
   "id": "5eb8d583-ee72-4c2c-b0f6-b7b4e156d81d",
   "metadata": {},
   "outputs": [
    {
     "name": "stdout",
     "output_type": "stream",
     "text": [
      "789\n",
      "saur\n",
      "1\n"
     ]
    }
   ],
   "source": [
    "#Write a function called \"last_n\" that accepts two arguments:\n",
    "#a string search_string and an integer n. The function should\n",
    "#return the last n characters from search_string. If\n",
    "#search_string is shorter than n characters, then it should\n",
    "#return the entire value of search_string.\n",
    "\n",
    "def last_n(search_string, number ):\n",
    "    return search_string[len(search_string) - number:]\n",
    "    \n",
    "#works correctly, this should print 789, saur, and 1.\n",
    "print(last_n(\"123456789\", 3))\n",
    "print(last_n(\"Bulbasaur\", 4))\n",
    "print(last_n(\"1\", 5))"
   ]
  },
  {
   "cell_type": "markdown",
   "id": "7359e6f3-1f2b-4005-b14c-7e58c6444211",
   "metadata": {},
   "source": [
    "#### Scramble"
   ]
  },
  {
   "cell_type": "code",
   "execution_count": 7,
   "id": "c72a5bb1-0ada-4185-a581-b89c1ffd93a8",
   "metadata": {},
   "outputs": [
    {
     "name": "stdout",
     "output_type": "stream",
     "text": [
      "abcd -> cdab\n",
      "abcde -> cdeab\n",
      "railroad -> roadrail\n",
      "fireworks -> worksfire\n"
     ]
    }
   ],
   "source": [
    "#Write a function called \"scramble\" that accepts a string\n",
    "#as an argument and returns a new string. The new string \n",
    "#should start with the last half of the original string\n",
    "#and end with the first half. \n",
    "#\n",
    "#If the length of the string is odd, split the string \n",
    "#at the floor of the length / 2 (in other words, the second\n",
    "#half is the longer half).\n",
    "#\n",
    "#For example:\n",
    "#  scramble(\"abcd\") -> \"cdab\"\n",
    "#  screamble(\"abcde\") -> \"cdeab\"\n",
    "#  scramble(\"railroad\")) -> \"roadrail\"\n",
    "#  scramble(\"fireworks\")) -> \"worksfire\"\n",
    "\n",
    "def scramble(string):\n",
    "    return string[int(len(string)/2):] + string[:int(len(string)/2)]\n",
    "\n",
    "string1 = \"abcd\"\n",
    "string2 = \"abcde\"\n",
    "string3 = \"railroad\"\n",
    "string4 = \"fireworks\"\n",
    "print(string1 + \" -> \" + scramble(string1))\n",
    "print(string2 + \" -> \" + scramble(string2))\n",
    "print(string3 + \" -> \" + scramble(string3))\n",
    "print(string4 + \" -> \" + scramble(string4))"
   ]
  },
  {
   "cell_type": "markdown",
   "id": "1788957a-b97a-4a2d-9088-34f29d66fda4",
   "metadata": {},
   "source": [
    "#### Negative Indices"
   ]
  },
  {
   "cell_type": "code",
   "execution_count": 8,
   "id": "7e6a94d1-e758-4ca9-9e03-9543f1c6c8f1",
   "metadata": {},
   "outputs": [
    {
     "name": "stdout",
     "output_type": "stream",
     "text": [
      "Last two characters: DE\n"
     ]
    }
   ],
   "source": [
    "myString = \"ABCDE\"\n",
    "print(\"Last two characters: \" + myString[len(myString)-2:])"
   ]
  },
  {
   "cell_type": "markdown",
   "id": "8520b9b7-9491-4010-9108-572b8b3bc0c3",
   "metadata": {},
   "source": [
    "#### Fancy Find"
   ]
  },
  {
   "cell_type": "code",
   "execution_count": 10,
   "id": "f5176cb6-71b6-4ad0-b9ea-6e2b4b13aa45",
   "metadata": {},
   "outputs": [
    {
     "name": "stdout",
     "output_type": "stream",
     "text": [
      "DEF found at index 3 !\n",
      "GHI was not found within ABCDEF !\n"
     ]
    }
   ],
   "source": [
    "#Write a function called fancy_find. fancy_find should have\n",
    "#two parameters: search_within and search_for.\n",
    "#\n",
    "#fancy_find should check if search_for is found within the\n",
    "#string search_within. If it is, it should print the message\n",
    "#\"[search_for] found at index [index]!\", with [search_for]\n",
    "#and [index] replaced by the value of search_for and the\n",
    "#index at which it is found. If search_for is not found\n",
    "#within search_within, it should print, \"[search_for] was\n",
    "#not found within [search_within]!\", again with the values\n",
    "#of search_for and search_within.\n",
    "#\n",
    "#For example:\n",
    "#\n",
    "#  fancy_find(\"ABCDEF\", \"DEF\") -> \"DEF found at index 3!\"\n",
    "#  fancy_find(\"ABCDEF\", \"GHI\") -> \"GHI was not found within ABCDEF!\"\n",
    "\n",
    "def fancy_find(search_within, search_for):\n",
    "    if search_for in search_within:\n",
    "        index = search_within.find(search_for)\n",
    "        print (search_for, \"found at index\", index, \"!\")\n",
    "    else:\n",
    "        print (search_for, \"was not found within\", search_within, \"!\")\n",
    "\n",
    "fancy_find(\"ABCDEF\", \"DEF\")\n",
    "fancy_find(\"ABCDEF\", \"GHI\")"
   ]
  },
  {
   "cell_type": "markdown",
   "id": "b7f15030-b69c-4165-93ab-4bec6dbcc906",
   "metadata": {},
   "source": [
    "#### Parameter soft the Find Method"
   ]
  },
  {
   "cell_type": "code",
   "execution_count": 11,
   "id": "8d88981a-97a0-46d5-b408-91b1256944ac",
   "metadata": {},
   "outputs": [
    {
     "name": "stdout",
     "output_type": "stream",
     "text": [
      "2\n",
      "7\n",
      "-1\n",
      "7\n",
      "-1\n"
     ]
    }
   ],
   "source": [
    "myString = \"ABCDEABCDEABCDE\"\n",
    "\n",
    "#Prints the first index of \"CDE\" in myString\n",
    "print(myString.find(\"CDE\")) \n",
    "#Prints the first index of \"CDE\" in myString after 5\n",
    "print(myString.find(\"CDE\", 5)) \n",
    "#Prints the first index of \"CDE\" in myString after 8\n",
    "print(myString.find(\"CDE\", 13)) \n",
    "#Prints the first index of \"CDE\" in myString between 4 and 10\n",
    "print(myString.find(\"CDE\", 4, 10)) \n",
    "#Prints the first index of \"CDE\" in myString between 3 and 6\n",
    "print(myString.find(\"CDE\", 3, 6)) "
   ]
  },
  {
   "cell_type": "markdown",
   "id": "344c6f9f-a96e-4d26-99ef-a004be258173",
   "metadata": {},
   "source": [
    "#### Split"
   ]
  },
  {
   "cell_type": "code",
   "execution_count": 1,
   "id": "851fcbd8-15e9-4092-b572-58d21d7f45f1",
   "metadata": {},
   "outputs": [
    {
     "name": "stdout",
     "output_type": "stream",
     "text": [
      "['This', 'is', 'my', 'text.', 'It', 'has', 'thirteen', 'words.', 'It', 'also', 'has', 'three', 'sentences.']\n"
     ]
    }
   ],
   "source": [
    "myString = \"This is my text. It has thirteen words. It also has three sentences.\"\n",
    "print(myString.split())"
   ]
  },
  {
   "cell_type": "code",
   "execution_count": null,
   "id": "394dedf0-2bef-415f-b68d-69f1595f48e2",
   "metadata": {},
   "outputs": [],
   "source": []
  }
 ],
 "metadata": {
  "kernelspec": {
   "display_name": "Python 3 (ipykernel)",
   "language": "python",
   "name": "python3"
  },
  "language_info": {
   "codemirror_mode": {
    "name": "ipython",
    "version": 3
   },
   "file_extension": ".py",
   "mimetype": "text/x-python",
   "name": "python",
   "nbconvert_exporter": "python",
   "pygments_lexer": "ipython3",
   "version": "3.9.7"
  }
 },
 "nbformat": 4,
 "nbformat_minor": 5
}
