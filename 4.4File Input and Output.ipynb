{
 "cells": [
  {
   "cell_type": "markdown",
   "id": "d0f4df47-81d8-4a61-b08a-cf7f3d839d78",
   "metadata": {},
   "source": [
    "## 4.4 File Input and Output"
   ]
  },
  {
   "cell_type": "markdown",
   "id": "4b6490f5-5e58-4626-855d-a46abf938cf3",
   "metadata": {},
   "source": [
    "##### File Input and Output: The complementary processes of saving data to a file and loading data from a file, generally such that the state of the memory of the program is the same after saving and loading have occurred."
   ]
  },
  {
   "cell_type": "markdown",
   "id": "a9fd3a81-c492-4348-9522-935cdfd947fb",
   "metadata": {},
   "source": [
    "#### Write File"
   ]
  },
  {
   "cell_type": "code",
   "execution_count": 1,
   "id": "834dfe98-8559-48a8-871f-2d1034f6e430",
   "metadata": {},
   "outputs": [],
   "source": [
    "#Write a function called \"write_file\" that accepts two \n",
    "#parameters: a filename and some data that will either \n",
    "#be an integer or a string to write. The function \n",
    "#should open the file and write the data to the file.\n",
    "#\n",
    "#Hints:\n",
    "#\n",
    "# - Don't forget to close the file when you're done!\n",
    "# - If the data isn't a string already, you may need\n",
    "#   to convert it, depending on the approach you\n",
    "#   choose.\n",
    "# - Remember, this code has no print statements, so\n",
    "#   when you run it, don't expect to see any output\n",
    "#   on the right! You could add print statements if\n",
    "#   you want a confirmation the code is done running.\n",
    "# - You can put the variable for the filename in the\n",
    "#   same place where we put text like OutputFile.txt\n",
    "#   in the videos.\n",
    "\n",
    "def write_file(filename, data):\n",
    "    writefile = open(filename, \"w\")\n",
    "    writefile.write(str(data))\n",
    "    writefile.close()\n",
    "    \n",
    "write_file(\"WriteFileOutput.txt\", 1301)"
   ]
  },
  {
   "cell_type": "markdown",
   "id": "cde4336b-14d1-4a25-afa2-b1790ff3d48a",
   "metadata": {},
   "source": [
    "#### Append To File"
   ]
  },
  {
   "cell_type": "code",
   "execution_count": 2,
   "id": "2938414d-14e1-4047-9f9a-597c16fff8f2",
   "metadata": {},
   "outputs": [],
   "source": [
    "#Write a function called \"append_to_file\" that accepts\n",
    "#two parameters: a filename and some data that will\n",
    "#be an integer or a string to write. The function \n",
    "#should open the file and add the data to the end of\n",
    "#the file. Each new call to append_to_file should add\n",
    "#the new contents on a new line.\n",
    "\n",
    "#Write your function here!\n",
    "def append_to_file(filename, data):\n",
    "    outputFile = open(filename, \"a\")   \n",
    "    outputFile.write(str(data) + \"\\n\") \n",
    "    outputFile.close()\n",
    "\n",
    "#if you open AppendToFileOutput.txt, the contents of the file should be another instance of 1301 \n",
    "append_to_file(\"AppendToFileOutput.txt\", 1301)"
   ]
  },
  {
   "cell_type": "markdown",
   "id": "4603211d-f833-4ad5-a0fc-99b6c48abe75",
   "metadata": {},
   "source": [
    "#### Another Way to Output"
   ]
  },
  {
   "cell_type": "code",
   "execution_count": 3,
   "id": "64b5dd36-bd72-4878-8c69-103f90851f75",
   "metadata": {},
   "outputs": [],
   "source": [
    "myList = [\"David\", \"Lucy\", \"Vrushali\", \"Ping\",\n",
    "          \"Natalie\", \"Dana\", \"Addison\", \"Jasmine\"]\n",
    "\n",
    "#Open OutputFile.txt in write mode\n",
    "outputFile = open(\"OutputFile.txt\", \"w\")    \n",
    "\n",
    "#For each name in myList\n",
    "for name in myList: \n",
    "    #Write the name to the file on its own line\n",
    "    print(name, file = outputFile)   \n",
    "\n",
    "outputFile.close()"
   ]
  },
  {
   "cell_type": "code",
   "execution_count": null,
   "id": "7b5cc9d1-2d5b-4f41-95fc-ebd0529bf10a",
   "metadata": {},
   "outputs": [],
   "source": []
  }
 ],
 "metadata": {
  "kernelspec": {
   "display_name": "Python 3 (ipykernel)",
   "language": "python",
   "name": "python3"
  },
  "language_info": {
   "codemirror_mode": {
    "name": "ipython",
    "version": 3
   },
   "file_extension": ".py",
   "mimetype": "text/x-python",
   "name": "python",
   "nbconvert_exporter": "python",
   "pygments_lexer": "ipython3",
   "version": "3.9.7"
  }
 },
 "nbformat": 4,
 "nbformat_minor": 5
}
