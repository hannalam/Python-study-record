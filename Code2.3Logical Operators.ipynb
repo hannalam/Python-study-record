{
 "cells": [
  {
   "cell_type": "markdown",
   "id": "e484343c-38f2-46d3-8a80-c16300597781",
   "metadata": {},
   "source": [
    "## Code 2.3 Logical Operators"
   ]
  },
  {
   "cell_type": "markdown",
   "id": "59b77145-90b3-41ca-8db6-e813688a3dbb",
   "metadata": {},
   "source": [
    "#### ComparingStrings"
   ]
  },
  {
   "cell_type": "code",
   "execution_count": 1,
   "id": "c4661d72-ac21-4753-829f-7187b2f8cc47",
   "metadata": {},
   "outputs": [
    {
     "name": "stdout",
     "output_type": "stream",
     "text": [
      "False\n"
     ]
    }
   ],
   "source": [
    "mystery_string_1 = \"grapes\"\n",
    "mystery_string_2 = \"apples\"\n",
    "\n",
    "#Remember, greater than and less than operators can be used to\n",
    "#compare strings. A string is \"less than\" another string if it\n",
    "#comes earlier when sorted alphabetically.\n",
    "#\n",
    "#This can have some nuances, though, when it comes to\n",
    "#capitalization, punctuation, and spaces.\n",
    "#\n",
    "#Write some code below that will print True if mystery_string_1\n",
    "#comes before mystery_string_2 alphabetically according to\n",
    "#Python, and False if it does not.\n",
    "\n",
    "print(mystery_string_1 < mystery_string_2)"
   ]
  },
  {
   "cell_type": "markdown",
   "id": "a14b1b1c-efae-4a96-a622-cb9ae383d62f",
   "metadata": {},
   "source": [
    "#### Strings In Strings"
   ]
  },
  {
   "cell_type": "code",
   "execution_count": 2,
   "id": "10df229f-d5bc-4d9e-9c10-fc8b5b6a6be3",
   "metadata": {},
   "outputs": [
    {
     "name": "stdout",
     "output_type": "stream",
     "text": [
      "True\n"
     ]
    }
   ],
   "source": [
    "mystery_string = \"Hello, world!\"\n",
    "\n",
    "#The 'in' operator can be used to see if a string of characters\n",
    "#is found within another string of characters, just like it can\n",
    "#be used to find if an item is in a list.\n",
    "#\n",
    "#Above we've created a string with the variable name\n",
    "#mystery_string. Write some code below that will print True\n",
    "#if the string \"world\" appears within mystery_string, and\n",
    "#False if it does not.\n",
    "\n",
    "print('world' in mystery_string)"
   ]
  },
  {
   "cell_type": "markdown",
   "id": "1951ce36-c25a-4e02-ab41-fe2a45f5bd6c",
   "metadata": {},
   "source": [
    "#### Check Sufficient Balance"
   ]
  },
  {
   "cell_type": "code",
   "execution_count": 3,
   "id": "b8cf4f2d-0e3a-43e0-91ab-7c98ec7f1730",
   "metadata": {},
   "outputs": [
    {
     "name": "stdout",
     "output_type": "stream",
     "text": [
      "True\n"
     ]
    }
   ],
   "source": [
    "balance = 20.0\n",
    "price = 19.0\n",
    "\n",
    "#Imagine we're writing some software for a cash register or\n",
    "#credit card processor. We want to approve a purchase if the\n",
    "#customer's balance is greater than or equal to the purchase\n",
    "#price, and reject it otherwise.\n",
    "#\n",
    "#Write some code below that will print True if balance is\n",
    "#greater than or equal to price, and False if it is not.\n",
    "\n",
    "print(balance >= price)"
   ]
  },
  {
   "cell_type": "markdown",
   "id": "251b7754-1433-4a1e-9efb-33a101869d08",
   "metadata": {},
   "source": [
    "#### Jacket String"
   ]
  },
  {
   "cell_type": "code",
   "execution_count": 5,
   "id": "7a1a3943-ce47-49dc-9c3a-14e50d032b39",
   "metadata": {},
   "outputs": [
    {
     "name": "stdout",
     "output_type": "stream",
     "text": [
      "You should wear a jacket today!\n"
     ]
    }
   ],
   "source": [
    "cold = True\n",
    "windy = True\n",
    "\n",
    "#In this problem, we want to print the message, \"You should\n",
    "#wear a jacket today!\" if it's cold or windy, or the message\n",
    "#\"You don't need a jacket today!\" if it's not.\n",
    "#\n",
    "#True (the boolean, not the string) if it's cold or windy,\n",
    "#False if it's neither cold nor windy.\n",
    "\n",
    "need_jacket= (cold or windy)\n",
    "\n",
    "if need_jacket:\n",
    "    print(\"You should wear a jacket today!\")\n",
    "else:\n",
    "    print(\"You don't need a jacket today!\")"
   ]
  }
 ],
 "metadata": {
  "kernelspec": {
   "display_name": "Python 3 (ipykernel)",
   "language": "python",
   "name": "python3"
  },
  "language_info": {
   "codemirror_mode": {
    "name": "ipython",
    "version": 3
   },
   "file_extension": ".py",
   "mimetype": "text/x-python",
   "name": "python",
   "nbconvert_exporter": "python",
   "pygments_lexer": "ipython3",
   "version": "3.9.7"
  }
 },
 "nbformat": 4,
 "nbformat_minor": 5
}
