{
 "cells": [
  {
   "cell_type": "markdown",
   "id": "8aaa7c5f-2fd1-4604-9215-ef228a55277f",
   "metadata": {},
   "source": [
    "## Code 4.3 Lists"
   ]
  },
  {
   "cell_type": "markdown",
   "id": "847e63da-72a9-49c1-aa7b-16127f1d09cf",
   "metadata": {},
   "source": [
    "#### Multiply By Index"
   ]
  },
  {
   "cell_type": "code",
   "execution_count": 1,
   "id": "a6da0a72-1b70-41dd-a41a-b0e67601997b",
   "metadata": {},
   "outputs": [
    {
     "name": "stdout",
     "output_type": "stream",
     "text": [
      "[0, 2, 6, 12, 20]\n",
      "[0, 7, 14, 21, 28, 35, 42]\n",
      "[0, 7, 74, 195, 36, 0, 330]\n"
     ]
    }
   ],
   "source": [
    "#Write a function called multiply_by_index. multiply_by_index\n",
    "#should have one parameter, a list; you may assume every item\n",
    "#in the list will be an integer. multiply_by_index should\n",
    "#return a list where each number in the original list is\n",
    "#multipled by the index at which it appeared.\n",
    "#\n",
    "#For example:\n",
    "#multiply_by_index([1, 2, 3, 4, 5]) -> [0, 2, 6, 12, 20]\n",
    "#\n",
    "#In the example above, the numbers 1, 2, 3, 4, and 5 appear\n",
    "#at indices 0, 1, 2, 3, and 4. 1*0 = 0, 2 * 1 = 2, 3 * 2 = 6,\n",
    "#and so on.\n",
    "\n",
    "def multiply_by_index(list1):\n",
    "    list2 = []\n",
    "    num = -1\n",
    "    mul = 1\n",
    "    for i in list1:\n",
    "        num += 1 \n",
    "        mul = num * i\n",
    "        #print(mul, i, num)\n",
    "        list2.append(mul)\n",
    "    return list2\n",
    "\n",
    "#print:\n",
    "#[0, 2, 6, 12, 20]\n",
    "#[0, 7, 14, 21, 28, 35, 42]\n",
    "#[0, 7, 74, 195, 36, 0, 330]\n",
    "print(multiply_by_index([1, 2, 3, 4, 5]))\n",
    "print(multiply_by_index([7, 7, 7, 7, 7, 7, 7]))\n",
    "print(multiply_by_index([14, 7, 37, 65, 9, 0, 55]))"
   ]
  },
  {
   "cell_type": "markdown",
   "id": "6e8d7de4-a91c-4efc-ae1c-dd58c4db6b10",
   "metadata": {},
   "source": [
    "#### Lucky Sevens"
   ]
  },
  {
   "cell_type": "code",
   "execution_count": 4,
   "id": "05f87f8c-0206-4d7c-8352-cfe5c31641b9",
   "metadata": {},
   "outputs": [
    {
     "name": "stdout",
     "output_type": "stream",
     "text": [
      "True\n",
      "False\n"
     ]
    }
   ],
   "source": [
    "#Write a function, called lucky_sevens, that takes in one\n",
    "#parameter, a list of integers, and returns True if the list\n",
    "#has three '7's  in a row and False if the list doesn't.\n",
    "#\n",
    "#For example:\n",
    "#  lucky_sevens([4, 7, 8, 2, 7, 7, 7, 3, 4]) -> True\n",
    "#  lucky_sevens([4, 7, 7, 2, 8, 3, 7, 4, 3]) -> False\n",
    "#\n",
    "#Hint: As soon as you find one instance of three sevens, you\n",
    "#could go ahead and return True -- you only have to find it\n",
    "#once for it to be True! Then, if you get to the end of the\n",
    "#function and haven't returned True yet, then you might want to return False.\n",
    "\n",
    "def lucky_sevens(numbers):\n",
    "    \n",
    "   seven = [7,7,7]\n",
    "   if str(seven)[1:-1] in str(numbers):\n",
    "        return True \n",
    "   return False\n",
    "#print: True, then False\n",
    "print(lucky_sevens([4, 7, 8, 2, 7, 7, 7, 3, 4]))\n",
    "print(lucky_sevens([4, 7, 7, 2, 8, 3, 7, 4, 3]))"
   ]
  },
  {
   "cell_type": "markdown",
   "id": "94d53c65-6748-495c-805b-e3b331879085",
   "metadata": {},
   "source": [
    "#### Attendance Check"
   ]
  },
  {
   "cell_type": "code",
   "execution_count": 5,
   "id": "af26342a-d171-4dde-81ad-faa14afc818e",
   "metadata": {},
   "outputs": [
    {
     "name": "stdout",
     "output_type": "stream",
     "text": [
      "['Ferguson', 'Winston']\n"
     ]
    }
   ],
   "source": [
    "#Write a function called attendance_check. attendance_check\n",
    "#should have two parameters: roster and present. Both roster\n",
    "#and present will be lists of strings. Return a list (sorted\n",
    "#alphabetically) of all strings in the list roster that are\n",
    "#not in the list present. In other words, if roster is a\n",
    "#list of students enrolled in a class and present is a list\n",
    "#of students in class today, return a list of students that are absent.\n",
    "#\n",
    "#You may assume that every item in each list will be a\n",
    "#string. You may also assume that every name in the list\n",
    "#present will be in the list roster. If no students are absent, return an empty list.\n",
    "\n",
    "def attendance_check(roster, present):\n",
    "    result = []\n",
    "    for s in roster:\n",
    "        if s not  in present:\n",
    "            result.append(s)\n",
    "    result.sort()\n",
    "    return result\n",
    "\n",
    "#print: ['Ferguson', 'Winston']\n",
    "test_roster = ['Jessica', 'Nick', 'Winston', 'Schmidt', 'Cece', 'Ferguson']\n",
    "test_present = ['Nick', 'Cece', 'Schmidt', 'Jessica']\n",
    "print(attendance_check(test_roster, test_present))"
   ]
  },
  {
   "cell_type": "markdown",
   "id": "d44b56f3-23fc-49d1-a647-d49324e43273",
   "metadata": {},
   "source": [
    "#### Scantron"
   ]
  },
  {
   "cell_type": "code",
   "execution_count": 6,
   "id": "b31fce3f-97ad-4227-bca6-0f4c76c66821",
   "metadata": {},
   "outputs": [
    {
     "name": "stdout",
     "output_type": "stream",
     "text": [
      "7\n"
     ]
    }
   ],
   "source": [
    "#Write a function called grade_scantron. grade_scantron should\n",
    "#take as input two lists: answers and key. Each list contain\n",
    "#strings. Each string will be only one letter, a character\n",
    "#from A to E. grade_scantron should return how many questions\n",
    "#the student got \"right\", where a student gets a question\n",
    "#right if their answer for a problem matches the answer key.\n",
    "#\n",
    "#In other words, if value of the first item in answers matches\n",
    "#the value of the first item in key, the student gets a point.\n",
    "#If it does not, the student does not get a point.\n",
    "#\n",
    "#If the lists do not have the same number of items, return\n",
    "#-1 to indicate that the answer key did not belong to the\n",
    "#same test as the student's answers.\\\n",
    "#\n",
    "#Hint: in the past, lots of people have tried to do this using\n",
    "#the index() method. That won't work! You'll need to track the\n",
    "#index yourself.\n",
    "\n",
    "def grade_scantron(answers, key):\n",
    "    point = 0\n",
    "    if len(answers) == len(key):\n",
    "        for (i,j) in zip(answers, key):\n",
    "            #for j in key:\n",
    "            if i == j:\n",
    "                point += 1\n",
    "        return point\n",
    "    else:\n",
    "        return -1\n",
    "    #print (i , j, point)\n",
    "            #else:\n",
    "                #point = -1\n",
    "    #return point, i , j\n",
    "\n",
    "#print: 7\n",
    "test_answers = [\"A\", \"B\", \"B\", \"A\", \"D\", \"A\", \"B\", \"A\", \"E\"]\n",
    "test_key = [\"A\", \"B\", \"B\", \"A\", \"D\", \"E\", \"B\", \"A\", \"D\"]\n",
    "print(grade_scantron(test_answers, test_key))"
   ]
  },
  {
   "cell_type": "markdown",
   "id": "7f53e2e5-aebc-4cb5-b066-23390e4aef15",
   "metadata": {},
   "source": [
    "#### Right Triangle"
   ]
  },
  {
   "cell_type": "code",
   "execution_count": 7,
   "id": "9957134d-5482-4ab6-8de8-d2f94aa95a33",
   "metadata": {},
   "outputs": [
    {
     "name": "stdout",
     "output_type": "stream",
     "text": [
      "(5.0, 0.6435011087932844)\n",
      "(5.0, 36.86989764584402)\n"
     ]
    }
   ],
   "source": [
    "#Write a function called solve_right_triangle. The function\n",
    "#solve_right_triangle should have three parameters: opposite, \n",
    "#adjacent, and use_degrees. opposite and adjacent will be\n",
    "#floats, and use_degrees will be a boolean. use_degrees\n",
    "#should be a keyword parameter, and it should have a\n",
    "#default value of False.\n",
    "#\n",
    "#The function should return a tuple containing the\n",
    "#hypotenuse and angle of the right triangle (in that order).\n",
    "#If use_degrees is False, the angle should be in radians.\n",
    "#If use_degrees is True, the angle should be in degrees.\n",
    "#\n",
    "#Remember, the formula for the hypotenuse of a right\n",
    "#triangle is the square root of the sum of the squared side\n",
    "#lengths. You can find arctan using math.atan(), passing in\n",
    "#the quotient of the opposite and adjacent as the argument.\n",
    "#By default, math.atan() returns the angle in radians; you\n",
    "#can pass that angle as an argument into the math.degrees()\n",
    "#method to convert it to degrees; for example:\n",
    "#\n",
    "# angle_in_degrees = math.degrees(angle_in_radians)\n",
    "\n",
    "import math\n",
    "\n",
    "def solve_right_triangle(opposite, adjacent, use_degrees = False):\n",
    "    side = math.sqrt(opposite**2 + adjacent**2)\n",
    "    angle_in_radians = math.atan(opposite/adjacent )\n",
    "    \n",
    "    if use_degrees == False:\n",
    "        return side, angle_in_radians\n",
    "    else: \n",
    "        angle_in_degrees = math.degrees(angle_in_radians)\n",
    "        return side, angle_in_degrees\n",
    "#print:\n",
    "#(5.0, 0.6435011087932844)\n",
    "#(5.0, 36.86989764584402)\n",
    "print(solve_right_triangle(3.0, 4.0))\n",
    "print(solve_right_triangle(3.0, 4.0, use_degrees = True))"
   ]
  },
  {
   "cell_type": "markdown",
   "id": "75c0429e-bf45-43d5-814f-049f1e7fece7",
   "metadata": {},
   "source": [
    "#### Movie Sales"
   ]
  },
  {
   "cell_type": "code",
   "execution_count": 8,
   "id": "7df28562-4670-4dcc-aeb7-1a9f7df9de0f",
   "metadata": {},
   "outputs": [
    {
     "name": "stdout",
     "output_type": "stream",
     "text": [
      "Rogue One\n"
     ]
    }
   ],
   "source": [
    "#Write a function called find_max_sales. find_max_sales will\n",
    "#have one parameter: a list of tuples. Each tuple in the\n",
    "#list will have two items: a string and an integer. The\n",
    "#string will represent the name of a movie, and the integer\n",
    "#will represent that movie's total ticket sales (in millions of dollars).\n",
    "#\n",
    "#The function should return the movie from the list that\n",
    "#had the most sales. Return only the movie name, not the full tuple.\n",
    "\n",
    "def find_max_sales(movie_list):\n",
    "\n",
    "    current_max_movie=\"\"\n",
    "    current_max_sales=-1\n",
    "    for movie_tuple in movie_list:\n",
    "        if movie_tuple[1] > current_max_sales:\n",
    "            current_max_sales=movie_tuple[1]\n",
    "            current_max_movie=movie_tuple[0]\n",
    "\n",
    "    return current_max_movie\n",
    "\n",
    "#print: Rogue One\n",
    "movie_list = [(\"Finding Dory\", 486), (\"Captain America: Civil War\", 408), (\"Deadpool\", 363), (\"Zootopia\", 341), (\"Rogue One\", 529), (\"The Secret Life of Pets\", 368), (\"Batman v Superman\", 330), (\"Sing\", 268), (\"Suicide Squad\", 325), (\"The Jungle Book\", 364)]\n",
    "print(find_max_sales(movie_list))"
   ]
  },
  {
   "cell_type": "markdown",
   "id": "8667a241-22cb-40e7-80ac-2b93c27cc75b",
   "metadata": {},
   "source": [
    "#### Wish List"
   ]
  },
  {
   "cell_type": "code",
   "execution_count": 9,
   "id": "f8c18def-e1fc-435f-bd66-3b14e206943d",
   "metadata": {},
   "outputs": [
    {
     "name": "stdout",
     "output_type": "stream",
     "text": [
      "You should save up for a bugle!\n"
     ]
    }
   ],
   "source": [
    "#Write a function called wish_list. wish_list should have four parameters, in this order: \n",
    "#\n",
    "# - a list of strings, representing a list of items on a wish list\n",
    "# - a string, representing a particular item\n",
    "# - a float, representing the cost of this item\n",
    "# - a float, representing your budget\n",
    "#\n",
    "#If the item is on the list and you can afford it (cost is\n",
    "#less than or equal to budget), return the string,\n",
    "#\"You should buy a [item name]!\", replacing [item name] with the string.\n",
    "#\n",
    "#If the item is on the list but you can't afford it,\n",
    "#return the string, \"You should save up for a [item name]!\",\n",
    "#replacing [item name] with the string.\n",
    "#\n",
    "#If the item is not on the list, you should return the\n",
    "#string \"You probably don't want to buy a [item name].\",\n",
    "#replacing [item name] with the string.\n",
    "#\n",
    "#HINT: You do not need a loop to solve this. You can use one, but you don't need one.\n",
    "\n",
    "def wish_list(liststr, item, cost, prebudget):\n",
    "    if item in liststr and cost <= prebudget:\n",
    "        return \"You should buy a \"+ item + \"!\"\n",
    "    elif item in liststr and cost > prebudget:\n",
    "        return \"You should save up for a \" + item + \"!\"\n",
    "    elif item not in liststr:\n",
    "        return \"You probably don't want to buy a \" + item + \".\"\n",
    "\n",
    "#print: \"You should save up for a bugle!\"\n",
    "wish_list_items = [\"bugle\", \"trumpet\", \"banjo\", \"tuba\"]\n",
    "selected_item = \"bugle\"\n",
    "item_cost = 199.99\n",
    "budget = 150.00\n",
    "\n",
    "print(wish_list(wish_list_items, selected_item, item_cost, budget))"
   ]
  },
  {
   "cell_type": "markdown",
   "id": "5af16155-17a5-4506-9106-d799ea8b4371",
   "metadata": {},
   "source": [
    "#### Fitbit"
   ]
  },
  {
   "cell_type": "code",
   "execution_count": 11,
   "id": "5a5f32ad-7198-4efc-8bbf-f56d04ec6955",
   "metadata": {},
   "outputs": [
    {
     "name": "stdout",
     "output_type": "stream",
     "text": [
      "114\n"
     ]
    }
   ],
   "source": [
    "#Imagine you're writing some code for an exercise tracker.\n",
    "#The tracker measures heart rate, and should display the\n",
    "#average heart rate from an exercise session.\n",
    "#\n",
    "#However, the tracker doesn't automatically know when the\n",
    "#exercise session began. It assumes the session starts the\n",
    "#first time it sees a heart rate of 100 or more, and ends\n",
    "#the first time it sees one under 100.\n",
    "#\n",
    "#Write a function called average_heart_rate.\n",
    "#average_heart_rate should have one parameter, a list of\n",
    "#integers. These integers represent heart rate measurements\n",
    "#taken 30 seconds apart. average_heart_rate should return\n",
    "#the average of all heart rates between the first 100+\n",
    "#heart rate and the last one. Return this as an integer\n",
    "#(use floor division when calculating the average).\n",
    "#\n",
    "#You may assume that the list will only cross the 100 beats\n",
    "#per minute threshold once: once it goes above 100 and below again, it will not go back above.\n",
    "\n",
    "def average_heart_rate(list1):\n",
    "    sum1 = 0\n",
    "    count = 0\n",
    "    for i in list1:\n",
    "        if i >= 100:\n",
    "            sum1 += i\n",
    "            count += 1\n",
    "    return sum1// count\n",
    "\n",
    "#print 114 (because there are 14 measurements from 102 to 101, their sum is 1609, and 1609 // 14 is 114).\n",
    "beats = [72, 77, 79, 95, 102, 105, 112, 115, 120, 121, 121,\n",
    "         125, 125, 123, 119, 115, 105, 101, 96, 92, 90, 85]\n",
    "print(average_heart_rate(beats))"
   ]
  },
  {
   "cell_type": "markdown",
   "id": "ba6d76c8-12ed-426c-ab51-b9d0c7e0e039",
   "metadata": {},
   "source": [
    "#### Strings In Strings"
   ]
  },
  {
   "cell_type": "code",
   "execution_count": 12,
   "id": "3bdae52e-4726-48cd-9c09-d26205b50480",
   "metadata": {},
   "outputs": [
    {
     "name": "stdout",
     "output_type": "stream",
     "text": [
      "[0, 1, 4]\n",
      "[2, 3]\n",
      "[1, 4]\n",
      "[4]\n",
      "[]\n"
     ]
    }
   ],
   "source": [
    "#Write a function called inside_search. inside_search should\n",
    "#have two parameters: a list of strings and a string to search\n",
    "#for. inside_search should return a list of all the indices at\n",
    "#which the string in the list contains the search string. Note\n",
    "#that the string at that index does not need to BE the search\n",
    "#string, but rather must just contain it.\n",
    "#\n",
    "#For example:\n",
    "#a_list = [\"cat\", \"cats\", \"dog\", \"dogs\", \"catsup\"]\n",
    "#search_term = \"cat\"\n",
    "#inside_search(a_list, search_term) -> [0, 1, 4]\n",
    "#\n",
    "#Note that the strings \"cat\", \"cats\", and \"catsup\" all contain\n",
    "#the search string \"cat\", and thus the result is their indices: [0, 1, 4].\n",
    "#\n",
    "#Make sure the list you return is sorted from lowest index to highest.\n",
    "\n",
    "def inside_search(strlist, strsearch):\n",
    "    newlist = []\n",
    "    for word in strlist:\n",
    "        if strsearch in word:\n",
    "            index = strlist.index(word)\n",
    "            newlist.append(index)\n",
    "    return newlist\n",
    "\n",
    "#print:\n",
    "#[0, 1, 4]\n",
    "#[2, 3]\n",
    "#[1, 4]\n",
    "#[4]\n",
    "#[]\n",
    "cats_and_dogs_list = [\"cat\", \"cats\", \"dog\", \"dogs\", \"catsup\"]\n",
    "print(inside_search(cats_and_dogs_list, \"cat\"))\n",
    "print(inside_search(cats_and_dogs_list, \"dog\"))\n",
    "print(inside_search(cats_and_dogs_list, \"cats\"))\n",
    "print(inside_search(cats_and_dogs_list, \"sup\"))\n",
    "print(inside_search(cats_and_dogs_list, \"aardvark\"))"
   ]
  },
  {
   "cell_type": "markdown",
   "id": "6a33db2c-f465-4635-9449-e143ba7951d2",
   "metadata": {},
   "source": [
    "#### Name Refixer"
   ]
  },
  {
   "cell_type": "code",
   "execution_count": 13,
   "id": "2095d708-c9df-44c2-ab3c-62d613ea8288",
   "metadata": {},
   "outputs": [
    {
     "name": "stdout",
     "output_type": "stream",
     "text": [
      "['Joyner, David Andrew', 'Hart, Melissa Joan', 'Cyrus, Billy Ray']\n"
     ]
    }
   ],
   "source": [
    "#You've been sent a list of names. Unfortunately, the names come in two different formats:\n",
    "#First Middle Last\n",
    "#Last, First Middle\n",
    "#\n",
    "#You want the entire list to be the same. For this problem,\n",
    "#we'll say you want the entire list to be Last, First Middle.\n",
    "#\n",
    "#Write a function called name_refixer. name_refixer should take\n",
    "#as input the list of strings. You may assume that every string\n",
    "#will match one of the two formats above: either First Middle Last or Last, First Middle. \n",
    "#\n",
    "#name_fixer should return a list of names all structured as\n",
    "#Last, First Middle. If the name was already structured as\n",
    "#Last, First Middle, it should remain unchanged. If it was\n",
    "#structured as First Middle Last, then Last should be moved\n",
    "#to the beginning and a comma should be added after it.\n",
    "#\n",
    "#The names should appear in the same order as the original list.\n",
    "#For example:\n",
    "#name_list = [\"David Andrew Joyner\", \"Hart, Melissa Joan\", \"Cyrus, Billy Ray\"]\n",
    "#name_fixer(name_list) -> [\"Joyner, David Andrew\", \"Hart, Melissa Joan\", \"Cyrus, Billy Ray\"]\n",
    "\n",
    "def name_refixer(name_list):\n",
    "    fixed = []\n",
    "    for name in name_list:\n",
    "        if \",\" not in name:\n",
    "            fix = name.split(\" \")\n",
    "            fix = fix[-1]+', '+(' ').join(fix[:len(fix)-1])\n",
    "            fixed.append(fix)\n",
    "        else:\n",
    "            fixed.append(name)\n",
    "    return fixed\n",
    "\n",
    "#print: [\"Joyner, David Andrew\", \"Hart, Melissa Joan\", \"Cyrus, Billy Ray\"]\n",
    "name_list = [\"David Andrew Joyner\", \"Hart, Melissa Joan\", \"Cyrus, Billy Ray\"]\n",
    "print(name_refixer(name_list))"
   ]
  },
  {
   "cell_type": "markdown",
   "id": "ab796746-9a68-4937-9839-a434c59b626d",
   "metadata": {},
   "source": [
    "#### Name Fixer"
   ]
  },
  {
   "cell_type": "code",
   "execution_count": 14,
   "id": "c626da78-0411-41d8-a8ba-a055512adc3c",
   "metadata": {},
   "outputs": [
    {
     "name": "stdout",
     "output_type": "stream",
     "text": [
      "['David Andrew Joyner', 'Melissa Joan Hart', 'Billy Ray Cyrus']\n"
     ]
    }
   ],
   "source": [
    "#You've been sent a list of names. Unfortunately, the names come in two different formats:\n",
    "#First Middle Last\n",
    "#Last, First Middle\n",
    "#\n",
    "#You want the entire list to be the same. For this problem,\n",
    "#we'll say you want the entire list to be First Middle Last.\n",
    "#\n",
    "#Write a function called name_fixer. name_fixer should take\n",
    "#as input the list of strings. You may assume that every string\n",
    "#will match one of the two formats above: either First Middle Last or Last, First Middle. \n",
    "#\n",
    "#name_fixer should return a list of names all structured as\n",
    "#First Middle Last. If the name was already structured as\n",
    "#First Middle Last, it should remain unchanged. If it was\n",
    "#structured as Last, First Middle, then Last should be moved\n",
    "#to the end after a space and the comma removed.\n",
    "#\n",
    "#The names should appear in the same order as the original list.\n",
    "#For example:\n",
    "#name_list = [\"David Andrew Joyner\", \"Hart, Melissa Joan\", \"Cyrus, Billy Ray\"]\n",
    "#name_fixer(name_list) -> [\"David Andrew Joyner\", \"Melissa Joan Hart\", \"Billy Ray Cyrus\"]\n",
    "\n",
    "def name_fixer(list1):\n",
    "    fixed = []\n",
    "    for name in list1:\n",
    "        if \",\" in name:\n",
    "            fix = name.split(\",\")\n",
    "            fix = fix[-1][1:] + \" \" + fix[0]\n",
    "            fixed.append(fix)\n",
    "        else:\n",
    "            fixed.append(name)\n",
    "                      \n",
    "        '''\n",
    "        if \",\" not in name:\n",
    "            fixed.append(name)\n",
    "        else:\n",
    "            fix = name.split(\",\")\n",
    "            fix = fix[-1]+(' ').join(fix[:len(fix) -1])\n",
    "            fixed.append(fix)'''       \n",
    "    return fixed\n",
    "\n",
    "#print: [\"David Andrew Joyner\", \"Melissa Joan Hart\", \"Billy Ray Cyrus\"]\n",
    "name_list = [\"David Andrew Joyner\", \"Hart, Melissa Joan\", \"Cyrus, Billy Ray\"]\n",
    "print(name_fixer(name_list))"
   ]
  },
  {
   "cell_type": "markdown",
   "id": "fd7b18bc-f48a-41e8-946e-33324c9ecf22",
   "metadata": {},
   "source": [
    "#### String Split"
   ]
  },
  {
   "cell_type": "code",
   "execution_count": 15,
   "id": "1120f3dc-ddda-4550-a2d7-948f60350805",
   "metadata": {},
   "outputs": [
    {
     "name": "stdout",
     "output_type": "stream",
     "text": [
      "['Hello', 'world']\n"
     ]
    }
   ],
   "source": [
    "#Write a function called string_splitter that replicates the\n",
    "#function of the string type's split() method, assuming that\n",
    "#we're splitting at spaces. string_splitter should take as\n",
    "#input a string, and return as output a list of the\n",
    "#individual words from the string, assuming that words were\n",
    "#divided by spaces. The spaces themselves should not be in\n",
    "#the list that your function returns.\n",
    "#\n",
    "#You may assume that there will never be more than one space\n",
    "#in a row, and that the string will neither start nor end\n",
    "#with a space. However, you should not assume there will always be a space.\n",
    "#\n",
    "#You may not use Python's built-in split() method.\n",
    "#For example: string_splitter(\"Hello world\") -> ['Hello', 'world']\n",
    "\n",
    "\n",
    "#Write your function here!\n",
    "def string_splitter(string1):\n",
    "    stringlist = []\n",
    "    string = \"\"\n",
    "    \n",
    "    for s in string1:\n",
    "        if s  ==\" \":\n",
    "            stringlist.append(string)\n",
    "            string = \"\"\n",
    "        else:\n",
    "            string+=s\n",
    "    if string:\n",
    "        stringlist.append(string)\n",
    "    else:\n",
    "        pass\n",
    "    return stringlist\n",
    "\n",
    "#print: ['Hello', 'world']\n",
    "print(string_splitter(\"Hello world\"))"
   ]
  },
  {
   "cell_type": "markdown",
   "id": "acd04c9c-f72d-48b5-ba05-73f7cb300ba2",
   "metadata": {},
   "source": [
    "#### Free Body Diagrams"
   ]
  },
  {
   "cell_type": "code",
   "execution_count": 16,
   "id": "36acd8a9-b85c-4c33-8531-4c18238dc96f",
   "metadata": {},
   "outputs": [
    {
     "name": "stdout",
     "output_type": "stream",
     "text": [
      "(87.0, 54.4)\n"
     ]
    }
   ],
   "source": [
    "#A significant part of introductory physics is calculating\n",
    "#the net force on an object based on several different\n",
    "#magnitudes and directions. If you're unfamiliar with how\n",
    "#this works, we recommend checking out this WikiHow article:\n",
    "#https://www.wikihow.com/Find-Net-Force\n",
    "#\n",
    "#Each force acting on the object is defined by its angle and\n",
    "#magnitude. The process for calculating net force is:\n",
    "#\n",
    "# - For each force, break the force into its horizontal and\n",
    "#   vertical components. The horizontal component can be\n",
    "#   calculated as magnitude * cos(angle), and the vertical\n",
    "#   component can be calculated as magnitude * sin(angle).\n",
    "# - Sum all the horizontal components to find the total\n",
    "#   horizontal force, and sum the vertical components to find\n",
    "#   the total vertical force.\n",
    "# - Use the Pythagorean theorem to calculate the total\n",
    "#   magnitude: sqrt(total_horizontal ^ 2 + total_vertical ^ 2)\n",
    "# - Use inverse tangent to calculate the angle:\n",
    "#   atan2(total_vertical, total_horizontal)\n",
    "#\n",
    "#Write a function called find_net_force. find_net_force should\n",
    "#take one parameter as input: a list of 2-tuples. Each 2-tuple\n",
    "#in the list is a (magnitude, angle) pair. angle will be in\n",
    "#degrees between -180 and 180.\n",
    "#\n",
    "#Return a 2-tuple containing the final magnitude and angle of\n",
    "#all the forces. angle should again be in degrees. You should\n",
    "#round both magnitude and angle to one decimal place, which\n",
    "#you can do using round(magnitude, 1) and round(angle, 1).\n",
    "#\n",
    "#To do this, you'll need to use a few functions from the math\n",
    "#module in Python. The line below will import these:\n",
    "\n",
    "from math import sin, cos, tan, asin, acos, atan2, radians, degrees, sqrt\n",
    "\n",
    "#sin, cos, and tan are the trigonometric functions for sine,\n",
    "#cosine, and tangent. Each takes one argument, an angle in\n",
    "#radians, and returns its sine, cosine, or tangent.\n",
    "#\n",
    "#asin, acos, and atan2 are their inverse functions. Each\n",
    "#takes two arguments, a vertical component and a horizontal\n",
    "#component (in that order), and returns the corresponding\n",
    "#angle in radians.\n",
    "#\n",
    "#Note that sin, cos, and tan all assume the angle is in\n",
    "#radians, and asin, acos, and atan2 will all return an\n",
    "#angle in radians. So, you'll need to convert your angles to\n",
    "#radians before or after using these functions, using things\n",
    "#like this: angle_in_radians = radians(angle)\n",
    "#           angle_in_degrees = degrees(angle_in_radians)\n",
    "\n",
    "#sqrt will find the square root of a number, e.g. sqrt(4) = 2.\n",
    "#Note that you should only need sin, cos, atan2, degrees,\n",
    "#radians, and sqrt: we've imported the others just in case you want to use them.\n",
    "\n",
    "def find_net_force(twoTuples):\n",
    "    total_horizontal = 0\n",
    "    total_vertical = 0\n",
    "    \n",
    "    for s in twoTuples:\n",
    "        magnitude = radians(s[0])\n",
    "        angle = radians(s[1])\n",
    "        \n",
    "        total_horizontal += magnitude * cos(angle)\n",
    "        total_vertical += magnitude * sin(angle)\n",
    "\n",
    "    totalMagnitude = sqrt(total_horizontal ** 2 + total_vertical ** 2)\n",
    "    degreeMagnitude = degrees(totalMagnitude)\n",
    "        \n",
    "    totalAngle = atan2(total_vertical, total_horizontal)\n",
    "    degreeAngle = degrees(totalAngle)\n",
    "    \n",
    "    return round(degreeMagnitude, 1), round(degreeAngle, 1)\n",
    "   \n",
    "#print: (87.0, 54.4)\n",
    "forces = [(10, 90), (10, -90), (100, 45), (20, 180)]\n",
    "print(find_net_force(forces))"
   ]
  },
  {
   "cell_type": "markdown",
   "id": "4c42107d-c7b5-4d8f-89f4-e9f40ef2b5b5",
   "metadata": {},
   "source": [
    "#### One D And Or"
   ]
  },
  {
   "cell_type": "code",
   "execution_count": 17,
   "id": "68559d84-2172-4c75-8822-7aac03c54edf",
   "metadata": {},
   "outputs": [
    {
     "name": "stdout",
     "output_type": "stream",
     "text": [
      "True\n",
      "False\n",
      "True\n",
      "False\n"
     ]
    }
   ],
   "source": [
    "#Write a function called one_dimensional_booleans.\n",
    "#one_dimensional_booleans should have two parameters:\n",
    "#a list of booleans called bool_list and a boolean called\n",
    "#use_and. You may assume that bool_list will be a list\n",
    "#where every value is a boolean (True or False).\n",
    "#\n",
    "#The function should perform as follows:\n",
    "# - If use_and is True, the function should return True if\n",
    "#   every item in the list is True (simulating the and operator).\n",
    "# - If use_and is False, the function should return True if\n",
    "#   any item in the list is True (simulating the or operator).\n",
    "\n",
    "def one_dimensional_booleans(bool_list, use_and):\n",
    "    if use_and == True:\n",
    "        if False in bool_list:\n",
    "            return False\n",
    "        else:\n",
    "            return True\n",
    "    elif use_and == False:\n",
    "        if True in bool_list:\n",
    "            return True\n",
    "        else:\n",
    "            return False\n",
    "\n",
    "#print: True, False, True, False.\n",
    "print(one_dimensional_booleans([True, True, True], True))\n",
    "print(one_dimensional_booleans([True, False, True], True))\n",
    "print(one_dimensional_booleans([True, False, True], False))\n",
    "print(one_dimensional_booleans([False, False, False], False))"
   ]
  },
  {
   "cell_type": "code",
   "execution_count": 18,
   "id": "38e92ac8-e7d8-484e-b42f-7d28ae4a2b6c",
   "metadata": {},
   "outputs": [
    {
     "name": "stdout",
     "output_type": "stream",
     "text": [
      "[True, False, False]\n",
      "[True, True, False]\n"
     ]
    }
   ],
   "source": [
    "#Last exercise, you wrote a function called\n",
    "#one_dimensional_booleans that performed some reasoning\n",
    "#over a one-dimensional list of boolean values. Now, let's extend that.\n",
    "#\n",
    "#Imagine you have a two-dimensional list of booleans, like this one:\n",
    "#[[True, True, True], [True, False, True], [False, False, False]]\n",
    "#\n",
    "#Notice the two sets of brackets: this is a list of lists.\n",
    "#We'll call the big list the superlist and each smaller list a sublist.\n",
    "#\n",
    "#Write a function called two_dimensional_booleans that\n",
    "#does the same thing as one_dimensonal_booleans. It should\n",
    "#look at each sublist in the superlist, test it for the\n",
    "#given operator, and then return a list of the results.\n",
    "#\n",
    "#For example, if the list above was called a_superlist, then we'd see these results:\n",
    "# two_dimensional_booleans(a_superlist, True) -> [True, False, False]\n",
    "# two_dimensional_booleans(a_superlist, False) -> [True, True, False]\n",
    "#\n",
    "#When use_and is True, then only the first sublist gets\n",
    "#a value of True. When use_and is False, then the first\n",
    "#and second sublists get values of True in the final list.\n",
    "#\n",
    "#Hint: This problem can be extremely difficult or\n",
    "#extremely simple. Try to use your answer or our\n",
    "#code from the sample answer in the previous problem --\n",
    "#it can make your work a lot easier! You may even want to use multiple functions.\n",
    "\n",
    "'''def two_dimensional_booleans(bool_list, use_and):\n",
    "    if use_and == True:\n",
    "        return [True, False, False]\n",
    "        \n",
    "    elif use_and == False:\n",
    "        return [True, True, False] '''\n",
    "\n",
    "def two_dimensional_booleans(bool_list,use_and):\n",
    "        Result = []\n",
    "        if use_and == True:\n",
    "            for item in bool_list:\n",
    "                if False in item:\n",
    "                    Result.append(False)\n",
    "                else:\n",
    "                    Result.append(True)\n",
    "        else:\n",
    "            for item in bool_list:\n",
    "\n",
    "                if True in item:\n",
    "                    Result.append(True)\n",
    "                else:\n",
    "                   Result.append(False)\n",
    "        return Result\n",
    "#print:\n",
    "#[True, False, False]\n",
    "#[True, True, False]\n",
    "bool_superlist = [[True, True, True], [True, False, True], [False, False, False]]\n",
    "print(two_dimensional_booleans(bool_superlist, True))\n",
    "print(two_dimensional_booleans(bool_superlist, False))"
   ]
  },
  {
   "cell_type": "code",
   "execution_count": null,
   "id": "dc07491d-c84b-465f-8b58-dcefb2902eca",
   "metadata": {},
   "outputs": [],
   "source": []
  }
 ],
 "metadata": {
  "kernelspec": {
   "display_name": "Python 3 (ipykernel)",
   "language": "python",
   "name": "python3"
  },
  "language_info": {
   "codemirror_mode": {
    "name": "ipython",
    "version": 3
   },
   "file_extension": ".py",
   "mimetype": "text/x-python",
   "name": "python",
   "nbconvert_exporter": "python",
   "pygments_lexer": "ipython3",
   "version": "3.9.7"
  }
 },
 "nbformat": 4,
 "nbformat_minor": 5
}
