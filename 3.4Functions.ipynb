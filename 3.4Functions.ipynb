{
 "cells": [
  {
   "cell_type": "markdown",
   "id": "49f2d020-28a1-4c14-8841-b6a20c016acc",
   "metadata": {},
   "source": [
    "## 3.4 Functions"
   ]
  },
  {
   "cell_type": "markdown",
   "id": "5cb36a1d-3e53-4436-b4de-cf08535295af",
   "metadata": {},
   "source": [
    "#### Print Stuff"
   ]
  },
  {
   "cell_type": "code",
   "execution_count": 1,
   "id": "b8f968fe-4935-4e5b-ac49-e2dd3f613bbb",
   "metadata": {},
   "outputs": [
    {
     "name": "stdout",
     "output_type": "stream",
     "text": [
      "Sheee's my cherry pie\n",
      "True\n",
      "84.0\n"
     ]
    }
   ],
   "source": [
    "#  Function 1: the string \"Black Horse and a Cherry Tree\" \n",
    "#  Function 2: no parameters\n",
    "#  Function 3: these five numbers: 80, 80, 95, 86, 79\n",
    "\n",
    "#Function 1\n",
    "def cherry_pie(song):\n",
    "    if (\"Cherry\" in song):\n",
    "        print(\"Sheee's my cherry pie\")\n",
    "    else:\n",
    "        print(\"Huh... must be an American Pie.\")\n",
    "\n",
    "#Function 2\n",
    "def should_I_go_to_Waffle_House():\n",
    "    print(True)\n",
    "\n",
    "#Function 3\n",
    "def average_grades(num1, num2, num3, num4, num5):\n",
    "    sum = num1 + num2 + num3 + num4 + num5\n",
    "    average = sum / 5\n",
    "    print(average)\n",
    "\n",
    "cherry_pie(\"Black Horse and a Cherry Tree\")\n",
    "should_I_go_to_Waffle_House()\n",
    "average_grades(80, 80, 95, 86, 79)"
   ]
  },
  {
   "cell_type": "markdown",
   "id": "eadc978a-87ba-4557-b16d-25e92f8cf778",
   "metadata": {},
   "source": [
    "#### Print Yen"
   ]
  },
  {
   "cell_type": "code",
   "execution_count": 2,
   "id": "0dafc69f-5c37-4421-a1e9-749575bb5594",
   "metadata": {},
   "outputs": [
    {
     "name": "stdout",
     "output_type": "stream",
     "text": [
      "¥5\n"
     ]
    }
   ],
   "source": [
    "#Defines the function \"printYen\"\n",
    "def printYen(): \n",
    "    #Prints \"¥\", without the new line afterward\n",
    "    print(\"¥\", end='')  \n",
    "\n",
    "#Calls the function \"printYen\"\n",
    "printYen()  \n",
    "print(5)    "
   ]
  },
  {
   "cell_type": "markdown",
   "id": "aa9b542c-e0bc-4ec7-8d99-95fc00dccf81",
   "metadata": {},
   "source": [
    "#### Return Date"
   ]
  },
  {
   "cell_type": "code",
   "execution_count": 3,
   "id": "1aa73d7b-e68c-4c5d-9516-1a8d52c89640",
   "metadata": {},
   "outputs": [
    {
     "name": "stdout",
     "output_type": "stream",
     "text": [
      "2022/05/17\n"
     ]
    }
   ],
   "source": [
    "#Write a function called get_todays_date that returns\n",
    "#today's date as a string, in the form year/month/day.\n",
    "#For example, if today is January 15th, 2017, then it\n",
    "#would return 2017/1/15.\n",
    "\n",
    "from datetime import date\n",
    "\n",
    "def get_todays_date():\n",
    "    now = date.today()\n",
    "    return now.strftime(\"%Y/%m/%d\")\n",
    "\n",
    "print(get_todays_date())"
   ]
  },
  {
   "cell_type": "markdown",
   "id": "60a92897-681b-4ab6-bcb6-1a00170af38c",
   "metadata": {},
   "source": [
    "#### Square Area"
   ]
  },
  {
   "cell_type": "code",
   "execution_count": 4,
   "id": "57867e41-93fb-47b9-a598-112d3fcc8063",
   "metadata": {},
   "outputs": [
    {
     "name": "stdout",
     "output_type": "stream",
     "text": [
      "A square with side length 4 has an area of 16\n"
     ]
    }
   ],
   "source": [
    "#Write a function that takes in one integer parameter, the\n",
    "#side length of a square, and returns the area. The function\n",
    "#should be named find_area, and have one parameter:\n",
    "#side_length.\n",
    "\n",
    "def find_area(side_length):\n",
    "    return side_length*side_length\n",
    "\n",
    "#If your function works correctly, this will originally\n",
    "#print: \"A square with side length 4 has an area of 16\".\n",
    "test_side_length = 4\n",
    "print(\"A square with side length\", test_side_length, \"has an area of\", find_area(test_side_length))"
   ]
  },
  {
   "cell_type": "markdown",
   "id": "8e046d9c-37c7-4154-b290-55be67743403",
   "metadata": {},
   "source": [
    "#### My TAs"
   ]
  },
  {
   "cell_type": "code",
   "execution_count": 5,
   "id": "d2da5c6e-0877-4988-82cc-a9f8eb5a24d3",
   "metadata": {},
   "outputs": [
    {
     "name": "stdout",
     "output_type": "stream",
     "text": [
      "Joshua, Jackie, and Marguerite are awesome!\n"
     ]
    }
   ],
   "source": [
    "#Write a function called my_TAs. The function should take as\n",
    "#input three strings: first_TA, second_TA, and third_TA. It\n",
    "#should return as output the string, \"[first_TA], [second_TA],\n",
    "#and [third_TA] are awesome!\", with the values replacing the\n",
    "#variable names.\n",
    "\n",
    "def my_TAs(first_TA, second_TA, third_TA):\n",
    "    return first_TA + \", \"+ second_TA + \", and \" + third_TA +\" are awesome!\"\n",
    "\n",
    "#If your function works correctly, this will originally\n",
    "#print: \"Joshua, Jackie, and Marguerite are awesome!\".\n",
    "test_first_TA = \"Joshua\"\n",
    "test_second_TA = \"Jackie\"\n",
    "test_third_TA = \"Marguerite\"\n",
    "print(my_TAs(test_first_TA, test_second_TA, test_third_TA))"
   ]
  },
  {
   "cell_type": "markdown",
   "id": "3328a2fa-4381-4588-abc8-6d2a310d46c4",
   "metadata": {},
   "source": [
    "#### A Function with Multiple Parame"
   ]
  },
  {
   "cell_type": "code",
   "execution_count": 6,
   "id": "fb5c4369-47b2-498e-a272-cab4327d1323",
   "metadata": {},
   "outputs": [
    {
     "name": "stdout",
     "output_type": "stream",
     "text": [
      "£5\n"
     ]
    }
   ],
   "source": [
    "#Defines the function \"currencyAmount\"\n",
    "def currencyAmount(currency, amount): \n",
    "    if currency == \"JPY\":\n",
    "        return \"¥\" + str(amount)\n",
    "    elif currency == \"USD\":\n",
    "        return \"$\" + str(amount)\n",
    "    elif currency == \"GBP\":\n",
    "        return \"£\" + str(amount)\n",
    "    else:\n",
    "        return str(amount)\n",
    "\n",
    "#Prints the output of currencyAmount(\"GBP\", 5)\n",
    "print(currencyAmount(\"GBP\", 5))    "
   ]
  },
  {
   "cell_type": "markdown",
   "id": "27d4134a-8b8d-4c0f-b2ee-5b178bf0ceee",
   "metadata": {},
   "source": [
    "#### Hello There"
   ]
  },
  {
   "cell_type": "code",
   "execution_count": 7,
   "id": "dd7e846e-0dc0-4ff7-8bdf-aab7557c9f1e",
   "metadata": {},
   "outputs": [
    {
     "name": "stdout",
     "output_type": "stream",
     "text": [
      "Hi Hanna!\n"
     ]
    }
   ],
   "source": [
    "#Write a function called greeting. greeting should have one\n",
    "#parameter, a string representing a name. It should return\n",
    "#a string with the message \"Hi [name]!\", where the value of\n",
    "#the parameter is used in place of [name].\n",
    "\n",
    "# greeting(\"David\") -> \"Hi David!\"\n",
    "\n",
    "def greeting(input_name):\n",
    "    return \"Hi \" + input_name + \"!\"\n",
    "\n",
    "#If your function works correctly, this will originally\n",
    "#print: \"Hi Hanna!\"\n",
    "input_name = \"Hanna\"\n",
    "message = greeting(input_name)\n",
    "print(message)"
   ]
  },
  {
   "cell_type": "markdown",
   "id": "3b1ddb3a-ac99-4fc7-934f-1b60d5a30e15",
   "metadata": {},
   "source": [
    "#### Create Keyword Parameters"
   ]
  },
  {
   "cell_type": "code",
   "execution_count": 8,
   "id": "9d55d569-c486-479c-b778-f0bdba58a2cc",
   "metadata": {},
   "outputs": [
    {
     "name": "stdout",
     "output_type": "stream",
     "text": [
      "$5\n",
      "£5\n"
     ]
    }
   ],
   "source": [
    "#Defines the function \"currencyAmount\"\n",
    "def currencyAmount(amount, currency = \"USD\"): \n",
    "    if currency == \"JPY\":\n",
    "        return \"¥\" + str(amount)\n",
    "    elif currency == \"USD\":\n",
    "        return \"$\" + str(amount)\n",
    "    elif currency == \"GBP\":\n",
    "        return \"£\" + str(amount)\n",
    "    else:\n",
    "        return str(amount)\n",
    "\n",
    "#Prints the output of currencyAmount(5)\n",
    "print(currencyAmount(5))   \n",
    "#Prints the output of currencyAmount(5, currency = \"GBP\") \n",
    "print(currencyAmount(5, currency = \"GBP\"))  "
   ]
  },
  {
   "cell_type": "code",
   "execution_count": null,
   "id": "f5ccfea8-5aa8-4753-92c5-bd0a5250dd53",
   "metadata": {},
   "outputs": [],
   "source": []
  }
 ],
 "metadata": {
  "kernelspec": {
   "display_name": "Python 3 (ipykernel)",
   "language": "python",
   "name": "python3"
  },
  "language_info": {
   "codemirror_mode": {
    "name": "ipython",
    "version": 3
   },
   "file_extension": ".py",
   "mimetype": "text/x-python",
   "name": "python",
   "nbconvert_exporter": "python",
   "pygments_lexer": "ipython3",
   "version": "3.9.7"
  }
 },
 "nbformat": 4,
 "nbformat_minor": 5
}
