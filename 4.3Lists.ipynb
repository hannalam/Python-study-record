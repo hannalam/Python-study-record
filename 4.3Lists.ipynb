{
 "cells": [
  {
   "cell_type": "markdown",
   "id": "a00be48f-ead6-459b-9e1a-679618479770",
   "metadata": {},
   "source": [
    "## 4.3 Lists"
   ]
  },
  {
   "cell_type": "markdown",
   "id": "13fa6f1b-ba3a-4010-b78d-895b8f9fdd39",
   "metadata": {},
   "source": [
    "List-like Structures: Also referred to as sequences and collections, a data structure that holds multiple individual values gathered together under one variable name, accessed via indices. Includes to lists, arrays, and tuples. Lists are simultaneously a type of data structure and a specific type in some languages."
   ]
  },
  {
   "cell_type": "markdown",
   "id": "9ba6dd9c-6f69-48de-b4cc-ee10134346e4",
   "metadata": {},
   "source": [
    "Homogeneity: A property of lists determining whether they can accept multiple types of variables. A homogenous list can only accept one type of variable; a nonhomogenous or heterogenous list can accept multiple types."
   ]
  },
  {
   "cell_type": "markdown",
   "id": "226f60bd-0b9f-4331-9834-724a1e10c86b",
   "metadata": {},
   "source": [
    "##### Tuple: An immutable form of a list-like structure in Python."
   ]
  },
  {
   "cell_type": "markdown",
   "id": "4ec72cf5-2837-4ae3-b161-93939a2ca28f",
   "metadata": {},
   "source": [
    "##### Lists: A mutable form of a list-like structure in Python."
   ]
  },
  {
   "cell_type": "markdown",
   "id": "a68df458-d5a9-4f30-a09c-5f7a09046988",
   "metadata": {},
   "source": [
    "#### String Length Tuples"
   ]
  },
  {
   "cell_type": "code",
   "execution_count": 1,
   "id": "a7a16b37-9367-4429-8bb6-e331adc8d66b",
   "metadata": {},
   "outputs": [
    {
     "name": "stdout",
     "output_type": "stream",
     "text": [
      "('Hello, world!', 13)\n",
      "('CS1301', 6)\n",
      "(\"Some people pronounce it 'toople'. Others pronounce it 'tuhple'. Either is correct.\", 83)\n"
     ]
    }
   ],
   "source": [
    "#Write a function called string_length. string_length should\n",
    "#have one parameter, a string. It should return a 2-tuple:\n",
    "#the first item in the 2-tuple should be the string itself,\n",
    "#and the second item should be the length of the string as\n",
    "#given by the len() function.\n",
    "\n",
    "def string_length(string1):\n",
    "    return (string1, len(string1))\n",
    " \n",
    "#print:\n",
    "#('Hello, world!', 13)\n",
    "#('CS1301', 6)\n",
    "#(\"Some people pronounce it 'toople'. Others pronounce it 'tuhple'. Either is correct.\", 83)\n",
    "print(string_length(\"Hello, world!\"))\n",
    "print(string_length(\"CS1301\"))\n",
    "print(string_length(\"Some people pronounce it 'toople'. Others pronounce it 'tuhple'. Either is correct.\"))"
   ]
  },
  {
   "cell_type": "markdown",
   "id": "7b671d43-dca9-4326-b8fa-c74e6f4af0b9",
   "metadata": {},
   "source": [
    "#### Declaring Tuples"
   ]
  },
  {
   "cell_type": "code",
   "execution_count": 2,
   "id": "62c7e59d-399f-4e66-acfd-300d1044645f",
   "metadata": {},
   "outputs": [
    {
     "name": "stdout",
     "output_type": "stream",
     "text": [
      "(1, 2, 3)\n"
     ]
    }
   ],
   "source": [
    "#Creates myTuple with the tuple (1, 2, 3)\n",
    "myTuple = (1, 2, 3)  \n",
    "\n",
    "print(myTuple)"
   ]
  },
  {
   "cell_type": "markdown",
   "id": "f0fa5952-ec75-4024-a9b0-93e362329611",
   "metadata": {},
   "source": [
    "#### Ordinal Tuple"
   ]
  },
  {
   "cell_type": "code",
   "execution_count": 3,
   "id": "34b8c50e-35b9-4b1e-9b63-c8b41659196f",
   "metadata": {},
   "outputs": [
    {
     "name": "stdout",
     "output_type": "stream",
     "text": [
      "('q', 113, 'letter')\n",
      "('7', 55, 'number')\n",
      "('`', 96, 'punctuation')\n"
     ]
    }
   ],
   "source": [
    "#Write a function called character_info. character_info will\n",
    "#take as input a string with only one character. It should\n",
    "#return a 3-tuple with three pieces of information:\n",
    "#\n",
    "# - In the first spot, the character itself.\n",
    "# - In the second spot, the ordinal value of the character,\n",
    "#   obtained using the ord() function (e.g. ord(\"a\") -> 97).\n",
    "# - In the third spot, what type of character it is: either\n",
    "#   \"letter\", \"number\", or \"punctuation\".\n",
    "#\n",
    "#You may assume that anything that is not a letter (either\n",
    "#upper or lower case) or a number is punctuation. You may\n",
    "#also assume the ordinal will be between 32 (\" \") and 126\n",
    "#(\"~\").\n",
    "\n",
    "def character_info(string):\n",
    "    if ord(string) in range(48,58):\n",
    "        return (string, ord(string), \"number\")\n",
    "    elif ord(string) in range(65,91):\n",
    "        return (string, ord(string), \"letter\")\n",
    "    elif ord(string) in range(97,123):\n",
    "        return (string, ord(string), \"letter\")\n",
    "    else: \n",
    "        return (string, ord(string), \"punctuation\")\n",
    "#print:\n",
    "#('q', 113, 'letter')\n",
    "#('7', 55, 'number')\n",
    "#('`', 96, 'punctuation')\n",
    "print(character_info(\"q\"))\n",
    "print(character_info(\"7\"))\n",
    "print(character_info(\"`\"))"
   ]
  },
  {
   "cell_type": "markdown",
   "id": "95fa2f8d-dd0a-4c5c-933a-e832769fd702",
   "metadata": {},
   "source": [
    "#### Nesting Tuples"
   ]
  },
  {
   "cell_type": "code",
   "execution_count": 4,
   "id": "2745f9fa-04b9-4b64-bf43-cf8daf7d82d4",
   "metadata": {},
   "outputs": [
    {
     "name": "stdout",
     "output_type": "stream",
     "text": [
      "((1, 2, 3), (4, 5, 6), (7, 8, 9))\n"
     ]
    }
   ],
   "source": [
    "myTuple1 = (1, 2, 3)\n",
    "myTuple2 = (4, 5, 6)\n",
    "myTuple3 = (7, 8, 9)\n",
    "\n",
    "mySuperTuple = (myTuple1, myTuple2, myTuple3)\n",
    "\n",
    "print(mySuperTuple)"
   ]
  },
  {
   "cell_type": "markdown",
   "id": "b0a6dd17-879c-427f-9765-187c5186a4d7",
   "metadata": {},
   "source": [
    "#### Modify"
   ]
  },
  {
   "cell_type": "code",
   "execution_count": 5,
   "id": "529109f2-acaa-48d5-a59c-7842b8e710c6",
   "metadata": {},
   "outputs": [
    {
     "name": "stdout",
     "output_type": "stream",
     "text": [
      "[178, 81, 75.0, 4, 3.141592653589793, 3]\n"
     ]
    }
   ],
   "source": [
    "#Write a function called modify_list. modify_list will\n",
    "#take one parameter, a list. It should then modify the\n",
    "#list in the following ways, in this order:\n",
    "#\n",
    "# - Sort the list (using the default sort method).\n",
    "# - Reverse the order of the list.\n",
    "# - Delete the last three items of the list.\n",
    "# - Removes one instance the integer 7 from the list, if\n",
    "#   it's present.\n",
    "# - Double the values of the first and third items in\n",
    "#   the list.\n",
    "#\n",
    "#It should then return the resulting list. You may assume the list will start with at least six items.\n",
    "\n",
    "def modify_list(list1):\n",
    "    list1.sort()\n",
    "    list1.reverse()\n",
    "    del list1[-3:]\n",
    "    if 7 in list1:\n",
    "        list1.remove(7)\n",
    "    list1[0] = list1[0]*2\n",
    "    list1[2] = list1[2]*2\n",
    "    return list1\n",
    "\n",
    "#print: [178, 81, 75.0, 4, 3.141592653589793, 3]\n",
    "import math\n",
    "print(modify_list([7, 4, 3, 2.0, 81, 37.5, 89, math.pi, -2, math.e]))"
   ]
  },
  {
   "cell_type": "markdown",
   "id": "0cc08900-f9c6-4435-bbf8-1244553ace4f",
   "metadata": {},
   "source": [
    "#### List Functions"
   ]
  },
  {
   "cell_type": "code",
   "execution_count": 6,
   "id": "5f1772dd-55a3-404f-a5c9-8cefb64295e3",
   "metadata": {},
   "outputs": [
    {
     "name": "stdout",
     "output_type": "stream",
     "text": [
      "[17, 12, 9, 18, 11, 19, 7, 13, 14, 16, 1, 10, 8, 4, 6, 3, 15, 2, 5, 20] : Original list\n",
      "[1, 2, 3, 4, 5, 6, 7, 8, 9, 10, 11, 12, 13, 14, 15, 16, 17, 18, 19, 20] : After sorting\n",
      "[1, 2, 3, 4, 5, 6, 7, 8, 9, 10, 11, 12, 13, 14, 15, 16, 17, 18, 19, 20, 21] : After appending 21\n",
      "[1, 2, 3, 4, 5, 6, 7, 8, 9, 10, 11, 12, 13, 14, 15, 16, 17, 18, 19, 20, 21, 26, 22, 23, 24] : After extending with myOtherList\n",
      "[1, 2, 3, 4, 5, 6, 7, 8, 9, 10, 11, 12, 13, 14, 15, 25, 16, 17, 18, 19, 20, 21, 26, 22, 23, 24] : After inserting 25 at the index 15\n",
      "[1, 2, 3, 4, 5, 6, 7, 8, 9, 10, 11, 12, 13, 14, 15, 25, 16, 17, 18, 19, 20, 21, 22, 23, 24] : After removing 26\n",
      "[1, 2, 3, 4, 5, 6, 7, 8, 9, 10, 11, 12, 13, 14, 15, 16, 17, 18, 19, 20, 21, 22, 23, 24, 25] : After sorting again\n",
      "[25, 24, 23, 22, 21, 20, 19, 18, 17, 16, 15, 14, 13, 12, 11, 10, 9, 8, 7, 6, 5, 4, 3, 2, 1] : After reversing\n",
      "[25, 24, 23, 22, 21, 20, 19, 18, 17, 16, 15, 14, 13, 12, 11, 10, 9, 8, 7, 6, 5, 4, 3, 2] : After popping\n",
      "[25, 24, 23, 22, 21, 20, 19, 18, 17, 16, 15, 14, 13, 12, 11, 10, 9, 8, 7] : After deleting the last five items\n",
      "2 : Index of 23\n",
      "1 : Count of 15\n",
      "False : 4 in myList\n",
      "True : 25 in myList\n"
     ]
    }
   ],
   "source": [
    "#A list of the numbers 1 through 20\n",
    "myList = [17, 12, 9, 18, 11, 19, 7, 13, 14, 16, 1, 10, 8, 4, 6, 3, 15, 2, 5, 20]\n",
    "print(myList, \": Original list\")\n",
    "myList.sort()\n",
    "print(myList, \": After sorting\")\n",
    "myList.append(21)\n",
    "print(myList, \": After appending 21\")\n",
    "myOtherList = [26, 22, 23, 24]\n",
    "myList.extend(myOtherList)\n",
    "print(myList, \": After extending with myOtherList\")\n",
    "myList.insert(15, 25)\n",
    "print(myList, \": After inserting 25 at the index 15\")\n",
    "myList.remove(26)\n",
    "print(myList, \": After removing 26\")\n",
    "myList.sort()\n",
    "print(myList, \": After sorting again\")\n",
    "myList.reverse()\n",
    "print(myList, \": After reversing\")\n",
    "myList.pop()\n",
    "print(myList, \": After popping\")\n",
    "del myList[-5:]\n",
    "print(myList, \": After deleting the last five items\")\n",
    "print(myList.index(23), \": Index of 23\")\n",
    "print(myList.count(15), \": Count of 15\")\n",
    "print(4 in myList, \": 4 in myList\")\n",
    "print(25 in myList, \": 25 in myList\")"
   ]
  },
  {
   "cell_type": "markdown",
   "id": "051dd660-366e-4766-8950-ca2a10f56f7c",
   "metadata": {},
   "source": [
    "#### Sum Lists"
   ]
  },
  {
   "cell_type": "code",
   "execution_count": 7,
   "id": "61a6c5a9-195a-41ec-b4f9-75cbbc829ddf",
   "metadata": {},
   "outputs": [
    {
     "name": "stdout",
     "output_type": "stream",
     "text": [
      "78\n"
     ]
    }
   ],
   "source": [
    "#Write a function called sum_lists. sum_lists should take\n",
    "#one parameter, which will be a list of lists of integers.\n",
    "#sum_lists should return the sum of adding every number from every list.\n",
    "#\n",
    "#For example:\n",
    "# list_of_lists = [[1, 2, 3, 4], [5, 6, 7, 8], [9, 10, 11, 12]]\n",
    "# sum_list(list_of_lists) -> 67\n",
    "\n",
    "def sum_lists(list1):\n",
    "    sum2 = 0\n",
    "    for numlist in list1:\n",
    "        sum1 = 0\n",
    "        for num2 in numlist:\n",
    "            sum1 += num2\n",
    "        sum2 += sum1\n",
    "    return sum2\n",
    "\n",
    "#print: 78\n",
    "list_of_lists = [[1, 2, 3, 4], [5, 6, 7, 8], [9, 10, 11, 12]]\n",
    "print(sum_lists(list_of_lists))"
   ]
  },
  {
   "cell_type": "markdown",
   "id": "e315ef4a-8dbe-43dd-ad13-c43a7aa61591",
   "metadata": {},
   "source": [
    "#### Iterating Over 2D Dimensional List"
   ]
  },
  {
   "cell_type": "code",
   "execution_count": 8,
   "id": "e4ecf925-c13f-4dc7-beec-3a5c0edcff17",
   "metadata": {},
   "outputs": [
    {
     "name": "stdout",
     "output_type": "stream",
     "text": [
      "Averages: [90.4, 85.2, 82.2, 88.4, 92.8]\n"
     ]
    }
   ],
   "source": [
    "#Averages the numbers in a list\n",
    "#Averages each list in in2DList\n",
    "def TwoDAverage(in2DList):  \n",
    "    result = []\n",
    "    #For each list in the list of lists\n",
    "    for numList in in2DList:    \n",
    "        sum = 0\n",
    "        #For each number in the current list\n",
    "        for number in numList:  \n",
    "            sum += number\n",
    "        #Append this list's average to result\n",
    "        result.append(sum / len(numList))   \n",
    "    return result\n",
    "\n",
    "my2DList = [[91, 95, 89, 92, 85],\n",
    "          [85, 87, 91, 81, 82],\n",
    "          [79, 75, 85, 83, 89],\n",
    "          [81, 89, 91, 91, 90],\n",
    "          [99, 91, 95, 89, 90]]\n",
    "\n",
    "print(\"Averages:\", TwoDAverage(my2DList))"
   ]
  },
  {
   "cell_type": "markdown",
   "id": "ee744956-a91d-416d-a30b-e2a94dd8eca0",
   "metadata": {},
   "source": [
    "#### Artists"
   ]
  },
  {
   "cell_type": "code",
   "execution_count": 9,
   "id": "6450e9dc-dd41-4dc6-a04b-2fe7a98e8add",
   "metadata": {},
   "outputs": [
    {
     "name": "stdout",
     "output_type": "stream",
     "text": [
      "(['Elvis Presley', 'Michael Jackson', 'The Beatles'], [270.8, 211.5, 183.9])\n"
     ]
    }
   ],
   "source": [
    "#Write a function called sort_artists. sort_artists will\n",
    "#take as input a list of tuples. Each tuple will have two\n",
    "#items: the first item will be a string holding an artist's\n",
    "#name, and the second will be an integer representing their\n",
    "#total album sales (in millions).\n",
    "#\n",
    "#Return a tuple of two lists. The first list in the\n",
    "#resulting tuple should be all the artists sorted\n",
    "#alphabetically. The second list should be all the revenues\n",
    "#sorted in descending numerical order.\n",
    "#\n",
    "#For example:\n",
    "# artists = [(\"The Beatles\", 270.8), (\"Elvis Presley\", 211.5), (\"Michael Jackson\", 183.9)]\n",
    "# sort_artists(artists) -> ([\"Elvis Presley\", \"Michael Jackson\", \"The Beatles\"], [270.8, 211.5, 183.9])\n",
    "#\n",
    "#Notice that artists is a list of tuples (brackets first, then parentheses), but sort_artists outputs a tuple of\n",
    "#lists (parentheses first, then brackets).\n",
    "\n",
    "def sort_artists(list0):\n",
    "    list1 = []\n",
    "    list2 = []\n",
    "    for tuple1 in list0:\n",
    "         t0 = tuple1[0]\n",
    "         t1 = tuple1[1]\n",
    "         list1.append(t0)\n",
    "         list1.sort()\n",
    "         list2.append(t1)\n",
    "         list2.sort()\n",
    "         list2.reverse()\n",
    "    return (list1, list2)\n",
    "\n",
    "#print: (['Elvis Presley', 'Michael Jackson', 'The Beatles'], [270.8, 211.5, 183.9])  \n",
    "artists = [(\"The Beatles\", 270.8), (\"Elvis Presley\", 211.5), (\"Michael Jackson\", 183.9)]\n",
    "print(sort_artists(artists))"
   ]
  },
  {
   "cell_type": "markdown",
   "id": "9d12be9f-a8fd-4791-9d9e-7ae6ec8aa944",
   "metadata": {},
   "source": [
    "#### Lists and Functions"
   ]
  },
  {
   "cell_type": "code",
   "execution_count": 10,
   "id": "45d7489b-ea1e-470b-b245-cee740174cc3",
   "metadata": {},
   "outputs": [
    {
     "name": "stdout",
     "output_type": "stream",
     "text": [
      "Averages: [90.4, 85.2, 82.2, 88.4, 92.8]\n",
      "my2DList: []\n"
     ]
    }
   ],
   "source": [
    "#Averages each list in in2DList\n",
    "def TwoDAverageWithPop(in2DList):  \n",
    "    result = []\n",
    "    #Repeat until in2DList is empty\n",
    "    while len(in2DList) > 0:    \n",
    "        #Remove and assign the last item of in2DList to numList\n",
    "        numList = in2DList.pop()    \n",
    "        sum = 0\n",
    "        count = 0\n",
    "        #Repeat until numList is empty\n",
    "        while len(numList) > 0: \n",
    "            #Remove and save the last item of numList to number\n",
    "            number = numList.pop()  \n",
    "            sum += number\n",
    "            count += 1\n",
    "        #Insert this average at the beginning of result\n",
    "        result.insert(0, sum / count)   \n",
    "    return result\n",
    "\n",
    "my2DList = [[91, 95, 89, 92, 85],[85, 87, 91, 81, 82],\n",
    "            [79, 75, 85, 83, 89],[81, 89, 91, 91, 90],\n",
    "            [99, 91, 95, 89, 90]]\n",
    "\n",
    "print(\"Averages:\", TwoDAverageWithPop(my2DList))\n",
    "print(\"my2DList:\", my2DList)"
   ]
  },
  {
   "cell_type": "markdown",
   "id": "633dff11-5a33-4f65-8dc1-92ddee72b082",
   "metadata": {},
   "source": [
    "### Advanced List-Like Structures"
   ]
  },
  {
   "cell_type": "markdown",
   "id": "9ac73e42-aada-4b9e-8503-81ee13fbcdb3",
   "metadata": {},
   "source": [
    "##### Stack: A list-like structure that follows the “Last-In-First-Out” paradigm, where we can only access the most recently-added item on the list and can only access it by removing it from the list."
   ]
  },
  {
   "cell_type": "markdown",
   "id": "f1c63e02-0dde-4db5-9e1c-bae94ebe5b2c",
   "metadata": {},
   "source": [
    "##### Queue: A list-like structure that follows the “First-In-First-Out” paradigm, where we can only access the least recently-added item on the list  and can only access it by removing it from the list."
   ]
  },
  {
   "cell_type": "markdown",
   "id": "8a37b308-972b-49b5-b4ce-298cb88479a3",
   "metadata": {},
   "source": [
    "##### Linked List: A list-like structure where the location of each item in the list is contained in the previous item in the list."
   ]
  },
  {
   "cell_type": "code",
   "execution_count": null,
   "id": "9e6001d8-b5f0-4579-9b31-edbd94ab9a80",
   "metadata": {},
   "outputs": [],
   "source": []
  }
 ],
 "metadata": {
  "kernelspec": {
   "display_name": "Python 3 (ipykernel)",
   "language": "python",
   "name": "python3"
  },
  "language_info": {
   "codemirror_mode": {
    "name": "ipython",
    "version": 3
   },
   "file_extension": ".py",
   "mimetype": "text/x-python",
   "name": "python",
   "nbconvert_exporter": "python",
   "pygments_lexer": "ipython3",
   "version": "3.9.7"
  }
 },
 "nbformat": 4,
 "nbformat_minor": 5
}
