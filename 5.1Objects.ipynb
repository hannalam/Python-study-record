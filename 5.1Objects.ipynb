{
 "cells": [
  {
   "cell_type": "markdown",
   "id": "f70fb144-d651-41dd-a237-e2312cebf57e",
   "metadata": {},
   "source": [
    "## 5.1 Objects"
   ]
  },
  {
   "cell_type": "markdown",
   "id": "aa401624-e5bc-484e-8728-822adbb300f0",
   "metadata": {},
   "source": [
    "#### Object-oriented programming: \n",
    "A programming paradigm where programmers define custom data types that have custom methods embedded within them."
   ]
  },
  {
   "cell_type": "markdown",
   "id": "caca1f51-ea56-4a50-b2ad-6ab4b07319ad",
   "metadata": {},
   "source": [
    "#### Object: \n",
    "An object is a custom data structure that organizes and encapsulates variables and methods into a single data type. It is used near-interchangeably with “instance.”"
   ]
  },
  {
   "cell_type": "markdown",
   "id": "8f04de40-32dc-4fd2-b7a0-3f569c309a4e",
   "metadata": {},
   "source": [
    "#### Class: \n",
    "A custom data type comprised of multiple variables and/or methods. Instances or objects are created based on the template provided by the class."
   ]
  },
  {
   "cell_type": "markdown",
   "id": "5b1c6936-b7e8-4ccc-bdfc-298184d80ecf",
   "metadata": {},
   "source": [
    "#### Instance: \n",
    "A single set of values of a particular class. Classes may be comprised of multiple variables; an instance is a set of values for these variables. The term “instance” is often used interchangeably with the term “object”."
   ]
  },
  {
   "cell_type": "markdown",
   "id": "7c6c2a12-8809-4644-98f6-aa94bd6bd616",
   "metadata": {},
   "source": [
    "#### Phone"
   ]
  },
  {
   "cell_type": "code",
   "execution_count": 1,
   "id": "5e8cee32-74d2-4039-a58d-4511d79b242a",
   "metadata": {},
   "outputs": [
    {
     "name": "stdout",
     "output_type": "stream",
     "text": [
      "128\n",
      "red\n"
     ]
    }
   ],
   "source": [
    "#Write a class named \"Phone\". The Phone class should \n",
    "#have an attribute called \"storage\" which defaults to\n",
    "#128, and an attribute called \"color\" which defaults to \"red\".\n",
    "#Hint: 'attribute' is another common word for'instance variable'.\n",
    "\n",
    "class Phone:\n",
    "    def __init__(self):\n",
    "        self.storage = 128\n",
    "        self.color = \"red\"\n",
    "        \n",
    "#print 128 and red, each on a separate line.\n",
    "new_phone = Phone()\n",
    "print(new_phone.storage)\n",
    "print(new_phone.color)"
   ]
  },
  {
   "cell_type": "markdown",
   "id": "4315266c-4eb3-4a48-a41d-e76c8212d3f0",
   "metadata": {},
   "source": [
    "#### Declaring a Class"
   ]
  },
  {
   "cell_type": "code",
   "execution_count": 2,
   "id": "b304588d-81fc-4947-a97f-d4ec5e8a28a0",
   "metadata": {},
   "outputs": [],
   "source": [
    "#Define the class Person\n",
    "class Person:\n",
    "    #Create a new instance of Person\n",
    "    def __init__(self):\n",
    "        #Person's default values\n",
    "        self.firstname = \"[no first name]\"\n",
    "        self.lastname = \"[no last name]\"\n",
    "        self.eyecolor = \"[no eye color]\"\n",
    "        self.age = -1"
   ]
  },
  {
   "cell_type": "markdown",
   "id": "141cbaf9-038d-4c6f-8a63-1278bf1c085c",
   "metadata": {},
   "source": [
    "#### Number"
   ]
  },
  {
   "cell_type": "code",
   "execution_count": 9,
   "id": "0e294ebb-69c2-457c-b09d-987697ff3cb7",
   "metadata": {},
   "outputs": [
    {
     "name": "stdout",
     "output_type": "stream",
     "text": [
      "101\n",
      "False\n"
     ]
    }
   ],
   "source": [
    "#Write a class named \"Number\" with one attribute called \n",
    "#\"value\" which defaults to 0 and another attribute called \"even\" which defaults to True.\n",
    "#\n",
    "#Next, create an instance of this class and assign it to\n",
    "#a variable called \"number_instance\".\n",
    "#\n",
    "#Then, set the value attribute to 101 and the even attribute to False.\n",
    "\n",
    "class Number:\n",
    "    def __init__(self):\n",
    "        self.value = 0\n",
    "        self.even = True\n",
    "        \n",
    "number_instance = Number()\n",
    "number_instance.value = 101\n",
    "number_instance.even = False\n",
    "\n",
    "print(number_instance.value)\n",
    "print(number_instance.even)"
   ]
  },
  {
   "cell_type": "markdown",
   "id": "340cad37-d6b8-465f-88c4-745f74875236",
   "metadata": {},
   "source": [
    "#### Creating Instances"
   ]
  },
  {
   "cell_type": "code",
   "execution_count": 10,
   "id": "6f7b8984-571f-4d14-8586-db6b793a51d1",
   "metadata": {},
   "outputs": [
    {
     "name": "stdout",
     "output_type": "stream",
     "text": [
      "[no first name]\n",
      "[no last name]\n",
      "[no eye color]\n",
      "-1\n"
     ]
    }
   ],
   "source": [
    "#Define the class Person\n",
    "class Person:\n",
    "    #Create a new instance of Person\n",
    "    def __init__(self):\n",
    "        #Person's default values\n",
    "        self.firstname = \"[no first name]\"\n",
    "        self.lastname = \"[no last name]\"\n",
    "        self.eyecolor = \"[no eye color]\"\n",
    "        self.age = -1\n",
    "\n",
    "#Create a new Person and assign it to myPerson\n",
    "myPerson = Person()\n",
    "#Print myPerson's values\n",
    "print(myPerson.firstname)\n",
    "print(myPerson.lastname)\n",
    "print(myPerson.eyecolor)\n",
    "print(myPerson.age)"
   ]
  },
  {
   "cell_type": "markdown",
   "id": "fefa21b6-cf79-491e-badf-424ecd3bd135",
   "metadata": {},
   "source": [
    "#### Encapsulation: \n",
    "The ability to combine variables and methods into class definitions in object-oriented programming. It helps avoid modification or misuse of data by other functions or programs."
   ]
  },
  {
   "cell_type": "markdown",
   "id": "af9c5014-83bc-46bb-9d18-cfdc8e9eceb7",
   "metadata": {},
   "source": [
    "#### Constructor: \n",
    "A common type of method in writing classes that specifies some code to run whenever a new instance of the class is created. The constructor often has parameters that provide values to initialize the variables defined by the class."
   ]
  },
  {
   "cell_type": "markdown",
   "id": "d9ef7057-6f6e-441a-9832-2d1940bb9efd",
   "metadata": {},
   "source": [
    "#### Destructor: \n",
    "A common type of method in writing classes that specifies how the instance of a class is to be destroyed, such as releasing its memory back to the computer."
   ]
  },
  {
   "cell_type": "markdown",
   "id": "5cb7a310-f020-4ec9-81fd-e5614f8c96dd",
   "metadata": {},
   "source": [
    "#### Getter: \n",
    "A common type of method in writing classes that returns the value of a variable contained within the class. They are commonly used to allow other processing to occur whenever the variable is accessed, like logging."
   ]
  },
  {
   "cell_type": "markdown",
   "id": "01fe2d31-4b12-4509-8c50-179127e27d35",
   "metadata": {},
   "source": [
    "#### Setter: \n",
    "A common type of method in writing classes that sets a variable contained within the class to a new value. They are commonly used\n",
    "to allow other processing to occur whenever the variable is changed, like logging."
   ]
  },
  {
   "cell_type": "markdown",
   "id": "a4555f44-a107-4769-9bde-67f28220dfae",
   "metadata": {},
   "source": [
    "#### Number"
   ]
  },
  {
   "cell_type": "code",
   "execution_count": 12,
   "id": "5e863ca7-1cca-4d1d-91df-ed1f666e4459",
   "metadata": {},
   "outputs": [
    {
     "name": "stdout",
     "output_type": "stream",
     "text": [
      "101\n",
      "False\n"
     ]
    }
   ],
   "source": [
    "#Rewrite the \"Number\" class. This time, however, require arguments for value and\n",
    "#even in the constructor. Then, inside the constructor,\n",
    "#create new instance variables called value and even that\n",
    "#copy the values of the arguments passed into the constructor.\n",
    "#\n",
    "#In other words, rewrite the Number class such that value\n",
    "#and even behave the way studentName and enrolled behaved\n",
    "#in the exercise above, and the way firstname and lastname behaved in video 5.1.4.1.\n",
    "#\n",
    "#Then, as before, create an instance of this class and\n",
    "#assign it to a variable called \"number_instance\". value\n",
    "#should again be set to 101 and even should be set to False.\n",
    "#\n",
    "#Hint: Remember, the way you initialize the instance will\n",
    "#have to change, too, based on the changes to the constructor that we're requiring.\n",
    "\n",
    "class Number:\n",
    "    def __init__(self, value, even):\n",
    "        self.value = value\n",
    "        self.even = even\n",
    "        \n",
    "number_instance = Number(101, False)\n",
    "print(number_instance.value)\n",
    "print(number_instance.even)"
   ]
  },
  {
   "cell_type": "markdown",
   "id": "f5a64854-7039-49c9-a2ad-0c36006f34f5",
   "metadata": {},
   "source": [
    "#### Constructors in Python "
   ]
  },
  {
   "cell_type": "code",
   "execution_count": 14,
   "id": "c335e53f-7dc8-4524-a24d-12ce0cd0435e",
   "metadata": {},
   "outputs": [
    {
     "name": "stdout",
     "output_type": "stream",
     "text": [
      "Hanna\n",
      "Lam\n"
     ]
    }
   ],
   "source": [
    "#Define the class Person\n",
    "class Person:\n",
    "    #Create a new instance of Person\n",
    "    def __init__(self, firstname, lastname):\n",
    "        self.firstname = firstname\n",
    "        self.lastname = lastname\n",
    "        self.eyecolor = \"[no eye color]\"\n",
    "        self.age = -1\n",
    "\n",
    "#Creates a person with names David and Joyner\n",
    "myPerson = Person(\"Hanna\", \"Lam\")\n",
    "print(myPerson.firstname)\n",
    "print(myPerson.lastname)"
   ]
  },
  {
   "cell_type": "markdown",
   "id": "a5beb8ee-d939-4f96-ac62-2639562a713b",
   "metadata": {},
   "source": [
    "#### Encapsulating Other Functions"
   ]
  },
  {
   "cell_type": "code",
   "execution_count": 15,
   "id": "b65a06d4-8163-4d68-a962-87775be48775",
   "metadata": {},
   "outputs": [
    {
     "name": "stdout",
     "output_type": "stream",
     "text": [
      "20.0\n",
      "10.0\n"
     ]
    }
   ],
   "source": [
    "class BankAccount:\n",
    "    def __init__(self, name, balance = 0.0):\n",
    "        self.log(\"Account created!\")\n",
    "        self.name = name\n",
    "        self.balance = balance\n",
    "\n",
    "    def getBalance(self):\n",
    "        self.log(\"Balance checked at \" + str(self.balance))\n",
    "        return self.balance\n",
    "\n",
    "    def deposit(self, amount):\n",
    "        self.balance += amount\n",
    "        self.log(\"+\" + str(amount) + \": \" + str(self.balance))\n",
    "\n",
    "    def withdraw(self, amount):\n",
    "        self.balance -= amount\n",
    "        self.log(\"-\" + str(amount) + \": \" + str(self.balance))\n",
    "\n",
    "    def log(self, message): ...\n",
    "\n",
    "myBankAccount = BankAccount(\"David Joyner\")\n",
    "myBankAccount.deposit(20.0)\n",
    "print(myBankAccount.getBalance())\n",
    "myBankAccount.withdraw(10.0)\n",
    "print(myBankAccount.getBalance())"
   ]
  },
  {
   "cell_type": "markdown",
   "id": "9e85a9dd-8e6c-4c35-93c3-001612c4ea5e",
   "metadata": {},
   "source": [
    "#### Person"
   ]
  },
  {
   "cell_type": "code",
   "execution_count": 16,
   "id": "71acd1ec-c577-483a-baca-d9bcc78dedb7",
   "metadata": {},
   "outputs": [
    {
     "name": "stdout",
     "output_type": "stream",
     "text": [
      "David\n",
      "Joyner\n",
      "brown\n",
      "30\n"
     ]
    }
   ],
   "source": [
    "#Defines the class Person\n",
    "class Person:\n",
    "    def __init__(self, name, eyecolor, age):\n",
    "        self.name = name\n",
    "        self.eyecolor = eyecolor\n",
    "        self.age = age\n",
    "\n",
    "#Defines the class Name\n",
    "class Name:\n",
    "    def __init__(self, firstname, lastname):\n",
    "        self.firstname = firstname\n",
    "        self.lastname = lastname\n",
    "\n",
    "#Creates a person with eyecolor \"brown\", age 30, and a name with firstname \"David\", lastname \"Joyner\",\n",
    "myPerson = Person(Name(\"David\", \"Joyner\"), \"brown\", 30)\n",
    "print(myPerson.name.firstname)\n",
    "print(myPerson.name.lastname)\n",
    "print(myPerson.eyecolor)\n",
    "print(myPerson.age)"
   ]
  },
  {
   "cell_type": "markdown",
   "id": "3e5290c3-0b8e-4652-a544-054447e803d7",
   "metadata": {},
   "source": [
    "#### Song Artist"
   ]
  },
  {
   "cell_type": "code",
   "execution_count": 21,
   "id": "53781255-6a1a-403e-9dac-7552a2978e2a",
   "metadata": {},
   "outputs": [
    {
     "name": "stdout",
     "output_type": "stream",
     "text": [
      "You Belong With Me\n",
      "2012\n",
      "Midnight Machines\n"
     ]
    }
   ],
   "source": [
    "#We've given you a class called \"Song\" that represents some basic information about a song. We also wrote a \n",
    "#class called \"Artist\" which contains some basic information about an artist.\n",
    "#\n",
    "#Your job is to create three instances of the song class, called song_1, song_2, and song_3.\n",
    "#\n",
    "#song_1 should have the following attributes:\n",
    "#   name = \"You Belong With Me\"\n",
    "#   album = \"Fearless\"\n",
    "#   year = 2008\n",
    "#   artist.name = \"Taylor Swift\"\n",
    "#   artist.label = \"Big Machine Records, LLC\"\n",
    "#\n",
    "#song_2 should have the following attributes:\n",
    "#   name = \"All Too Well\"\n",
    "#   album = \"Red\"\n",
    "#   year = 2012\n",
    "#   artist.name = \"Taylor Swift\"\n",
    "#   artist.label = \"Big Machine Records, LLC\"\n",
    "#\n",
    "#song_3 should have the following attributes:\n",
    "#   name = \"Up We Go\"\n",
    "#   album = \"Midnight Machines\"\n",
    "#   year = 2016\n",
    "#   artist.name = \"LiGHTS\"\n",
    "#   artist.label = \"Warner Bros. Records Inc.\"\n",
    "#\n",
    "#Notice, though, that song_1 and song_2 have the same\n",
    "#artist and label. That means they should each have the\n",
    "#SAME instance of artist: do not create separate instances of artist for each song.\n",
    "#\n",
    "#When your code is done running, there should exist three\n",
    "#variables: song_1, song_2, and song_3, according to the requirements above.\n",
    "\n",
    "class Artist:\n",
    "    def __init__(self, name, label):\n",
    "        self.name = name\n",
    "        self.label = label\n",
    "\n",
    "class Song:\n",
    "    def __init__(self, name, album, year, artist):\n",
    "        self.name = name\n",
    "        self.album = album\n",
    "        self.year = year\n",
    "        self.artist = artist\n",
    "\n",
    "artist_1 = Artist(\"Taylor Swift\",\"Big Machine Records, LLC\")\n",
    "song_1 = Song(\"You Belong With Me\",\"Fearless\",2008, artist_1)\n",
    "song_2 = Song(\"All Too Well\",\"Red\",2012, artist_1)\n",
    "song_3 = Song(\"Up We Go\",\"Midnight Machines\",2016, Artist(\"LiGHTS\",\"Warner Bros. Records Inc.\"))\n",
    "\n",
    "print(song_1.name)\n",
    "print(song_2.year)\n",
    "print(song_3.album)"
   ]
  },
  {
   "cell_type": "markdown",
   "id": "73e04a46-60dc-42c6-9da5-0737cee84a3e",
   "metadata": {},
   "source": [
    "#### Instance Assignments"
   ]
  },
  {
   "cell_type": "code",
   "execution_count": 18,
   "id": "2d7fc3d1-7fbf-4867-b611-cc8227b588da",
   "metadata": {},
   "outputs": [
    {
     "name": "stdout",
     "output_type": "stream",
     "text": [
      "myPerson1's eyecolor: blue\n",
      "myPerson2's eyecolor: blue\n"
     ]
    }
   ],
   "source": [
    "class Person:\n",
    "    def __init__(self, name, eyecolor, age):\n",
    "        self.name = name\n",
    "        self.eyecolor = eyecolor\n",
    "        self.age = age\n",
    "\n",
    "class Name:\n",
    "    def __init__(self, firstname, lastname):\n",
    "        self.firstname = firstname\n",
    "        self.lastname = lastname\n",
    "\n",
    "myPerson1 = Person(Name(\"David\", \"Joyner\"), \"brown\", 30)\n",
    "myPerson2 = myPerson1\n",
    "myPerson2.eyecolor = \"blue\"\n",
    "print(\"myPerson1's eyecolor: \" + myPerson1.eyecolor)\n",
    "print(\"myPerson2's eyecolor: \" + myPerson2.eyecolor)"
   ]
  },
  {
   "cell_type": "markdown",
   "id": "d31413aa-296d-49e2-bd2e-cf126b6177ec",
   "metadata": {},
   "source": [
    "#### Abstraction: \n",
    "A principle of object-oriented programming that states that only essential information should be made visible to the outside program."
   ]
  },
  {
   "cell_type": "markdown",
   "id": "01b0fb83-2523-4b08-983f-65783512bb79",
   "metadata": {},
   "source": [
    "#### Polymorphism: \n",
    "The principle that a method call can behave differently depending on the arguments and object with which it is called."
   ]
  },
  {
   "cell_type": "markdown",
   "id": "46f78364-8eee-4f68-b64c-826946c2ee0e",
   "metadata": {},
   "source": [
    "#### Inheritance: \n",
    "A principle of object-oriented programming where classes can be created that are “subclasses” of other classes, inheriting all the\n",
    "variables and methods from the other class while supplying new variables, methods, or behaviors of these own."
   ]
  },
  {
   "cell_type": "code",
   "execution_count": null,
   "id": "2fbf7e15-1d1d-4297-971e-267aa19307a8",
   "metadata": {},
   "outputs": [],
   "source": []
  }
 ],
 "metadata": {
  "kernelspec": {
   "display_name": "Python 3 (ipykernel)",
   "language": "python",
   "name": "python3"
  },
  "language_info": {
   "codemirror_mode": {
    "name": "ipython",
    "version": 3
   },
   "file_extension": ".py",
   "mimetype": "text/x-python",
   "name": "python",
   "nbconvert_exporter": "python",
   "pygments_lexer": "ipython3",
   "version": "3.9.7"
  }
 },
 "nbformat": 4,
 "nbformat_minor": 5
}
