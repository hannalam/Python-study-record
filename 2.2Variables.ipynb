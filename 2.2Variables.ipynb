{
 "cells": [
  {
   "cell_type": "markdown",
   "id": "b3ba660b-c6c2-4f8e-b1ef-a4edada9a2bc",
   "metadata": {},
   "source": [
    "## 2.2 Variables"
   ]
  },
  {
   "cell_type": "markdown",
   "id": "87077ab5-75e0-4c2a-8776-12255c779517",
   "metadata": {},
   "source": [
    "Variables: Alphanumeric (letters and numbers) identifiers that hold values, like integers, strings of characters, and dates."
   ]
  },
  {
   "cell_type": "markdown",
   "id": "a11c0b1a-581c-4ae3-88af-ea828e30941f",
   "metadata": {},
   "source": [
    "Value: The content of some variable. The variable myAge might hold the value 29. The variable yourName might hold the value “Adelene”."
   ]
  },
  {
   "cell_type": "code",
   "execution_count": 2,
   "id": "b0608b42-e7f2-4807-b07a-12544990cc83",
   "metadata": {},
   "outputs": [
    {
     "name": "stdout",
     "output_type": "stream",
     "text": [
      "<class 'int'>\n",
      "<class 'float'>\n",
      "<class 'str'>\n",
      "<class 'bool'>\n"
     ]
    }
   ],
   "source": [
    "my_integer = 3\n",
    "my_decimal = 3.3\n",
    "my_string = \"Hi\"\n",
    "my_boolean = True\n",
    "\n",
    "print(type(my_integer))\n",
    "print(type(my_decimal))\n",
    "print(type(my_string))\n",
    "print(type(my_boolean))"
   ]
  },
  {
   "cell_type": "code",
   "execution_count": 3,
   "id": "84fde5de-3a16-4eb8-9d67-7fec4082f4fe",
   "metadata": {},
   "outputs": [
    {
     "name": "stdout",
     "output_type": "stream",
     "text": [
      "-2\n",
      "7.1\n",
      "Hello, world!\n",
      "True\n",
      "2022-05-17\n"
     ]
    }
   ],
   "source": [
    "from datetime import date\n",
    "#Creates aNumber with the value -2\n",
    "aNumber = -2\n",
    "#Creates aDecimal with the value 7.1\n",
    "aDecimal = 7.1\n",
    "#Creates aString with the value \"Hello, #world\"\n",
    "aString = \"Hello, world!\"\n",
    "#Creates aBoolean with the value True\n",
    "aBoolean = True\n",
    "#Creates aDate with the value of today's date\n",
    "aDate = date.today()\n",
    "print(aNumber)\n",
    "print(aDecimal)\n",
    "print(aString)\n",
    "print(aBoolean)\n",
    "print(aDate)"
   ]
  },
  {
   "cell_type": "markdown",
   "id": "0792d462-1088-4a64-8086-73d3633280ee",
   "metadata": {},
   "source": [
    "### Mixing Types"
   ]
  },
  {
   "cell_type": "code",
   "execution_count": 4,
   "id": "e8bd1fde-5c6a-46b6-8c45-37861561ed87",
   "metadata": {},
   "outputs": [
    {
     "name": "stdout",
     "output_type": "stream",
     "text": [
      "<class 'int'>\n",
      "<class 'float'>\n",
      "<class 'str'>\n",
      "<class 'bool'>\n"
     ]
    }
   ],
   "source": [
    "myInteger = 5\n",
    "print(type(myInteger))\n",
    "#Adding the .0 forces this to become a float\n",
    "myFloat = 5.0\n",
    "print(type(myFloat))\n",
    "#Putting it in quotes makes it a string\n",
    "myString = \"5.0\"\n",
    "print(type(myString))\n",
    "#The words 'True' and 'False' are reserved\n",
    "#for boolean values\n",
    "myBoolean = True\t\n",
    "print(type(myBoolean))"
   ]
  },
  {
   "cell_type": "code",
   "execution_count": 5,
   "id": "75886dbf-fa2d-4296-93c2-941b58ceb583",
   "metadata": {},
   "outputs": [
    {
     "name": "stdout",
     "output_type": "stream",
     "text": [
      "The quotient is 2\n",
      "The remainder is 5\n",
      "We're done!\n"
     ]
    }
   ],
   "source": [
    "num_1 = 17\n",
    "num_2 = 6\n",
    "\n",
    "quotient = print(\"The quotient is\", num_1 // num_2)\n",
    "\n",
    "remainder = print(\"The remainder is\", num_1 % num_2)\n",
    "\n",
    "\n",
    "print(\"We're done!\")"
   ]
  },
  {
   "cell_type": "markdown",
   "id": "9462c143-ad77-4a3c-96f6-241a5984dc78",
   "metadata": {},
   "source": [
    "### Convert the corresponding variables to strings"
   ]
  },
  {
   "cell_type": "code",
   "execution_count": 6,
   "id": "c1e8c4be-1651-480a-a87f-c8f1c922cae4",
   "metadata": {},
   "outputs": [
    {
     "name": "stdout",
     "output_type": "stream",
     "text": [
      "8 <class 'str'>\n",
      "8.2 <class 'str'>\n",
      "2022-05-17 <class 'str'>\n",
      "False <class 'str'>\n"
     ]
    }
   ],
   "source": [
    "from datetime import date\n",
    "new_integer = 8\n",
    "new_float = 8.2\n",
    "new_date = date.today()\n",
    "new_boolean = False\n",
    "\n",
    "integer_as_string = str(new_integer)\n",
    "float_as_string = str(new_float)\n",
    "date_as_string = str(new_date)\n",
    "boolean_as_string = str(new_boolean)\n",
    "\n",
    "#The lines of code below will test your code.\n",
    "#If it works, they will print the four string\n",
    "#values, each followed by \"<class 'str'>\".\n",
    "print(integer_as_string, type(integer_as_string))\n",
    "print(float_as_string, type(float_as_string))\n",
    "print(date_as_string, type(date_as_string))\n",
    "print(boolean_as_string, type(boolean_as_string))"
   ]
  },
  {
   "cell_type": "code",
   "execution_count": 7,
   "id": "f04f83f4-02fe-4f14-91a8-169152d2e9b7",
   "metadata": {},
   "outputs": [
    {
     "name": "stdout",
     "output_type": "stream",
     "text": [
      "5 <class 'int'>\n",
      "5.1 <class 'float'>\n",
      "True <class 'bool'>\n"
     ]
    }
   ],
   "source": [
    "a = \"5.1\"\n",
    "b = \"Hello!\"\n",
    "c = \"5\"\n",
    "\n",
    "#Add your code here!\n",
    "as_integer = int(c)\n",
    "as_float = float(a)\n",
    "as_boolean = bool(b)\n",
    "\n",
    "\n",
    "#The lines of code below will test your submission! If it's\n",
    "#working, it will print the value three times, followed by three\n",
    "#different types: <class 'int'>, <class 'float'>, and\n",
    "#<class 'bool'>.\n",
    "print(as_integer, type(as_integer))\n",
    "print(as_float, type(as_float))\n",
    "print(as_boolean, type(as_boolean))"
   ]
  },
  {
   "cell_type": "code",
   "execution_count": 8,
   "id": "53d7f381-d8c7-4fd9-838a-c9e8afe4d14c",
   "metadata": {},
   "outputs": [
    {
     "name": "stdout",
     "output_type": "stream",
     "text": [
      "<class 'int'>\n",
      "<class 'float'>\n",
      "<class 'bool'>\n"
     ]
    }
   ],
   "source": [
    "myIntAsString = \"5\"\n",
    "myInt = int(myIntAsString)\n",
    "print(type(myInt))\n",
    "\n",
    "myFloatAsString = \"5.1\"\n",
    "myFloat = float(myFloatAsString)\n",
    "print(type(myFloat))\n",
    "\n",
    "myBooleanAsString = \"True\"\n",
    "myBoolean = bool(myBooleanAsString)\n",
    "print(type(myBoolean))"
   ]
  },
  {
   "cell_type": "markdown",
   "id": "088b90c8-4824-4e90-8833-3da26efdeabf",
   "metadata": {},
   "source": [
    "### Variables with Lots of Data"
   ]
  },
  {
   "cell_type": "code",
   "execution_count": 1,
   "id": "42560d36-81fe-4855-9c0b-e38acc62d24d",
   "metadata": {},
   "outputs": [
    {
     "name": "stdout",
     "output_type": "stream",
     "text": [
      "Just adding them together:\n",
      "9\n",
      "\n",
      "Adding them as strings:\n",
      "54\n",
      "\n",
      "With the apostrophe:\n",
      "5'4\n",
      "\n"
     ]
    }
   ],
   "source": [
    "#First, let's create the variables.\n",
    "feet = 5\n",
    "inches = 4\n",
    "\n",
    "#What happens if we just add them together?\n",
    "\n",
    "print(\"Just adding them together:\")\n",
    "print(feet + inches)\n",
    "print() #This just prints a blank line to make the output easy to read.\n",
    "\n",
    "#Yikes! That's not what we want. It just added 5 and 4 and got 9. We\n",
    "#don't want to add them as numbers, we want to add them as text, \n",
    "#putting them together.\n",
    "\n",
    "#So, let's convert them to strings first. That will force Python to\n",
    "#treat them like text instead of like numbers.\n",
    "\n",
    "feetAsString = str(feet)\n",
    "inchesAsString = str(inches)\n",
    "\n",
    "#Now what happens if we add them?\n",
    "print(\"Adding them as strings:\")\n",
    "print(feetAsString + inchesAsString)\n",
    "print() #This just prints a blank line to make the output easy to read.\n",
    "\n",
    "#We're getting closer! Instead of adding them as numbers, it put them\n",
    "#alongside each other as text. Now we just need to add the apostrophe.\n",
    "\n",
    "print(\"With the apostrophe:\")\n",
    "print(feetAsString + \"'\" + inchesAsString)\n",
    "print()"
   ]
  },
  {
   "cell_type": "markdown",
   "id": "0446335a-581c-4aa0-b32b-989a24c3572f",
   "metadata": {},
   "source": [
    "## Print Date and Time"
   ]
  },
  {
   "cell_type": "code",
   "execution_count": 2,
   "id": "72ededb9-c3f2-4161-8fa3-b38540561b01",
   "metadata": {},
   "outputs": [
    {
     "name": "stdout",
     "output_type": "stream",
     "text": [
      "2022-05-17\n",
      "2022-05-17 10:00:10.001495\n"
     ]
    }
   ],
   "source": [
    "from datetime import date\n",
    "import datetime\n",
    "todays_date = date.today()\n",
    "current_time = datetime.datetime.now()\n",
    "\n",
    "#Don't modify the code above!\n",
    "\n",
    "#Complete the line below to print today's date with the\n",
    "#form year/month/day. For example, January 15th, 2016\n",
    "#would be 2016/1/15.\n",
    "print(todays_date)\n",
    "\n",
    "#Complete the line below to print the current time with\n",
    "#the form hour:minute:second, such as 12:57:15. Don't worry\n",
    "#about the leading 0s for single-digit times. If it's\n",
    "#1:05PM and 7 seconds, the correct answer would be:\n",
    "#13:5:7 (13 because Python uses 24-hour timeby default).\n",
    "print(current_time)"
   ]
  },
  {
   "cell_type": "code",
   "execution_count": 3,
   "id": "e0f5abe6-454d-4722-b8a2-a448c8f3f6a7",
   "metadata": {},
   "outputs": [
    {
     "name": "stdout",
     "output_type": "stream",
     "text": [
      "2022\n",
      "5\n",
      "17\n"
     ]
    }
   ],
   "source": [
    "from datetime import date\n",
    "myDate = date.today()\n",
    "print(myDate.year)\n",
    "print(myDate.month)\n",
    "print(myDate.day)"
   ]
  },
  {
   "cell_type": "code",
   "execution_count": null,
   "id": "df8fce0b-e636-4d26-a7d3-894887756dcd",
   "metadata": {},
   "outputs": [],
   "source": []
  }
 ],
 "metadata": {
  "kernelspec": {
   "display_name": "Python 3 (ipykernel)",
   "language": "python",
   "name": "python3"
  },
  "language_info": {
   "codemirror_mode": {
    "name": "ipython",
    "version": 3
   },
   "file_extension": ".py",
   "mimetype": "text/x-python",
   "name": "python",
   "nbconvert_exporter": "python",
   "pygments_lexer": "ipython3",
   "version": "3.9.7"
  }
 },
 "nbformat": 4,
 "nbformat_minor": 5
}
