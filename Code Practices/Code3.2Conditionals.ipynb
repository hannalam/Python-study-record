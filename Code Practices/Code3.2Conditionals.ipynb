{
 "cells": [
  {
   "cell_type": "markdown",
   "id": "1cda3e4a-4b31-48d6-85ac-de920518acc4",
   "metadata": {},
   "source": [
    "## Code 3.2 Conditionals"
   ]
  },
  {
   "cell_type": "markdown",
   "id": "198abc15-7261-46e8-bdf5-2c4b5be12f48",
   "metadata": {},
   "source": [
    "#### Nested Conditionals"
   ]
  },
  {
   "cell_type": "code",
   "execution_count": 1,
   "id": "01a32036-f899-40c0-ac48-c66f4e46be2a",
   "metadata": {},
   "outputs": [
    {
     "name": "stdout",
     "output_type": "stream",
     "text": [
      "You may not see that movie!\n"
     ]
    }
   ],
   "source": [
    "rating = \"R\"\n",
    "age = 15\n",
    "\n",
    "#The United States has a movie rating system that rates\n",
    "#movies with one of five ratings: G, PG, PG-13, R, and NC-17.\n",
    "#Although some of the ratings are not binding, imagine that\n",
    "#you are a parent who decides on the following rules:\n",
    "#\n",
    "# - Any child can see a G-rated movie.\n",
    "# - To see a PG-rated movie, your child must be 8 or older.\n",
    "# - To see a PG-13-rated movie, your child must be 13 or older.\n",
    "# - To see an R-rated movie, your child must be 17 or older.\n",
    "# - Your child may never see an NC-17 movie.\n",
    "#\n",
    "#The variables above give a rating and a child's age. Use\n",
    "#these variables to select and print one of these two\n",
    "#messages based on the criteria above:\n",
    "#\n",
    "# - \"You may see that movie!\"\n",
    "# - \"You may not see that movie!\"\n",
    "#\n",
    "# You may not use the 'and' operator anywhere in this code!\n",
    "\n",
    "if rating == \"G\":\n",
    "    print(\"You may see that movie!\")\n",
    "elif rating == \"PG\":\n",
    "    if age >= 8:\n",
    "        print(\"You may see that movie!\")\n",
    "    else:\n",
    "        print(\"You may not see that movie!\")\n",
    "elif rating == \"PG-13\":\n",
    "    if age >= 13:\n",
    "        print(\"You may see that movie!\")\n",
    "    else:\n",
    "        print(\"You may not see that movie!\")\n",
    "elif rating == \"R\":\n",
    "    if age >= 17:\n",
    "        print(\"You may see that movie!\")\n",
    "    else:\n",
    "        print(\"You may not see that movie!\")\n",
    "elif rating == \"NC-17\":\n",
    "    if age >= 18:\n",
    "        print(\"You may see that movie!\")\n",
    "    else:\n",
    "        print(\"You may not see that movie!\")"
   ]
  },
  {
   "cell_type": "markdown",
   "id": "38a97b66-c959-4835-b481-5e4d8044b552",
   "metadata": {},
   "source": [
    "#### Coffee"
   ]
  },
  {
   "cell_type": "code",
   "execution_count": null,
   "id": "8dcdb2b7-2255-4612-ab69-09e50544ffb7",
   "metadata": {},
   "outputs": [],
   "source": [
    "cafe = \"Octane\"\n",
    "balance = 7.5\n",
    "\n",
    "#Atlanta is full of great coffee places. Unfortunately, great\n",
    "#coffee is usually expensive. The variables above will\n",
    "#contain a balance and a cafe name. Below are the prices of\n",
    "#a cup of coffee at each of three locations:\n",
    "#\n",
    "# - Octane: $6\n",
    "# - Galloway: $5\n",
    "# - Starbucks: $4\n",
    "# - Revelator: $3\n",
    "# - Dunkin: $2\n",
    "#\n",
    "#Add some code above that will print one of the following\n",
    "#two messages depending on whether the value of balance is\n",
    "#high enough to buy a cup of coffee at the given cafe.\n",
    "#\n",
    "# - If it is sufficient, print \"With [balance] dollars, I\n",
    "#   can buy coffee at [cafe]\"\n",
    "# - If it is not sufficient, print \"With [balance] dollars,\n",
    "#   I cannot buy coffee at [cafe]\"\n",
    "\n",
    "if cafe == \"Octane\":\n",
    "    if balance > 6:\n",
    "        print(\"With\", balance, \"dollars, I can buy coffee at\", cafe)\n",
    "    else:\n",
    "        print(\"With\", balance, \"dollars, I cannot buy coffee at\", cafe)\n",
    "elif cafe == \"Galloway\":\n",
    "    if balance > 5:\n",
    "        print(\"With\", balance, \"dollars, I can buy coffee at\", cafe)\n",
    "    else:\n",
    "        print(\"With\", balance, \"dollars, I cannot buy coffee at\", cafe)\n",
    "elif cafe == \"Starbucks\":\n",
    "    if balance > 4:\n",
    "        print(\"With\", balance, \"dollars, I can buy coffee at\", cafe)\n",
    "    else:\n",
    "        print(\"With\", balance, \"dollars, I cannot buy coffee at\", cafe)\n",
    "elif cafe == \"Revelator\":\n",
    "    if balance > 3:\n",
    "        print(\"With\", balance, \"dollars, I can buy coffee at\", cafe)\n",
    "    else:\n",
    "        print(\"With\", balance, \"dollars, I cannot buy coffee at\", cafe)\n",
    "elif cafe == \"Dunkin\":\n",
    "    if balance > 2:\n",
    "        print(\"With\", balance, \"dollars, I can buy coffee at\", cafe)\n",
    "    else:\n",
    "        print(\"With\", balance, \"dollars, I cannot buy coffee at\", cafe)\n"
   ]
  },
  {
   "cell_type": "markdown",
   "id": "b603ff29-ecc6-4381-a263-13c0a33fd938",
   "metadata": {},
   "source": [
    "#### Savings Goals"
   ]
  },
  {
   "cell_type": "code",
   "execution_count": 3,
   "id": "32f8ea5d-6591-40aa-a0fb-c0d53b401246",
   "metadata": {},
   "outputs": [
    {
     "name": "stdout",
     "output_type": "stream",
     "text": [
      "You'll fall short of your goal by 579.87\n"
     ]
    }
   ],
   "source": [
    "principal = 5000\n",
    "rate = 0.05\n",
    "time = 5\n",
    "goal = 7000\n",
    "\n",
    "#the amount of money in an account based on this formula:\n",
    "#\n",
    "#   amount = principal * e ^ (rate * time)\n",
    "#\n",
    "#Those three variables are given above again, as well as a\n",
    "#fourth: goal. We want to see if the investment given by\n",
    "#these values will exceed the goal. If it will, we want to\n",
    "#print this message:\n",
    "#\n",
    "#  \"You'll exceed your goal by [extra money]\"\n",
    "#\n",
    "#If it will not, we want to print this message:\n",
    "#\n",
    "#  \"You'll fall short of your goal by [needed money]\"\n",
    "#\n",
    "#If the investor will meet their goal, [extra money] should\n",
    "#be the final amount minus the goal. If the investor will\n",
    "#not meet their goal, [needed money] will be the goal minus\n",
    "#the final amount.\n",
    "#\n",
    "#To make the output more legible, though, we want to round\n",
    "#the difference to two decimal places. If the difference is\n",
    "#contained in a variable called 'difference', then we can\n",
    "#do this to round it: rounded_diff = round(difference, 2)\n",
    "\n",
    "import math\n",
    "\n",
    "amount = principal * (math.e ** (rate * time))\n",
    "difference1 = goal - amount\n",
    "rounded_diff1 = round(difference1, 2)\n",
    "difference2 = amount - goal\n",
    "rounded_diff2 = round(difference2, 2)\n",
    "\n",
    "if goal < amount:\n",
    "    print(\"You'll exceed your goal by\", rounded_diff2)\n",
    "elif goal > amount:\n",
    "    print(\"You'll fall short of your goal by\", rounded_diff1)"
   ]
  },
  {
   "cell_type": "markdown",
   "id": "7427f7d7-929d-4c79-8b45-732c4591ab79",
   "metadata": {},
   "source": [
    "#### MAking Breakfast"
   ]
  },
  {
   "cell_type": "code",
   "execution_count": 4,
   "id": "638ef81f-bb53-4cbb-a8d4-9c873e0ad3e7",
   "metadata": {},
   "outputs": [
    {
     "name": "stdout",
     "output_type": "stream",
     "text": [
      "pancakes\n"
     ]
    }
   ],
   "source": [
    "egg = True\n",
    "milk = True\n",
    "butter = True\n",
    "flour = True\n",
    "\n",
    "#Imagine you're deciding what you want to cook. The boolean\n",
    "#variables above state whether or not you have each of those\n",
    "#four ingredients.\n",
    "#\n",
    "#Here are the dishes you know how to cook and their\n",
    "#ingredients:\n",
    "#\n",
    "# 1. pancakes: egg, milk, butter, flour\n",
    "# 2. omelette: egg, milk, butter\n",
    "# 3. custard: egg, milk\n",
    "# 4. poached eggs: egg\n",
    "\n",
    "#\n",
    "#The list above is also a priority list. If you have the\n",
    "#ingredients for pancakes, you'll make pancakes instead of\n",
    "#any of the other dishes. If you're missing flour but have\n",
    "#the other ingredients, you'll make an omlette. You'll only\n",
    "#make poached eggs if the only ingredient you have is eggs.\n",
    "#\n",
    "#Complete the program below such that it prints which dish\n",
    "#you'll make based on the ingredients you have handy. All\n",
    "#the dishes should appear exactly as shown above: all lower\n",
    "#case, spelled the same way. If you do not have the\n",
    "#ingredients to make any of these dishes, then print the\n",
    "#text \"Go to the store!\"\n",
    "\n",
    "if egg:\n",
    "    if milk:\n",
    "        if butter:\n",
    "            if flour:\n",
    "                print(\"pancakes\")\n",
    "            else:\n",
    "                print(\"omelette\")\n",
    "        else:\n",
    "            print(\"custard\")\n",
    "    else:\n",
    "        print(\"poached eggs\")\n",
    "else:\n",
    "    print(\"Go to the store!\")"
   ]
  },
  {
   "cell_type": "code",
   "execution_count": null,
   "id": "61863aa2-fea8-4d60-87fa-49362f52d5f7",
   "metadata": {},
   "outputs": [],
   "source": []
  }
 ],
 "metadata": {
  "kernelspec": {
   "display_name": "Python 3 (ipykernel)",
   "language": "python",
   "name": "python3"
  },
  "language_info": {
   "codemirror_mode": {
    "name": "ipython",
    "version": 3
   },
   "file_extension": ".py",
   "mimetype": "text/x-python",
   "name": "python",
   "nbconvert_exporter": "python",
   "pygments_lexer": "ipython3",
   "version": "3.9.7"
  }
 },
 "nbformat": 4,
 "nbformat_minor": 5
}
