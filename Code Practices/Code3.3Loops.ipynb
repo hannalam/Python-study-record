{
 "cells": [
  {
   "cell_type": "markdown",
   "id": "b26c23f6-a2cf-4d70-8f17-305c7b483367",
   "metadata": {},
   "source": [
    "## Code 3.3 Loops"
   ]
  },
  {
   "cell_type": "markdown",
   "id": "deb92fe1-16ed-45a7-a551-191f49bb718f",
   "metadata": {},
   "source": [
    "#### Sum Odd"
   ]
  },
  {
   "cell_type": "code",
   "execution_count": 1,
   "id": "12b77370-db97-4841-8097-9ff61c2fe218",
   "metadata": {},
   "outputs": [
    {
     "name": "stdout",
     "output_type": "stream",
     "text": [
      "625\n"
     ]
    }
   ],
   "source": [
    "mystery_int = 50\n",
    "\n",
    "#Add some code below that will find and print the sum of\n",
    "#every odd number between 0 and mystery_int. This time,\n",
    "#exclude the bounds (e.g. if mystery_int was 51, add the odds\n",
    "#from 1 to 49, but not 51).\n",
    "\n",
    "sum = 0\n",
    "for i in range(0, mystery_int):\n",
    "    if i % 2 == 1:\n",
    "        sum += i\n",
    "print(sum)"
   ]
  },
  {
   "cell_type": "markdown",
   "id": "9860f211-14db-4f43-bb94-c6e539f983e4",
   "metadata": {},
   "source": [
    "#### Sum Loop"
   ]
  },
  {
   "cell_type": "code",
   "execution_count": 2,
   "id": "7f3fcfc9-e86a-4ffe-8395-b95108bfeb43",
   "metadata": {
    "tags": []
   },
   "outputs": [
    {
     "name": "stdout",
     "output_type": "stream",
     "text": [
      "28\n"
     ]
    }
   ],
   "source": [
    "mystery_int = 7\n",
    "\n",
    "#Use a loop to find the sum of all numbers between 0 and\n",
    "#mystery_int, including bounds (meaning that if\n",
    "#mystery_int = 7, you add 0 + 1 + 2 + 3 + 4 + 5 + 6 + 7).\n",
    "#\n",
    "#However, there's a twist: mystery_int might be negative.\n",
    "#So, if mystery_int was -4, you would -4 + -3 + -2 + -1 + 0.\n",
    "\n",
    "sum = 0\n",
    "if mystery_int > 1:\n",
    "    for i in range(0, mystery_int+1):\n",
    "        sum += i\n",
    "else:\n",
    "    for i in range(mystery_int,0):\n",
    "        sum += i\n",
    "print(sum)"
   ]
  },
  {
   "cell_type": "markdown",
   "id": "6f39ec43-5add-419f-8695-d89d1e3bf2c0",
   "metadata": {
    "tags": []
   },
   "source": [
    "#### Counting Letters"
   ]
  },
  {
   "cell_type": "code",
   "execution_count": 3,
   "id": "5df9893e-b631-4faa-8d78-ba4eea9c9f58",
   "metadata": {},
   "outputs": [
    {
     "name": "stdout",
     "output_type": "stream",
     "text": [
      "4\n"
     ]
    }
   ],
   "source": [
    "mystery_string = \"Hello! What a fine day it is today.\"\n",
    "mystery_character = \"a\"\n",
    "\n",
    "#-----------------------------------------------------------\n",
    "#Write some code below that will count and print how many\n",
    "#times mystery_character appears in mystery_string. You may\n",
    "#not use the string class's .count method.\n",
    "#\n",
    "#With the original values for mystery_string and\n",
    "#mystery_character, your code should initially print 4. Only\n",
    "#count characters with the same case as mystery_character\n",
    "#(in other words, here you would ignore capital A).\n",
    "\n",
    "count = 0\n",
    "for a in mystery_string:\n",
    "    if a == mystery_character:\n",
    "        count += 1\n",
    "print(count)"
   ]
  },
  {
   "cell_type": "markdown",
   "id": "e45b0593-2fbc-4b41-99c7-38d576998dd3",
   "metadata": {},
   "source": [
    "#### Lists of Strings"
   ]
  },
  {
   "cell_type": "code",
   "execution_count": 5,
   "id": "1a308bb2-3a95-42a8-98a9-b2f53df0f2fb",
   "metadata": {},
   "outputs": [
    {
     "name": "stdout",
     "output_type": "stream",
     "text": [
      "6\n"
     ]
    }
   ],
   "source": [
    "mystery_list = [\"Taylor Swift\", \"Twenty Two\", \"Georgia Tech\"]\n",
    "\n",
    "#Above is a list of strings. \n",
    "#Write some code that will count the number of instances of\n",
    "#the letter 't' in the list of strings. Count both capital\n",
    "#'T' and lower-case 't'. Then, print the number of instances\n",
    "#of the letter 't'.\n",
    "#\n",
    "#For example, with the list declared above, you would print\n",
    "#6: two in the first string, three in the second, one in the\n",
    "#third.\n",
    "\n",
    "count = 0\n",
    "for string in mystery_list:\n",
    "    #Add your code to read through the string and count the t's and T's here!\n",
    "    for t in string:\n",
    "        if t == \"t\" or t == \"T\":\n",
    "            count += 1\n",
    "print(count)"
   ]
  },
  {
   "cell_type": "markdown",
   "id": "95761739-836a-4bb1-a0d4-86ba96532d90",
   "metadata": {},
   "source": [
    "#### While Count down"
   ]
  },
  {
   "cell_type": "code",
   "execution_count": 6,
   "id": "3fd99fd4-3d3f-4b73-a3c2-147a8c841547",
   "metadata": {},
   "outputs": [
    {
     "name": "stdout",
     "output_type": "stream",
     "text": [
      "46\n",
      "43\n",
      "40\n",
      "37\n",
      "34\n",
      "31\n",
      "28\n",
      "25\n",
      "22\n",
      "19\n",
      "16\n",
      "13\n",
      "10\n",
      "7\n",
      "4\n",
      "1\n"
     ]
    }
   ],
   "source": [
    "mystery_int = 46\n",
    "\n",
    "#Use a while loop to create a countdown from mystery_int to\n",
    "#0. Count down by 3s: if mystery_int is 46, then you should\n",
    "#print 46, 43, 40, etc. Do not print any number lower than 0.\n",
    "#Note that you should print both the original value of\n",
    "#mystery_int and 0 if you land on it exactly.\n",
    "\n",
    "while mystery_int >= 0:\n",
    "    print(mystery_int)\n",
    "    mystery_int -= 3"
   ]
  },
  {
   "cell_type": "markdown",
   "id": "da4c94d4-6f15-45a4-b200-a008109daef3",
   "metadata": {},
   "source": [
    "#### Print the Alphabet"
   ]
  },
  {
   "cell_type": "code",
   "execution_count": 7,
   "id": "0c9b2eb2-13b2-4f13-95dc-d18f15aa0ce9",
   "metadata": {},
   "outputs": [
    {
     "name": "stdout",
     "output_type": "stream",
     "text": [
      "A\n",
      "B\n",
      "C\n",
      "D\n",
      "E\n",
      "F\n",
      "G\n",
      "H\n",
      "I\n",
      "J\n",
      "K\n",
      "L\n",
      "M\n",
      "N\n",
      "O\n",
      "P\n",
      "Q\n",
      "R\n",
      "S\n",
      "T\n",
      "U\n",
      "V\n",
      "W\n",
      "X\n",
      "Y\n",
      "Z\n"
     ]
    }
   ],
   "source": [
    "start_character = \"A\"\n",
    "end_character = \"Z\"\n",
    "\n",
    "#Print all the letters from start_character to end_character,\n",
    "#each on their own line. Include start_character and\n",
    "#end_character themselves.\n",
    "#\n",
    "#Remember, you can convert a letter to its underlying ASCII\n",
    "#number using the ord() function. ord(\"A\") would give 65.\n",
    "#ord(\"Z\") would give 90. You can use these values to write\n",
    "#your loop.\n",
    "#\n",
    "#You can also convert an integer into its corresponding ASCII\n",
    "#character using the chr() function. chr(65) would give \"A\".\n",
    "#chr(90) would give \"Z\". So, for this problem, you'll need\n",
    "#to convert back and forth between ordinal values and\n",
    "#characters based on whether you're trying to loop over\n",
    "#numbers or print letters.\n",
    "\n",
    "for i in range(ord(start_character),ord(end_character)+1):\n",
    "    print(chr(i))"
   ]
  },
  {
   "cell_type": "code",
   "execution_count": null,
   "id": "bb6dc4e2-80de-40e7-9612-3f6e6ae63a6a",
   "metadata": {},
   "outputs": [],
   "source": []
  }
 ],
 "metadata": {
  "kernelspec": {
   "display_name": "Python 3 (ipykernel)",
   "language": "python",
   "name": "python3"
  },
  "language_info": {
   "codemirror_mode": {
    "name": "ipython",
    "version": 3
   },
   "file_extension": ".py",
   "mimetype": "text/x-python",
   "name": "python",
   "nbconvert_exporter": "python",
   "pygments_lexer": "ipython3",
   "version": "3.9.7"
  }
 },
 "nbformat": 4,
 "nbformat_minor": 5
}
