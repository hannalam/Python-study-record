{
 "cells": [
  {
   "cell_type": "markdown",
   "id": "1abcce7d-ddf5-4a39-89bd-242b3ded6736",
   "metadata": {},
   "source": [
    "## Test 2"
   ]
  },
  {
   "cell_type": "markdown",
   "id": "2a1ad5b7-c54d-4a83-b170-642f99cd1587",
   "metadata": {},
   "source": [
    "#### Library Fine"
   ]
  },
  {
   "cell_type": "code",
   "execution_count": 1,
   "id": "0ea6b374-00e9-4d14-839e-a9a8b8a18209",
   "metadata": {},
   "outputs": [
    {
     "name": "stdout",
     "output_type": "stream",
     "text": [
      "$40\n"
     ]
    }
   ],
   "source": [
    "days_late = 15\n",
    "in_demand = True\n",
    "\n",
    "#Write a conditional that decides the amount of a library fine\n",
    "#based on an overdue book. The fine is 1 dollar per day late\n",
    "#for the first 10 days, and 2 dollars per day for every day\n",
    "#after that. If the book is considered an \"in demand\" book,\n",
    "#the fine is doubled.\n",
    "#\n",
    "#Print the cost of the library fine, including a dollar sign.\n",
    "#If the book is not late, print $0.\n",
    "#\n",
    "#Under the original values above, this should print $40:\n",
    "#$10 for the first 10 days late, $10 for the next 5 days late,\n",
    "#and doubled because the book is in demand.\n",
    "\n",
    "if days_late <= 10:\n",
    "    if in_demand:\n",
    "        print(\"$\"+str(days_late*2))\n",
    "    else:\n",
    "        print(\"$\"+str(days_late))\n",
    "elif days_late >10:\n",
    "    if in_demand:\n",
    "        print(\"$\"+str((10+(days_late-10)*2)*2))\n",
    "    else:\n",
    "        print(\"$\"+str(10+ (days_late-10)*2))\n",
    "else:\n",
    "    print(\"$\"+str(0))"
   ]
  },
  {
   "cell_type": "markdown",
   "id": "36fc7b28-b932-4b24-adfe-3d023d2b9456",
   "metadata": {},
   "source": [
    "#### Print Even Range"
   ]
  },
  {
   "cell_type": "code",
   "execution_count": 2,
   "id": "91de503b-52d0-4419-b68c-f340feb29245",
   "metadata": {},
   "outputs": [
    {
     "name": "stdout",
     "output_type": "stream",
     "text": [
      "6\n",
      "8\n",
      "10\n",
      "12\n",
      "14\n"
     ]
    }
   ],
   "source": [
    "minimum = 5\n",
    "maximum = 14\n",
    "\n",
    "#Write a loop (we suggest a for loop) that prints all the\n",
    "#even numbers from minimum to maximum. Each number should be\n",
    "#printed on its own line, and you should print both minimum\n",
    "#and maxmimum themselves if they are even. You may assume\n",
    "#minimum will always be less than maximum.\n",
    "#\n",
    "#With the initial values for minimum and maximum above, this\n",
    "#should print 6, 8, 10, 12, 14 -- each number would be on its\n",
    "#own line, no commas.\n",
    "\n",
    "for i in range(minimum,maximum+1):\n",
    "    if i % 2 == 0:\n",
    "        print(i)"
   ]
  },
  {
   "cell_type": "markdown",
   "id": "c1a46f47-e9a1-4091-b748-42e81bbc7515",
   "metadata": {},
   "source": [
    "#### Coupon Code"
   ]
  },
  {
   "cell_type": "code",
   "execution_count": 3,
   "id": "8de3b3ed-550a-481e-b6ca-17b7af88c19d",
   "metadata": {},
   "outputs": [
    {
     "name": "stdout",
     "output_type": "stream",
     "text": [
      "10.7\n",
      "5.7\n"
     ]
    }
   ],
   "source": [
    "#Write a function called find_final_price. find_final_price\n",
    "#should have two positional parameters: a price and a sales\n",
    "#tax rate. It should also have a keyword parameter called\n",
    "#coupon_code, with a default value of 0.\n",
    "#\n",
    "#find_final_price should return the final price of the item,\n",
    "#which is the initial price plus the sales tax (price times\n",
    "#tax rate) minus the coupon code.\n",
    "#\n",
    "#Round the final answer to two decimal places. You can do\n",
    "#that with final_price = round(previous_price, 2).\n",
    "\n",
    "def find_final_price(price, tax, coupon_code = 0):\n",
    "    final_price =price + (tax * price) - coupon_code\n",
    "    return round(final_price,2)\n",
    "\n",
    "#print:\n",
    "#10.70\n",
    "#5.70\n",
    "print(find_final_price(10.0, 0.07))\n",
    "print(find_final_price(10.0, 0.07, coupon_code = 5.0))"
   ]
  },
  {
   "cell_type": "markdown",
   "id": "e3d84b5c-92ef-491d-adb5-f81c245faf2a",
   "metadata": {},
   "source": [
    "#### Is Prime (Not Yet Finish)"
   ]
  },
  {
   "cell_type": "code",
   "execution_count": null,
   "id": "db14e2f7-eb22-42d1-8d66-ba80ba4cb47f",
   "metadata": {},
   "outputs": [],
   "source": [
    "#Write a function called is_prime. is_primse should take\n",
    "#as input one integer. It should return True if the integer\n",
    "#is prime, False if the integer is not prime. You may\n",
    "#assume the integer will be greater than 2 and less than\n",
    "#1000.\n",
    "#\n",
    "#Remember, a prime number is one into which no number is\n",
    "#divisible besides 1 and itself. For example, 6 is not\n",
    "#prime because it is divisible by 2 and 3. 7 is prime\n",
    "#because it is only divisible by 1 and itself.\n",
    "#\n",
    "#HINT: Remember, once you find a _single_ factor of the\n",
    "#number, you can return False: it only takes one factor\n",
    "#to make the number not prime.\n",
    "\n",
    "\n",
    "#Add your code here!\n",
    "def is_prime(ing):\n",
    "    ing <=1000 and ing >2\n",
    "    if ing % ing == 0:\n",
    "        return True\n",
    "    else:\n",
    "        return False\n",
    "\n",
    "#Below are some lines of code that will test your function.\n",
    "#You can change the value of the variable(s) to test your\n",
    "#function with different inputs.\n",
    "#\n",
    "#If your function works correctly, this will originally\n",
    "#print: True, False, True, False, True, False\n",
    "print(is_prime(5))\n",
    "print(is_prime(6))\n",
    "print(is_prime(97))\n",
    "print(is_prime(105))\n",
    "print(is_prime(997))\n",
    "print(is_prime(999))"
   ]
  },
  {
   "cell_type": "markdown",
   "id": "109ae433-31df-4ce2-9a55-3aca842866c9",
   "metadata": {},
   "source": [
    "#### Lower Error (Not Yet Finish)"
   ]
  },
  {
   "cell_type": "code",
   "execution_count": null,
   "id": "974c30f9-0814-4c32-995a-686793d196f1",
   "metadata": {},
   "outputs": [],
   "source": [
    "the_string = \"Ramblin\"\n",
    "\n",
    "#You may modify the lines of code above, but don't move them!\n",
    "#When you Submit your code, we'll change these lines to\n",
    "#assign different values to the variables.\n",
    "#\n",
    "#The string class has a method called islower which returns\n",
    "#True if a string is all lower case, false if it is not.\n",
    "#For example, if the_string = \"Ramblin\", then calling the\n",
    "#method the_string.islower() would return False. If instead\n",
    "#the_string was \"wreck\", the_string.islower() would return\n",
    "#True.\n",
    "#\n",
    "#Write some code that uses islower to print True if\n",
    "#the_string is all lower case, False if it is not. However,\n",
    "#if the_string isn't actually a string, this would instead\n",
    "#cause an AttributeError. Catch that error and instead\n",
    "#print the message \"Only strings can be lowercase!\".\n",
    "#\n",
    "#Note that you may not use any conditionals in your answer.\n",
    "#Note also that you should not assume that every error that\n",
    "#occurs is an attribute error: any other errors should not\n",
    "#be caught.\n",
    "\n",
    "\n",
    "#Add your code here!\n",
    "try:\n",
    "    if the_string == the_string.islower():\n",
    "        print(the_string.islower())\n",
    "    else:\n",
    "        print(the_string.islower())\n",
    "except AttributeError:\n",
    "    print(\"Only strings can be lowercase!\")"
   ]
  },
  {
   "cell_type": "markdown",
   "id": "4fd3654c-390a-46e2-a676-adc510bad234",
   "metadata": {},
   "source": [
    "#### Pull Numerals (Not Yet Finish)"
   ]
  },
  {
   "cell_type": "code",
   "execution_count": null,
   "id": "3dfab1d3-4bbd-4a3e-bf3d-9f8723a3f552",
   "metadata": {},
   "outputs": [],
   "source": [
    "#Write a function called get_numerals. get_numerals should\n",
    "#accept one parameter, a string. It should return a string\n",
    "#containing only the numerals from the original string:\n",
    "#no letters, punctuation marks, or spaces.\n",
    "#\n",
    "#Remember, numerals have ordinal numbers between 48 (\"0\")\n",
    "#and 57 (\"9\"). You may use the ord() function to get\n",
    "#a letter's ordinal number.\n",
    "#\n",
    "#Your function should be able to handle strings with no\n",
    "#numerals (return an empty string) and strings with all\n",
    "#numerals (return the original string). You may assume\n",
    "#we'll only use regular characters (no emojis, formatting\n",
    "#characters, etc.).\n",
    "\n",
    "\n",
    "#Write your function here!\n",
    "\n",
    "\n",
    "#Below are some lines of code that will test your function.\n",
    "#You can change the value of the variable(s) to test your\n",
    "#function with different inputs.\n",
    "#\n",
    "#If your function works correctly, this will originally\n",
    "#print:\n",
    "#1301\n",
    "#\n",
    "#8675309\n",
    "print(get_numerals(\"CS1301\"))\n",
    "print(get_numerals(\"Georgia Institute of Technology\"))\n",
    "print(get_numerals(\"8675309\"))"
   ]
  },
  {
   "cell_type": "markdown",
   "id": "447c05c0-449a-4f56-b685-84f322fc1605",
   "metadata": {},
   "source": [
    "#### Calendar Check (Not Yet Finish)"
   ]
  },
  {
   "cell_type": "code",
   "execution_count": null,
   "id": "53013dac-3014-45f7-8358-591db9a8dfa1",
   "metadata": {},
   "outputs": [],
   "source": [
    "#Write a function called check_date. check_date should\n",
    "#require two positional parameters: a string representing\n",
    "#the name of a month, and an integer representing a date.\n",
    "#check_date should also have a keyword parameter called\n",
    "#is_leap_year, assumed to be False, representing whether or\n",
    "#not it's a leap year.\n",
    "#\n",
    "#Return True if the date is a valid calendar date. Return\n",
    "#False if it is not. A date may not be a valid calendar\n",
    "#date if the month isn't a real month, or if that date does\n",
    "#not exist for that month. You can see some examples at the\n",
    "#end of this file.\n",
    "#\n",
    "#Remember: 30 days has September, April, June, and November.\n",
    "#All the rest have 31, except February, which has 28, until\n",
    "#Leap Year gives it 29.\n",
    "#\n",
    "#You may assume that day will be greater than 0 (you don't\n",
    "#need to check negative or zero values for day).\n",
    "\n",
    "\n",
    "#Write your function here!\n",
    "\n",
    "\n",
    "\n",
    "#Below are some lines of code that will test your function.\n",
    "#You can change the value of the variable(s) to test your\n",
    "#function with different inputs.\n",
    "#\n",
    "#If your function works correctly, this will originally\n",
    "#print: True, True, False, False, each on their own line.\n",
    "print(check_date(\"January\", 31))\n",
    "print(check_date(\"February\", 29, is_leap_year = True))\n",
    "print(check_date(\"Techtember\", 15, is_leap_year = True))\n",
    "print(check_date(\"June\", 31))\n"
   ]
  },
  {
   "cell_type": "markdown",
   "id": "0200d6a5-656d-435f-be3d-651d7d57a325",
   "metadata": {},
   "source": [
    "#### Collatz (Not Yet Finish)"
   ]
  },
  {
   "cell_type": "code",
   "execution_count": null,
   "id": "f9b47c2b-9617-4ebe-9c58-efcd2cecb0cc",
   "metadata": {},
   "outputs": [],
   "source": [
    "#The Collatz Conjecture is a famous sequence in mathematics\n",
    "#proposed by Lothar Collatz. It proceeds as follows:\n",
    "#\n",
    "#Start with any number. If the number is even, divide it by\n",
    "#2. If the number is odd, triple it and add one. Repeat.\n",
    "#Eventually, no matter what number you begin with, this\n",
    "#sequence will converge on 1 (and if you continue repeating\n",
    "#it, you'll repeat 1-4-2 infinitely).\n",
    "#\n",
    "#For example, imagine we started with the number 21:\n",
    "#5 is odd, so 5 * 3 + 1 = 16\n",
    "#16 is even, so 16 / 2 = 8\n",
    "#8 is even, so 8 / 2 = 4\n",
    "#4 is even, so 4 / 2 = 2\n",
    "#2 is even, so 2 / 1 = 1\n",
    "#\n",
    "#Starting with 5, this sequence converges on 1 in 5\n",
    "#iterations: 5 to 16, 16 to 8, 8 to 4, 4 to 2, and 2 to 1.\n",
    "#\n",
    "#Implement a function called collatz. collatz should take\n",
    "#as input an integer, and return the number of iterations\n",
    "#it takes for the Collatz sequence to reach 1 from that\n",
    "#number. For example, collatz(5) would return 5 because\n",
    "#it took 5 iterations to converge on 1.\n",
    "\n",
    "#Add your code here!\n",
    "\n",
    "\n",
    "#Below are some lines of code that will test your function.\n",
    "#You can change the value of the variable(s) to test your\n",
    "#function with different inputs.\n",
    "#\n",
    "#If your function works correctly, this will originally\n",
    "#print: 5, 17, and 23, each on their own lines.\n",
    "print(collatz(5))\n",
    "print(collatz(15))\n",
    "print(collatz(25))"
   ]
  },
  {
   "cell_type": "markdown",
   "id": "63c60eeb-9ae2-4e64-a8b4-8a542adf1262",
   "metadata": {},
   "source": [
    "#### Valid Product Code (Not Yet Finish)"
   ]
  },
  {
   "cell_type": "code",
   "execution_count": null,
   "id": "579cf61f-3f84-47a1-8a2b-b033a574fc36",
   "metadata": {},
   "outputs": [],
   "source": [
    "#Write a function called product_code_check. product_code_check\n",
    "#should take as input a single string. It should return a boolean:\n",
    "#True if the product code is a valid code according to the rules\n",
    "#below, False if it is not.\n",
    "#\n",
    "#A string is a valid product code if it meets ALL the following\n",
    "#conditions:\n",
    "#\n",
    "# - It must be at least 8 characters long.\n",
    "# - It must contain at least one character from each of the\n",
    "#   following categories: capital letters, lower-case letters,\n",
    "#   and numbers.\n",
    "# - It may not contain any punctuation marks, spaces, or other\n",
    "#   characters.\n",
    "\n",
    "#Add your code here!\n",
    "\n",
    "\n",
    "#Below are some lines of code that will test your function.\n",
    "#You can change the value of the variable(s) to test your\n",
    "#function with different inputs.\n",
    "#\n",
    "#If your function works correctly, this will originally\n",
    "#print: True, True, False, False, False\n",
    "print(product_code_check(\"g00dlONGproductCODE\"))\n",
    "print(product_code_check(\"fRV53FwSXX663cCd\"))\n",
    "print(product_code_check(\"2shOrt\"))\n",
    "print(product_code_check(\"alll0wercase\"))\n",
    "print(product_code_check(\"inv4l1d CH4R4CTERS~\"))\n"
   ]
  }
 ],
 "metadata": {
  "kernelspec": {
   "display_name": "Python 3 (ipykernel)",
   "language": "python",
   "name": "python3"
  },
  "language_info": {
   "codemirror_mode": {
    "name": "ipython",
    "version": 3
   },
   "file_extension": ".py",
   "mimetype": "text/x-python",
   "name": "python",
   "nbconvert_exporter": "python",
   "pygments_lexer": "ipython3",
   "version": "3.9.7"
  }
 },
 "nbformat": 4,
 "nbformat_minor": 5
}
