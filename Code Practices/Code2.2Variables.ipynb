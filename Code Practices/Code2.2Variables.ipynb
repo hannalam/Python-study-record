{
 "cells": [
  {
   "cell_type": "markdown",
   "id": "a0eeb9d7-6258-4ba3-b327-3a797acc1012",
   "metadata": {},
   "source": [
    "## Code 2.2 Variables"
   ]
  },
  {
   "cell_type": "markdown",
   "id": "4feb2d76-109a-4b51-a63e-96d88b330af1",
   "metadata": {},
   "source": [
    "#### FourVariables"
   ]
  },
  {
   "cell_type": "code",
   "execution_count": 2,
   "id": "6a3d69ab-f4c5-4010-9720-e0853d280ce2",
   "metadata": {},
   "outputs": [
    {
     "name": "stdout",
     "output_type": "stream",
     "text": [
      "<class 'int'>\n",
      "<class 'float'>\n",
      "<class 'str'>\n",
      "<class 'bool'>\n"
     ]
    }
   ],
   "source": [
    "#Create four variables name my_integer, my_decimal,\n",
    "#my_string, and my_boolean. Assign to each variable a\n",
    "#value of the corresponding type (an integer for\n",
    "#my_integer, a string of characters for my_string,\n",
    "#etc.).\n",
    "#Then, print the types of each of the four variables\n",
    "#in order: first the integer, then the decimal\n",
    "#number, then the string, then the boolean. This\n",
    "#should print text like <class 'int'>, <class\n",
    "#'float'>, and so on.\n",
    "\n",
    "#Create your variables here!\n",
    "my_integer = 13\n",
    "my_decimal = 2.2\n",
    "my_string = \"banana\"\n",
    "my_boolean = True\n",
    "\n",
    "#Print their types here!\n",
    "print(type(my_integer))\n",
    "print(type(my_decimal))\n",
    "print(type(my_string))\n",
    "print(type(my_boolean))"
   ]
  },
  {
   "cell_type": "code",
   "execution_count": 3,
   "id": "cedc1fc9-2d9b-4ec7-9ad3-1f7c307c5263",
   "metadata": {},
   "outputs": [
    {
     "name": "stdout",
     "output_type": "stream",
     "text": [
      "<class 'str'>\n",
      "<class 'int'>\n",
      "<class 'bool'>\n",
      "<class 'float'>\n"
     ]
    }
   ],
   "source": [
    "#Modify the code below so that the output matches the following:\n",
    "#\n",
    "#<class 'str'>\n",
    "#<class 'int'>\n",
    "#<class 'bool'>\n",
    "#<class 'float'>\n",
    "\n",
    "print(type(\"Hello!\"))\n",
    "print(type(5))\n",
    "print(type(True))\n",
    "print(type(5.1))"
   ]
  },
  {
   "cell_type": "markdown",
   "id": "ad95c1ce-a12c-4bce-9429-7d63310124b8",
   "metadata": {},
   "source": [
    "#### PrintIntegers"
   ]
  },
  {
   "cell_type": "code",
   "execution_count": 4,
   "id": "244b6b93-84f1-4e5c-adac-cfd74b947c51",
   "metadata": {},
   "outputs": [
    {
     "name": "stdout",
     "output_type": "stream",
     "text": [
      "The current value of my_int is: 9\n"
     ]
    }
   ],
   "source": [
    "#The code below creates a variable named my_int and\n",
    "#assigns to it a random number from 0 to 10. You\n",
    "#don't need to worry about how this works; all you\n",
    "#need to know is that my_int will have an integer\n",
    "#as its value once this code is done.\n",
    "\n",
    "import random\n",
    "my_int = random.randint(0, 10)\n",
    "\n",
    "print(\"The current value of my_int is: \" + str(my_int))"
   ]
  },
  {
   "cell_type": "markdown",
   "id": "8b6427ab-9660-4fbe-8150-8e6db5243376",
   "metadata": {},
   "source": [
    "#### PrintingVariableLables"
   ]
  },
  {
   "cell_type": "code",
   "execution_count": 9,
   "id": "8c689c13-84c0-48c0-9a7e-6e78fefe23a5",
   "metadata": {},
   "outputs": [
    {
     "name": "stdout",
     "output_type": "stream",
     "text": [
      "my_int1: 1\n",
      "my_int2: 5\n",
      "my_int3: 9\n",
      "my_int1: 6\n",
      "my_int2: 15\n",
      "my_int3: 81\n"
     ]
    }
   ],
   "source": [
    "#Now, add three lines of code that will print the values\n",
    "#of those three variables with \"my_int1:\", \"my_int2:\", and\n",
    "#\"my_int3:\" labeling the output. So, if the variables' values\n",
    "#were 1, 5, and 9, your lines would print:\n",
    "#\n",
    "my_int1 = 1\n",
    "my_int2 = 5\n",
    "my_int3 = 9\n",
    "\n",
    "#Add your lines of code here!\n",
    "print(\"my_int1:\",my_int1)\n",
    "print(\"my_int2:\",my_int2)\n",
    "print(\"my_int3:\",my_int3)\n",
    "\n",
    "#Next, these lines of code will modify the values of those\n",
    "#three variables. \n",
    "my_int1 += 5\n",
    "my_int2 *= 3\n",
    "my_int3 **= 2\n",
    "\n",
    "#Add your lines of code here!\n",
    "print(\"my_int1:\",my_int1)\n",
    "print(\"my_int2:\",my_int2)\n",
    "print(\"my_int3:\",my_int3)\n",
    "\n",
    "#If your code works correctly, then when run, it should print:\n",
    "#my_int1: 1\n",
    "#my_int2: 5\n",
    "#my_int3: 9\n",
    "#my_int1: 6\n",
    "#my_int2: 15\n",
    "#my_int3: 81"
   ]
  },
  {
   "cell_type": "code",
   "execution_count": null,
   "id": "2c276554-cc51-4889-8bb2-56d131f97b08",
   "metadata": {},
   "outputs": [],
   "source": []
  }
 ],
 "metadata": {
  "kernelspec": {
   "display_name": "Python 3 (ipykernel)",
   "language": "python",
   "name": "python3"
  },
  "language_info": {
   "codemirror_mode": {
    "name": "ipython",
    "version": 3
   },
   "file_extension": ".py",
   "mimetype": "text/x-python",
   "name": "python",
   "nbconvert_exporter": "python",
   "pygments_lexer": "ipython3",
   "version": "3.9.7"
  }
 },
 "nbformat": 4,
 "nbformat_minor": 5
}
