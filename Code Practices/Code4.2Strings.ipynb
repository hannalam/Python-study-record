{
 "cells": [
  {
   "cell_type": "markdown",
   "id": "2f56ac9a-4563-4c64-8460-13761957cf8b",
   "metadata": {},
   "source": [
    "## Code 4.2 Strings"
   ]
  },
  {
   "cell_type": "markdown",
   "id": "e14e999a-5c24-46d9-85d0-5732742c2aa6",
   "metadata": {},
   "source": [
    "#### Pluralizer"
   ]
  },
  {
   "cell_type": "code",
   "execution_count": 1,
   "id": "8a434f0c-b545-4939-9524-888e02e7f3e2",
   "metadata": {},
   "outputs": [
    {
     "name": "stdout",
     "output_type": "stream",
     "text": [
      "1 cat\n",
      "7 items\n",
      "127 octopi\n"
     ]
    }
   ],
   "source": [
    "#Write a function called pluralize. pluralize should have three\n",
    "#parameters: an integer and two strings. The integer is the\n",
    "#number of some item. The first string is the string to use if\n",
    "#the item should not be pluralized. The second string is the\n",
    "#string to use if the item should be pluralized.\n",
    "#\n",
    "#pluralize should return the correct string based on the number\n",
    "#and plural form: it should use the non-plural version if the\n",
    "#number is 1, and the plural form for all other numbers.\n",
    "#\n",
    "#For example:\n",
    "# pluralize(1, \"cat\", \"cats\") -> \"1 cat\"\n",
    "# pluralize(7, \"item\", \"items\") -> \"7 items\"\n",
    "# pluralize(127, \"octopus\", \"octopi\") -> \"127 octopi\"\n",
    "\n",
    "def pluralize(integer, string1, string2):\n",
    "    if integer == 1:\n",
    "        return str(integer) +\" \"+ string1\n",
    "    else:\n",
    "        return str(integer) +\" \"+ string2\n",
    "#print:\n",
    "#1 cat\n",
    "#7 items\n",
    "#127 octopi\n",
    "print(pluralize(1, \"cat\", \"cats\"))\n",
    "print(pluralize(7, \"item\", \"items\"))\n",
    "print(pluralize(127, \"octopus\", \"octopi\"))"
   ]
  },
  {
   "cell_type": "markdown",
   "id": "0512cf95-d610-49bf-a7d9-a25f573b286f",
   "metadata": {},
   "source": [
    "#### Ordinal"
   ]
  },
  {
   "cell_type": "code",
   "execution_count": 2,
   "id": "dda2e9df-686e-4e3c-86ad-187a77b84435",
   "metadata": {},
   "outputs": [
    {
     "name": "stdout",
     "output_type": "stream",
     "text": [
      "True\n",
      "False\n",
      "True\n",
      "False\n"
     ]
    }
   ],
   "source": [
    "#Python, like most languages, actually uses numbers in the \n",
    "#background to represent individual characters in a string. \n",
    "#For example, \"a\" is assigned the numeric value of 97. \n",
    "#We call this the ordinal value. www.asciitable.com shows\n",
    "#a table of ordinal values: the ordinal value is listed in\n",
    "#the 'dec' column, and the actual character is listed in\n",
    "#'chr' column.\n",
    "#\n",
    "#The first 31 are cryptic characters that have\n",
    "#special meaning to the computer. The extended codes haven't\n",
    "#really been used since Windows came along. Beyond these\n",
    "#255, the higher numbers are actually used to represent emojis.\n",
    "\n",
    "#Write a function called \"valid_char\" that determines\n",
    "#if a single character (a string of length one) has an\n",
    "#ordinal value corresponding to a valid character for a\n",
    "#password. Valid characters are any character on the\n",
    "#keyboard except spaces. Return True if it's a valid\n",
    "#character, False if it is not.\n",
    "#\n",
    "#Hint: you can find the ordinal value of a character using \n",
    "#the built-in Python function ord(): ord(\"a\") -> 97\n",
    "#\n",
    "#Hint 2: the range of legal characters will be one\n",
    "#continuous range (e.g. characters 55 through 65, not\n",
    "#separate ranges like 55 through 65 and 69 through 79).\n",
    "#You can use asciitable.com to look up what range you should use.\n",
    "\n",
    "#Write your function here!\n",
    "def valid_char(string):\n",
    "    if ord(string) in range(33,127):\n",
    "        return True\n",
    "    else:\n",
    "        return False \n",
    "#print: True, False, True, False\n",
    "\n",
    "print(valid_char(\"a\"))\n",
    "print(valid_char(\" \"))\n",
    "print(valid_char(\"!\"))\n",
    "print(valid_char(\"☺\"))"
   ]
  },
  {
   "cell_type": "markdown",
   "id": "58fc5878-068d-455e-a2b1-30d6146d08e3",
   "metadata": {},
   "source": [
    "#### Third Char"
   ]
  },
  {
   "cell_type": "code",
   "execution_count": 3,
   "id": "3329e0bc-5b8b-4d0b-a74b-669a94bb721f",
   "metadata": {},
   "outputs": [
    {
     "name": "stdout",
     "output_type": "stream",
     "text": [
      "1\n",
      "o\n",
      "Too short\n"
     ]
    }
   ],
   "source": [
    "#Write function called third_character that accepts a\n",
    "#string as an argument and returns the third character\n",
    "#of the string. If the user inputs a string with fewer than 3 characters, return \"Too short\". \n",
    "\n",
    "def third_character(string):\n",
    "    if len(string) < 3:\n",
    "        return \"Too short\"\n",
    "    else:\n",
    "        return string[2]\n",
    "    \n",
    "#print: 1, o, and \"Too short\", each on a different line.\n",
    "print(third_character(\"CS1301\"))\n",
    "print(third_character(\"Georgia Tech\"))\n",
    "print(third_character(\"GT\"))"
   ]
  },
  {
   "cell_type": "markdown",
   "id": "b4d490bf-14ba-4a84-a60f-291bc5735163",
   "metadata": {},
   "source": [
    "#### Num Change"
   ]
  },
  {
   "cell_type": "code",
   "execution_count": 4,
   "id": "47b1a129-40b7-47e4-9af1-8ef6e98a9f87",
   "metadata": {},
   "outputs": [
    {
     "name": "stdout",
     "output_type": "stream",
     "text": [
      "123456 -> 381\n"
     ]
    }
   ],
   "source": [
    "#Write a function called \"num_changer\" that accepts a string \n",
    "#of digits (0-9). You should make an integer from the digits \n",
    "#of the even indices and another number from the digits in \n",
    "#the odd indices. Return the sum of these two numbers. You \n",
    "#can assume the given string will have a length of at least 2 digits.\n",
    "#\n",
    "#For example, if the string was \"123456\", you would split\n",
    "#this into two integers, 135 and 246. Adding them would give\n",
    "#381. Or if the string was \"13579\", you would split this into\n",
    "#159 and 37, then add them to get 196.\n",
    "#\n",
    "#Hint: You can do this with loops, but it's easier to do\n",
    "#this with string slicing. Remember how we could pass a third\n",
    "#argument to range() that would tell range how many numbers\n",
    "#to skip? You can do something similar with string slices: if\n",
    "#you include second colon in a string slice, the number\n",
    "#that follows it lets you skip characters in the string. For example:\n",
    "#\n",
    "# \"Hello, world!\"[1:9] -> This gives \"ello, wo\".\n",
    "# \"Hello, world!\"[1:9:2] -> This gives \"el,w\". Including :2\n",
    "#    in the string slice skips every other letter. \n",
    "# \"Hello, world!\" [::3] -> This gives \"Hl r!\". Leaving the\n",
    "#    first two spots blank tells it to look at the entire\n",
    "#    string, but putting :3 at the end says to only take\n",
    "#    every third character (H, l, space, r, and !).\n",
    "#\n",
    "#Hint 2: Remember, Python is zero-indexed. That means the\n",
    "#first number in the string is at position 0, and so it goes in the even list.\n",
    "\n",
    "def num_changer(string_num):\n",
    "    odd = string_num[0::2]\n",
    "    even = string_num[1::2]\n",
    "    add = int(odd) + int(even)\n",
    "    return add\n",
    "\n",
    "#print: 123456 -> 381\n",
    "string_int = \"123456\"\n",
    "result = num_changer(string_int)\n",
    "print(string_int + \" -> \" + str(result))"
   ]
  },
  {
   "cell_type": "markdown",
   "id": "17c7dc83-91ae-4ee2-ad78-4dd9e5f86210",
   "metadata": {},
   "source": [
    "#### In Parentheses"
   ]
  },
  {
   "cell_type": "code",
   "execution_count": 6,
   "id": "3875b698-150f-4556-bff0-0687a3aa57e4",
   "metadata": {},
   "outputs": [
    {
     "name": "stdout",
     "output_type": "stream",
     "text": [
      "words!\n",
      "\n",
      "as he is doing right now\n",
      "\n",
      "\n",
      "\n",
      "!\n"
     ]
    }
   ],
   "source": [
    "#Write a function called \"in_parentheses\" that accepts a \n",
    "#single argument, a string representing a sentence that\n",
    "#contains some words in parentheses. Your function should\n",
    "#return the contents of the parentheses.\n",
    "#\n",
    "#For example:\n",
    "# in_parentheses(\"This is a sentence (words!)\") -> \"words!\"\n",
    "#\n",
    "#If no text appears in parentheses, return an empty string.\n",
    "#Note that there are several edge cases introduced by this:\n",
    "#all of the following function calls would return an empty string:\n",
    "#\n",
    "# in_parentheses(\"No parentheses\")\n",
    "# in_parentheses(\"Open ( only\")\n",
    "# in_parentheses(\"Closed ) only\")\n",
    "# in_parentheses(\"Closed ) before ( open\")\n",
    "\n",
    "def in_parentheses(mystr):\n",
    "    y=mystr.split(\"(\")\n",
    "    for i in y:\n",
    "      if len(y)>1:\n",
    "        b=y[1]\n",
    "        for char in range(len(b)):\n",
    "          if b[char]==\")\":\n",
    "            return b[:char]\n",
    "          elif not b[:-1]==\")\":\n",
    "            pass\n",
    "        for i in b:\n",
    "          return \"\"    \n",
    "      else:\n",
    "        return \"\"\n",
    "\n",
    "#print (including the blank lines):\n",
    "#words!\n",
    "#\n",
    "#as he is doing right now\n",
    "#\n",
    "#\n",
    "#!\n",
    "print(in_parentheses(\"This is a sentence (words!).\"))\n",
    "print(in_parentheses(\"No parentheses here!\"))\n",
    "print(in_parentheses(\"David tends to use parentheses a lot (as he is doing right now). It tends to be quite annoying.\"))\n",
    "print(in_parentheses(\"Open ( only\"))\n",
    "print(in_parentheses(\"Closed ) only\"))\n",
    "print(in_parentheses(\"Closed ) before ( open\"))\n",
    "print(in_parentheses(\"That's a lot of test cases(!)\"))"
   ]
  },
  {
   "cell_type": "markdown",
   "id": "611a51ac-a5c7-43aa-9f57-6df37b1ed2e7",
   "metadata": {},
   "source": [
    "#### Str Type"
   ]
  },
  {
   "cell_type": "code",
   "execution_count": 7,
   "id": "071672e4-bfc8-4d2b-bbe0-a4fa20f72f83",
   "metadata": {},
   "outputs": [
    {
     "name": "stdout",
     "output_type": "stream",
     "text": [
      "empty\n",
      "character\n",
      "word\n",
      "sentence\n",
      "paragraph\n",
      "page\n"
     ]
    }
   ],
   "source": [
    "#Write a function called 'string_type' which accepts one\n",
    "#string argument and determines what type of string it is. \n",
    "#\n",
    "# - If the string is empty, return \"empty\".\n",
    "# - If the string is a single character, return \"character\".\n",
    "# - If the string represents a single word, return \"word\".\n",
    "#   The string is a single word if it has no spaces.\n",
    "# - If the string is a whole sentence, return \"sentence\".\n",
    "#   The string is a sentence if it contains spaces, but at most one period.\n",
    "# - If the string is a paragraph, return \"paragraph\". The\n",
    "#   string is a paragraph if it contains both spaces and\n",
    "#   multiple periods (we won't worry about other punctuation marks).\n",
    "# - If the string is multiple paragraphs, return \"page\".\n",
    "#   The string is a paragraph if it contains any newline characters (\"\\n\").\n",
    "#\n",
    "#Hint 1: think carefully about what order you should check these conditions in.\n",
    "#Hint 2: remember, there exists a count() method that\n",
    "#counts the number of times a string appears in another\n",
    "#string. For example, \"blah blah blah\".count(\"blah\") would return 3.\n",
    "\n",
    "def string_type(a_string):\n",
    "    if a_string.count(\"\\n\") >= 1:\n",
    "        return \"page\"\n",
    "    elif a_string.count(\" \") >= 1 and a_string.count(\".\") > 1:\n",
    "        return \"paragraph\"\n",
    "    elif len(a_string) > 1 and a_string.count(\" \") > 1 and a_string.count(\".\") <= 1:\n",
    "        return \"sentence\"\n",
    "    elif len(a_string) > 1 and a_string.count(\" \") == 0:\n",
    "        return \"word\"\n",
    "    elif len(a_string) == 1:\n",
    "        return \"character\"\n",
    "    else:\n",
    "        return \"empty\"\n",
    "#print:\n",
    "#empty\n",
    "#character\n",
    "#word\n",
    "#sentence\n",
    "#paragraph\n",
    "#page\n",
    "print(string_type(\"\"))\n",
    "print(string_type(\"!\"))\n",
    "print(string_type(\"CS1301.\"))\n",
    "print(string_type(\"This is too many cases!\"))\n",
    "print(string_type(\"There's way too many ostriches. Why are there so many ostriches. The brochure said there'd only be a few ostriches.\"))\n",
    "print(string_type(\"Paragraphs need to have multiple sentences. It's true.\\nHowever, two is enough. Yes, two sentences can make a paragraph.\"))"
   ]
  },
  {
   "cell_type": "markdown",
   "id": "654b3f58-e7e4-4a33-aca3-09e94b6408a7",
   "metadata": {},
   "source": [
    "#### Input Type"
   ]
  },
  {
   "cell_type": "code",
   "execution_count": 8,
   "id": "4789e816-4b08-4a98-8c89-e909e962a1f4",
   "metadata": {},
   "outputs": [
    {
     "name": "stdout",
     "output_type": "stream",
     "text": [
      "string\n",
      "boolean\n",
      "float\n",
      "integer\n"
     ]
    }
   ],
   "source": [
    "#Write a function called \"input_type\" that gets user input and \n",
    "#determines what kind of string the user entered. The user input\n",
    "#will be supplied as an argument to the function like normal.\n",
    "#\n",
    "#  - Your function should return \"integer\" if the string only\n",
    "#    contains characters 0-9.\n",
    "#  - Your function should return \"float\" if the string only\n",
    "#    contains the numbers 0-9 and at most one period.\n",
    "#  - You should return \"boolean\" if the user enters \"True\" or\n",
    "#    \"False\". \n",
    "#  - Otherwise, you should return \"string\".\n",
    "\n",
    "def input_type(string):\n",
    "    if string.isdecimal():\n",
    "       return \"integer\"\n",
    "    elif string == \"True\" or string == \"False\":\n",
    "       return \"boolean\"\n",
    "    elif \".\" in string:\n",
    "       return \"float\"\n",
    "    else:\n",
    "        return \"string\"\n",
    "#print:\n",
    "#string\n",
    "#boolean\n",
    "#float\n",
    "#integer\n",
    "print(input_type(\"\"))\n",
    "print(input_type(\"False\"))\n",
    "print(input_type(\"7.432621\"))\n",
    "print(input_type(\"2788\"))"
   ]
  },
  {
   "cell_type": "markdown",
   "id": "d787e60f-7095-4c0f-a5b4-35de8563b2bb",
   "metadata": {},
   "source": [
    "#### Quote This"
   ]
  },
  {
   "cell_type": "code",
   "execution_count": 10,
   "id": "5850eedd-9649-4c18-a7dc-d3e94c082136",
   "metadata": {},
   "outputs": [
    {
     "name": "stdout",
     "output_type": "stream",
     "text": [
      "\"Try and fail, but never fail to try.\" -Jared Leto\n",
      "\"\"Try and fail, but never fail to try.\" -Jared Leto\" -Michael Scott\n"
     ]
    }
   ],
   "source": [
    "#Write a function called \"quote_this\" that accepts two \n",
    "#strings as arguments: a string representing a quote and\n",
    "#a string of a name. The function should return a new\n",
    "#string with the quote surrounded by quotation marks (\")\n",
    "#followed by a dash and the given name. For example:\n",
    "#\n",
    "#a = quote_this(\"Try and fail, but never fail to try.\",\"Jared Leto\")\n",
    "#print(a) \n",
    "#Will print:\n",
    "#\"Try and fail, but never fail to try.\" -Jared Leto\n",
    "#\n",
    "#If the code were to continue, this: b = quote_this(a, \"Michael Scott\")\n",
    "#print(b)\n",
    "#Would print:\n",
    "#\"\"Try and fail, but never fail to try.\" -Jared Leto\"- Michael Scott\n",
    "\n",
    "def quote_this(string1, string2):\n",
    "    b = '\"'+ string1 +'\"' +\" -\" +string2\n",
    "    return b\n",
    "\n",
    "a = quote_this(\"Try and fail, but never fail to try.\", \"Jared Leto\")\n",
    "print(a) \n",
    "b = quote_this(a, \"Michael Scott\")\n",
    "print(b)"
   ]
  },
  {
   "cell_type": "markdown",
   "id": "52ef4739-cf2d-4475-ba99-9ee33fcc2fc9",
   "metadata": {},
   "source": [
    "#### String Finder"
   ]
  },
  {
   "cell_type": "code",
   "execution_count": 12,
   "id": "7d5880d0-5f52-458f-80cd-5d6eed94a9e1",
   "metadata": {},
   "outputs": [
    {
     "name": "stdout",
     "output_type": "stream",
     "text": [
      "Beginning\n",
      "Middle\n",
      "End\n",
      "Not found\n"
     ]
    }
   ],
   "source": [
    "#Write a function called string_finder. string_finder should\n",
    "#take two parameters: a target string and a search string.\n",
    "#The function will look for the search string within the target string.\n",
    "#\n",
    "#The function should return a string representing where in\n",
    "#the target string the search string was found:\n",
    "#\n",
    "# - If search string is at the very beginning of target\n",
    "#   string, then return \"Beginning\". For example:\n",
    "#   string_finder(\"Georgia Tech\", \"Georgia\") -> \"Beginning\"\n",
    "#\n",
    "# - If search string is at the very end of target string,\n",
    "#   then return \"End\". For example:\n",
    "#   string_finder(\"Georgia Tech\", \"Tech\") -> \"End\"\n",
    "#\n",
    "# - If search string is in target string but not at the\n",
    "#   very beginning or very end, then return \"Middle. For\n",
    "#   example:\n",
    "#   string_finder(\"Georgia Tech\", \"gia\") -> \"Middle\"\n",
    "#\n",
    "# - If search string is not in target string at all, then\n",
    "#   return \"Not found\". For example:\n",
    "#   string_finder(\"Georgia Tech\", \"Idaho\") -> \"Not found\"\n",
    "#\n",
    "#Assume that we're only interested in the first instance\n",
    "#of the search string if it appears multiple times in the\n",
    "#target string, and that search string is definitely shorter than target string.\n",
    "#\n",
    "#Hint: Don't be surprised if you find that the \"End\" case is the toughest! \n",
    "#You'll need to look at the lengths of both the target string and the search string.\n",
    "\n",
    "def string_finder(target, search):\n",
    "    position = (target.find(search))\n",
    "    if position == 0:\n",
    "        return \"Beginning\"\n",
    "    elif position == len(target) - len(search):\n",
    "        return \"End\"\n",
    "    elif position > 0 and position < len(target) - 1:\n",
    "        return \"Middle\"\n",
    "    else:\n",
    "        return \"Not found\"\n",
    "#print: Beginning, Middle, End, Not found, each on their own line.\n",
    "print(string_finder(\"Georgia Tech\", \"Georgia\"))\n",
    "print(string_finder(\"Georgia Tech\", \"gia\"))\n",
    "print(string_finder(\"Georgia Tech\", \"Tech\"))\n",
    "print(string_finder(\"Georgia Tech\", \"Idaho\"))"
   ]
  },
  {
   "cell_type": "markdown",
   "id": "9e8c52a5-b3bf-4a92-907e-d21db56f022c",
   "metadata": {},
   "source": [
    "#### The Other Ordinal"
   ]
  },
  {
   "cell_type": "code",
   "execution_count": 13,
   "id": "71ec43b1-b846-4bb6-8eee-35597e032308",
   "metadata": {},
   "outputs": [
    {
     "name": "stdout",
     "output_type": "stream",
     "text": [
      "1st\n",
      "2nd\n",
      "3rd\n",
      "4th\n",
      "5th\n",
      "11th\n",
      "21st\n"
     ]
    }
   ],
   "source": [
    "#Write a function called to_ordinal. to_ordinal should\n",
    "#take as input an integer greater than 0. to_ordinal should\n",
    "#return a string of the ordinal of the integer (according to the above definition of ordinal).\n",
    "#\n",
    "#For example:\n",
    "# to_ordinal(1) -> 1st\n",
    "# to_ordinal(2) -> 2nd\n",
    "# to_ordinal(3) -> 3rd\n",
    "# to_ordinal(4) -> 4th\n",
    "# to_ordinal(5) -> 5th\n",
    "# to_ordinal(11) -> 11th\n",
    "# to_ordinal(21) -> 21st\n",
    "#\n",
    "#Generally, ordinal numbers are always the original integer\n",
    "#plus \"th\" _unless_ the original integer ended with 1 (in\n",
    "#which case you add \"st\"), 2 (in which case you add \"nd\"),\n",
    "#or 3 (in which case you add \"rd\")... except for 11, 12, and 13, which still end in \"th\".\n",
    "\n",
    "def to_ordinal(integer):\n",
    "    if integer == 11 or integer == 12 or integer == 13:\n",
    "        return str(integer) + \"th\"\n",
    "    elif str(integer)[-1] == \"1\":\n",
    "        return str(integer) + \"st\"\n",
    "    elif str(integer)[-1] == \"2\":\n",
    "        return str(integer) + \"nd\"\n",
    "    elif str(integer)[-1] == \"3\":\n",
    "        return str(integer) + \"rd\"\n",
    "    else:\n",
    "        return str(integer) + \"th\"\n",
    "#print:\n",
    "#1st\n",
    "#2nd\n",
    "#3rd\n",
    "#4th\n",
    "#5th\n",
    "#11th\n",
    "#21st\n",
    "print(to_ordinal(1))\n",
    "print(to_ordinal(2))\n",
    "print(to_ordinal(3))\n",
    "print(to_ordinal(4))\n",
    "print(to_ordinal(5))\n",
    "print(to_ordinal(11))\n",
    "print(to_ordinal(21))"
   ]
  },
  {
   "cell_type": "markdown",
   "id": "869f6581-d322-45db-9c3e-7dd9ff51b223",
   "metadata": {},
   "source": [
    "#### Drunk Mathemetician "
   ]
  },
  {
   "cell_type": "code",
   "execution_count": 14,
   "id": "c67ecec0-4729-4971-ab43-2eea03f2d755",
   "metadata": {},
   "outputs": [
    {
     "name": "stdout",
     "output_type": "stream",
     "text": [
      "1656.13\n",
      "29.58\n",
      "36368.72\n"
     ]
    }
   ],
   "source": [
    "#Write a function called to_metric. to_metric should take\n",
    "#as input one parameter, a string. The string will represent\n",
    "#a quantity in imperial volume units, such as \"7 cups\", \"2\n",
    "#tablespoons\", or \"8 gallons\". to_metric should return the\n",
    "#equivalent number of milliliters as a float. Round the result two two decimal places.\n",
    "#\n",
    "#The possible imperial units to handle and their conversion to milliliters are:\n",
    "#\n",
    "# - gallons: 4546.09 milliliters\n",
    "# - quarts: 1136.52 milliliters\n",
    "# - pints: 568.26 milliliters\n",
    "# - cups: 236.59 milliliters\n",
    "# - ounces: 28.41 milliliters\n",
    "# - tablespoons: 14.79 milliliters\n",
    "# - teaspoons: 4.93 milliliters\n",
    "#\n",
    "#Return only the float representing the number of milliliters, not the label. For example:\n",
    "#to_metric(\"7.0 cups\") -> 1656.13\n",
    "#to_metric(\"2.0 tablespoons\") -> 29.58\n",
    "#to_metric(\"8.0 gallons\") -> 36368.72\n",
    "#\n",
    "#You may assume that the string will be formatted like the\n",
    "#strings above: a decimal number, then a space, then one of\n",
    "#the following words: cgallons, quarts, pints, cups, ounces, tablespoons, teaspoons\n",
    "\n",
    "def to_metric(string):\n",
    "    if \"cup\" in string:\n",
    "        return round( float(string[:string.find(\" \")]) * 236.59 , 2)\n",
    "    elif \"gallon\" in string:\n",
    "        return round( float(string[:string.find(\" \")]) * 4546.09, 2)\n",
    "    elif \"quart\" in string:\n",
    "        return round( float(string[:string.find(\" \")]) * 1136.52, 2)\n",
    "    elif \"pint\" in string:\n",
    "        return round( float(string[:string.find(\" \")]) * 568.26, 2)\n",
    "    elif \"ounce\" in string:\n",
    "        return round( float(string[:string.find(\" \")]) * 28.41, 2)\n",
    "    elif \"tablespoon\" in string:\n",
    "        return round( float(string[:string.find(\" \")]) * 14.79, 2)\n",
    "    elif \"teaspoon\" in string:\n",
    "        return round( float(string[:string.find(\" \")]) * 4.93, 2)\n",
    "#print:\n",
    "#1656.13\n",
    "#29.58\n",
    "#36368.72\n",
    "print(to_metric(\"7.0 cups\"))\n",
    "print(to_metric(\"2.0 tablespoons\"))\n",
    "print(to_metric(\"8.0 gallons\"))"
   ]
  },
  {
   "cell_type": "markdown",
   "id": "0682277b-a41b-4fb1-b432-00513e451811",
   "metadata": {},
   "source": [
    "#### Find the Phone Number"
   ]
  },
  {
   "cell_type": "code",
   "execution_count": 15,
   "id": "c2eaecd5-6d4f-4121-aad7-9c9bf4851a6e",
   "metadata": {},
   "outputs": [
    {
     "name": "stdout",
     "output_type": "stream",
     "text": [
      "4049876543\n",
      "7705551234\n",
      "6789123456\n"
     ]
    }
   ],
   "source": [
    "#One common function of online text-parsers is trying to find\n",
    "#known text in a block of other text. For example, from a web\n",
    "#site, we might want to find any phone numbers present on the web site.\n",
    "#\n",
    "#Write a function called find_phone_number. The function\n",
    "#should have one parameter, a string. The function should\n",
    "#return the phone number that was present in the string.\n",
    "#\n",
    "#For this problem, you may make the following assumptions:\n",
    "#\n",
    "# - The phone number will be all digits, such as 4043219876.\n",
    "# - There will only be one phone number in the string.\n",
    "# - There will be a phone number in the string.\n",
    "# - Either the phone number will be at the start or end of\n",
    "#   the string, or it will have spaces on either side of it.\n",
    "#\n",
    "#There may be other numbers in the string, but there will only\n",
    "#be one 10-digit number. Find and return that number as a string.\n",
    "#\n",
    "#Hint: There are lots of different ways to do this. Think about\n",
    "#all the tools at your disposal: split, find, casting strings to integers, error handling, etc.!\n",
    "\n",
    "def find_phone_number(string):\n",
    "    y = string.split(\" \")\n",
    "    for i in y:\n",
    "        if len(i) == 10 and i.isdigit():\n",
    "            return str(i)\n",
    "        else:\n",
    "            pass\n",
    "#print:\n",
    "#4049876543\n",
    "#7705551234\n",
    "#6789123456\n",
    "print(find_phone_number(\"hello 4049876543 goodbye\"))\n",
    "print(find_phone_number(\"7705551234 this is alex\"))\n",
    "print(find_phone_number(\"doh ray me abc 123 its 6789123456\"))"
   ]
  },
  {
   "cell_type": "markdown",
   "id": "4f70d19b-5aa7-4a83-afaa-72c3a4f22678",
   "metadata": {},
   "source": [
    "#### Find Color"
   ]
  },
  {
   "cell_type": "code",
   "execution_count": 16,
   "id": "e5818209-8097-4ed1-acf0-8dfa065b3299",
   "metadata": {},
   "outputs": [
    {
     "name": "stdout",
     "output_type": "stream",
     "text": [
      "red\n",
      "purple\n",
      "gray\n"
     ]
    }
   ],
   "source": [
    "#This one is a challenge. There's a lot going on: splitting\n",
    "#up strings, removing unnecessary characters, converting to\n",
    "#integers, and running a big conditional. Our solution to this is 34 lines -- you can do it!\n",
    "#\n",
    "#In web development, it is common to represent a color like this:\n",
    "#\n",
    "#  rgb(red_val, green_val, blue_val)\n",
    "#\n",
    "#where red_val, green_val and blue_val would be substituted \n",
    "#with values from 0-255 telling the computer how much to \n",
    "#light up that portion of the pixel. For example:\n",
    "#\n",
    "# - rgb(255, 0, 0) would make a color red. \n",
    "# - rgb(255, 255, 0) would make yellow, because it is equal \n",
    "#   parts red and green. \n",
    "# - rgb(0, 0, 0) would make black, the absence of all color.\n",
    "# - rgb(255, 255, 255) would make white, the presence of all\n",
    "#   colors equally.\n",
    "#\n",
    "#Don't let the function-like syntax here confuse you: here,\n",
    "#these are just strings. The string \"rgb(0, 255, 0)\"\n",
    "#represents the color green.\n",
    "#\n",
    "#Write a function called \"find_color\" that accepts a single \n",
    "#argument expected to be a string as just described. Your\n",
    "#function should return a simplified version of the color\n",
    "#that is represented according to the following rules:\n",
    "#\n",
    "# If there is more red than any other color, return \"red\".\n",
    "# If there is more green than any other color, return \"green\".\n",
    "# If there is more blue than any other color, return \"blue\".\n",
    "# If there are equal parts red and green, return \"yellow\".\n",
    "# If there are equal parts red and blue, return \"purple\".\n",
    "# If there are equal parts green and blue, return \"teal\".\n",
    "# If there are equal parts red, green, and blue, return \"gray\".\n",
    "# (even though this might be white or black).\n",
    "    \n",
    "def find_color(string):\n",
    "    ss = string.split('rgb')\n",
    "    ss = ss[1].split(',')\n",
    "    ss = str(ss)\n",
    "    ss = ss.replace(\"(\",\"\")\n",
    "    ss = ss.replace(\")\",\"\")\n",
    "    ss = ss.replace(\"[\",\"\")\n",
    "    ss = ss.replace(\"]\",\"\")\n",
    "    ss = ss.replace(\",\",\"\")\n",
    "    ss = ss.replace(\"'\",\"\")\n",
    "    ss = ss.split()\n",
    "\n",
    "    red_val = int(ss[0])\n",
    "    green_val = int(ss[1])\n",
    "    blue_val = int(ss[2])\n",
    "\n",
    "    if red_val == green_val and red_val == blue_val:\n",
    "        return \"gray\"\n",
    "    elif red_val > green_val and  red_val > blue_val:\n",
    "        return \"red\"\n",
    "    elif blue_val > red_val and blue_val > green_val:\n",
    "        return \"blue\"\n",
    "    elif green_val > red_val and green_val > blue_val:\n",
    "        return \"green\"\n",
    "    elif red_val == green_val  != blue_val:\n",
    "        return \"yellow\"\n",
    "    elif red_val == blue_val != green_val:\n",
    "        return \"purple\"\n",
    "    elif green_val == blue_val:\n",
    "        return \"teal\"\n",
    "    \n",
    "#print: red, purple, gray, each on their own line.\n",
    "print(find_color(\"rgb(125, 50, 75)\"))\n",
    "print(find_color(\"rgb(125, 17, 125)\"))\n",
    "print(find_color(\"rgb(217, 217, 217)\"))"
   ]
  },
  {
   "cell_type": "markdown",
   "id": "f944b4bc-654d-4165-afee-414232940df5",
   "metadata": {},
   "source": [
    "#### Steps"
   ]
  },
  {
   "cell_type": "code",
   "execution_count": 17,
   "id": "3b4d58c1-1056-443a-b3cb-0c5c7363e043",
   "metadata": {},
   "outputs": [
    {
     "name": "stdout",
     "output_type": "stream",
     "text": [
      "111\n",
      "\t222\n",
      "\t\t333\n",
      "\n",
      "111\n",
      "\t222\n",
      "\t\t333\n",
      "\t\t\t444\n",
      "\t\t\t\t555\n",
      "\t\t\t\t\t666\n",
      "\n"
     ]
    }
   ],
   "source": [
    "#Now, let's improve our steps() function to take one parameter\n",
    "#that represents the number of 'steps' to print. It should\n",
    "#then return a string that, when printed, shows output like the following:\n",
    "#\n",
    "#print(steps(3))\n",
    "#111\n",
    "#\t222\n",
    "#\t\t333\n",
    "#\n",
    "#print(steps(6))\n",
    "#111\n",
    "#\t222\n",
    "#\t\t333\n",
    "#\t\t\t444\n",
    "#\t\t\t\t555\n",
    "#\t\t\t\t\t666\n",
    "#\n",
    "#Specifically, it should start with 1, and show three of each\n",
    "#number from 1 to the inputted value, each on a separate\n",
    "#line. The first line should have no tabs in front, but each\n",
    "#subsequent line should have one more tab than the line\n",
    "#before it. You may assume that we will not call steps() with a value greater than 9.\n",
    "#\n",
    "#Hint: You'll want to use a loop, and you'll want to create\n",
    "#the string you're building before the loop starts, then add to it with every iteration.\n",
    "\n",
    "def steps(no_steps):\n",
    "    st = ''\n",
    "    j = 0\n",
    "    for i in range(0, no_steps):\n",
    "        st += ((\"\\t\" *j) + (str(i+1) * 3) + '\\n')\n",
    "        j+=1\n",
    "    return st\n",
    "\n",
    "print(steps(3))\n",
    "print(steps(6))"
   ]
  },
  {
   "cell_type": "markdown",
   "id": "50dca259-2676-4f0e-807e-ac900f255223",
   "metadata": {},
   "source": [
    "#### After Second"
   ]
  },
  {
   "cell_type": "code",
   "execution_count": 18,
   "id": "61da4b13-fd86-4932-976e-474cdf33a75d",
   "metadata": {},
   "outputs": [
    {
     "name": "stdout",
     "output_type": "stream",
     "text": [
      "44554321\n",
      "hi!\n"
     ]
    }
   ],
   "source": [
    "#Write a function called after_second that accepts two \n",
    "#arguments: a target string to search, and string to search\n",
    "#for. The  function should return everything in the first\n",
    "#string *after* the *second* occurrence of the search term.\n",
    "#You can assume  there will always be at least two\n",
    "#occurrences of the search term in the first string. \n",
    "#\n",
    "#For example:\n",
    "#  after_second(\"11223344554321\", \"3\") -> 44554321\n",
    "#\n",
    "#The search term \"3\" appears at indices 4 and 5. So, this\n",
    "#returns everything from the index 6 to the end.\n",
    "#\n",
    "#  after_second(\"heyyoheyhi!\", \"hey\") -> hi!\n",
    "#\n",
    "#The search term \"hey\" appears at indices 0 and 5. The\n",
    "#search term itself is three characters. So, this returns\n",
    "#everything from the index 8 to the end.\n",
    "#\n",
    "#Hint: This may be more complicated than it looks! You'll\n",
    "#have to look at the length of the search string and\n",
    "#either modify the target string or take advantage of the extra arguments you can pass to find().\n",
    "\n",
    "def after_second(string, search):\n",
    "    finder = string.find(search)\n",
    "    count = 0\n",
    "    while not finder == -1:\n",
    "        finder = string.find(search, finder + 1)\n",
    "        count += 1\n",
    "        if count == 1:\n",
    "            return string[finder + len(search):]\n",
    "        \n",
    "#print 44554321 and hi!, each on their own line.\n",
    "print(after_second(\"11223344554321\", \"3\"))\n",
    "print(after_second(\"heyyoheyhi!\", \"hey\"))"
   ]
  },
  {
   "cell_type": "markdown",
   "id": "b9f2ecb4-ddd8-4a54-8f03-81f1212a0494",
   "metadata": {},
   "source": [
    "#### Replace All"
   ]
  },
  {
   "cell_type": "code",
   "execution_count": null,
   "id": "91393806-6a32-42cb-95f8-b9f645a66beb",
   "metadata": {},
   "outputs": [],
   "source": [
    "#Write a function called \"replace_all\" that accepts three arguments:\n",
    "#\n",
    "# - target_string, a string in which to search.\n",
    "# - find_string, a string to search for.\n",
    "# - replace_string, a string to use to replace every instance of the value of find.\n",
    "#\n",
    "#The arguments will be provided in this order. Your function\n",
    "#should mimic the behavior of \"replace\", but you cannot use\n",
    "#that function in your implementation. Instead, you should\n",
    "#find the result using a combination of split() and join(), or some other method.\n",
    "#\n",
    "#Hint: This exercise can be complicated, but it can also\n",
    "#be done in a single short line of code! Think carefully about\n",
    "#the methods we've covered.\n",
    "\n",
    "def replace_all(target_string, find_string, replace_string):\n",
    "    new = target_string.split(find_string)\n",
    "    return replace_string.join(new)\n",
    "\n",
    "#print: \"In case I don't see ya, bad afternoon, bad evening, and bad night!\"\n",
    "target = \"In case I don't see ya, good afternoon, good evening, and good night!\"\n",
    "find = \"good\"\n",
    "replace = \"bad\"\n",
    "print(replace_all(target, find, replace))"
   ]
  },
  {
   "cell_type": "markdown",
   "id": "99c77348-63ac-4551-abb5-df14523a7a8b",
   "metadata": {},
   "source": [
    "#### Spongebob"
   ]
  },
  {
   "cell_type": "code",
   "execution_count": 20,
   "id": "868658cb-468a-471b-a80f-f14cabf34e95",
   "metadata": {},
   "outputs": [
    {
     "name": "stdout",
     "output_type": "stream",
     "text": [
      "AbCd eFgH IjKl\n"
     ]
    }
   ],
   "source": [
    "#Write a function called mock. mock should take one\n",
    "#parameter, a string. You may assume that the string will\n",
    "#have only lowercase letters and spaces.\n",
    "#\n",
    "#Your function should return the same string, but any letter\n",
    "#at an even index should be converted to uppercase.\n",
    "#\n",
    "#For example: mock(\"abcd efgh ijkl\") would return \"AbCd eFgH IjKl\".\n",
    "#\n",
    "#Remember, you can use the ordinal function ord() to get the\n",
    "#number associated with a single letter. For example,\n",
    "#ord(\"a\") returns 97. The number associated with lowercase\n",
    "#letters is always 32 larger than the number associated with\n",
    "#the equivalent uppercase letter. ord(\"a\") is 97, and\n",
    "#ord(\"A\") is 65. ord(\"z\") is 122, and ord(\"Z\") is 90.\n",
    "#\n",
    "#Remember, you can use the character function chr() to\n",
    "#convert a number back to a letter. For example, chr(65) will return \"A\".\n",
    "#\n",
    "#HINT: Treat all characters the same initially, then worry\n",
    "#about taking care of spaces afterwards.\n",
    "\n",
    "def mock(string):\n",
    "    result=\"\"\n",
    "    for i in range(len(string)):\n",
    "        if i%2==0:\n",
    "            result+=string[i].upper()\n",
    "        else:\n",
    "            result+=string[i]\n",
    "    return result\n",
    "\n",
    "#Below are some lines of code that will test your function.\n",
    "#You can change the value of the variable(s) to test your\n",
    "#function with different inputs.\n",
    "\n",
    "#print: \"AbCd eFgH IjKl\".\n",
    "print(mock(\"abcd efgh ijkl\"))"
   ]
  },
  {
   "cell_type": "markdown",
   "id": "9c3ee85c-a395-4e3b-9b7e-b1f97934a614",
   "metadata": {},
   "source": [
    "#### Spongebob (Not Yet Finish)"
   ]
  },
  {
   "cell_type": "code",
   "execution_count": 21,
   "id": "e4c6b0e8-d7e1-427c-a1e9-4bc9ba20d46c",
   "metadata": {},
   "outputs": [
    {
     "ename": "TypeError",
     "evalue": "ord() expected string of length 1, but int found",
     "output_type": "error",
     "traceback": [
      "\u001b[1;31m---------------------------------------------------------------------------\u001b[0m",
      "\u001b[1;31mTypeError\u001b[0m                                 Traceback (most recent call last)",
      "\u001b[1;32m~\\AppData\\Local\\Temp/ipykernel_22564/1768280045.py\u001b[0m in \u001b[0;36m<module>\u001b[1;34m\u001b[0m\n\u001b[0;32m     23\u001b[0m \u001b[1;33m\u001b[0m\u001b[0m\n\u001b[0;32m     24\u001b[0m \u001b[1;31m#print: \"abCd. efGh.. IJkL!\".\u001b[0m\u001b[1;33m\u001b[0m\u001b[1;33m\u001b[0m\u001b[0m\n\u001b[1;32m---> 25\u001b[1;33m \u001b[0mprint\u001b[0m\u001b[1;33m(\u001b[0m\u001b[0mmock\u001b[0m\u001b[1;33m(\u001b[0m\u001b[1;34m\"Abcd. Efgh.. Ijkl!\"\u001b[0m\u001b[1;33m)\u001b[0m\u001b[1;33m)\u001b[0m\u001b[1;33m\u001b[0m\u001b[1;33m\u001b[0m\u001b[0m\n\u001b[0m",
      "\u001b[1;32m~\\AppData\\Local\\Temp/ipykernel_22564/1768280045.py\u001b[0m in \u001b[0;36mmock\u001b[1;34m(string)\u001b[0m\n\u001b[0;32m     16\u001b[0m     \u001b[0mresult\u001b[0m\u001b[1;33m=\u001b[0m\u001b[1;34m\"\"\u001b[0m\u001b[1;33m\u001b[0m\u001b[1;33m\u001b[0m\u001b[0m\n\u001b[0;32m     17\u001b[0m     \u001b[1;32mfor\u001b[0m \u001b[0mi\u001b[0m \u001b[1;32min\u001b[0m \u001b[0mrange\u001b[0m\u001b[1;33m(\u001b[0m\u001b[0mlen\u001b[0m\u001b[1;33m(\u001b[0m\u001b[0mstring\u001b[0m\u001b[1;33m)\u001b[0m\u001b[1;33m)\u001b[0m\u001b[1;33m:\u001b[0m\u001b[1;33m\u001b[0m\u001b[1;33m\u001b[0m\u001b[0m\n\u001b[1;32m---> 18\u001b[1;33m         \u001b[1;32mif\u001b[0m \u001b[0mi\u001b[0m\u001b[1;33m==\u001b[0m\u001b[0mord\u001b[0m\u001b[1;33m(\u001b[0m\u001b[1;36m97\u001b[0m\u001b[1;33m)\u001b[0m\u001b[1;33m:\u001b[0m\u001b[1;33m\u001b[0m\u001b[1;33m\u001b[0m\u001b[0m\n\u001b[0m\u001b[0;32m     19\u001b[0m             \u001b[0mresult\u001b[0m\u001b[1;33m+=\u001b[0m\u001b[0mstring\u001b[0m\u001b[1;33m[\u001b[0m\u001b[0mi\u001b[0m\u001b[1;33m]\u001b[0m\u001b[1;33m.\u001b[0m\u001b[0mupper\u001b[0m\u001b[1;33m(\u001b[0m\u001b[1;33m)\u001b[0m\u001b[1;33m\u001b[0m\u001b[1;33m\u001b[0m\u001b[0m\n\u001b[0;32m     20\u001b[0m         \u001b[1;32melse\u001b[0m\u001b[1;33m:\u001b[0m\u001b[1;33m\u001b[0m\u001b[1;33m\u001b[0m\u001b[0m\n",
      "\u001b[1;31mTypeError\u001b[0m: ord() expected string of length 1, but int found"
     ]
    }
   ],
   "source": [
    "#Revise your function so that it no longer makes these\n",
    "#assumptions. It should leave any punctuation marks or\n",
    "#numerals unchanged, and it should change the case of\n",
    "#every letter at an even index. That means if the letter\n",
    "#is initially uppercase, it should be converted to lower case.\n",
    "#\n",
    "#For example: mock(\"Abcd. Efgh.. Ijkl!\") would return\n",
    "#\"abCd. efGh.. IJkL!\". The even-index letters (A, C, E, g,\n",
    "#j, l) changed case, all other characters were unchanged.\n",
    "#\n",
    "#HINT: Lowercase letters always have an ordinal between\n",
    "#97 (\"a\") and 122 (\"z\"). Uppercase letters always have an\n",
    "#ordinal between 65 (\"A\") and 90 (\"Z\").\n",
    "\n",
    "def mock(string):\n",
    "    result=\"\"\n",
    "    for i in range(len(string)):\n",
    "        if i==ord(97):\n",
    "            result+=string[i].upper()\n",
    "        else:\n",
    "            result+=string[i]\n",
    "    return result\n",
    "\n",
    "#print: \"abCd. efGh.. IJkL!\".\n",
    "print(mock(\"Abcd. Efgh.. Ijkl!\"))"
   ]
  },
  {
   "cell_type": "code",
   "execution_count": null,
   "id": "be823992-9488-493d-965b-911034ef11e0",
   "metadata": {},
   "outputs": [],
   "source": []
  }
 ],
 "metadata": {
  "kernelspec": {
   "display_name": "Python 3 (ipykernel)",
   "language": "python",
   "name": "python3"
  },
  "language_info": {
   "codemirror_mode": {
    "name": "ipython",
    "version": 3
   },
   "file_extension": ".py",
   "mimetype": "text/x-python",
   "name": "python",
   "nbconvert_exporter": "python",
   "pygments_lexer": "ipython3",
   "version": "3.9.7"
  }
 },
 "nbformat": 4,
 "nbformat_minor": 5
}
