{
 "cells": [
  {
   "cell_type": "markdown",
   "id": "eaee0147-0f21-4fc5-a21a-29b3432bf102",
   "metadata": {},
   "source": [
    "## 2.1 Procedural Programming\n"
   ]
  },
  {
   "cell_type": "code",
   "execution_count": 1,
   "id": "2ff7acf7-c8a3-443c-adbd-fb8a5ea55198",
   "metadata": {},
   "outputs": [
    {
     "name": "stdout",
     "output_type": "stream",
     "text": [
      "5\n",
      "5.1\n",
      "2022-05-17\n"
     ]
    }
   ],
   "source": [
    "#Gets the library we need to see the date\n",
    "from datetime import date\n",
    "#Prints the integer 5\n",
    "print(5)\n",
    "#Prints the number 5.1\n",
    "print(5.1)\n",
    "#Prints today's date\n",
    "print(date.today())"
   ]
  },
  {
   "cell_type": "code",
   "execution_count": 2,
   "id": "71ee1c3c-2652-43e8-9d87-2dae0b29722d",
   "metadata": {},
   "outputs": [
    {
     "name": "stdout",
     "output_type": "stream",
     "text": [
      "1 2 3 4 5 6 7 8 9 10 \n",
      "1 2 3 4 5 \n",
      "1 2 \n"
     ]
    }
   ],
   "source": [
    "def countdown(i):\n",
    "    for j in range(1,i + 1):\n",
    "        print(j, end = \" \")\n",
    "    print()\n",
    "countdown(10)\n",
    "countdown(5)\n",
    "countdown(2)"
   ]
  },
  {
   "cell_type": "code",
   "execution_count": null,
   "id": "a5f89d17-39cb-404a-8245-94fc50a1f708",
   "metadata": {},
   "outputs": [],
   "source": []
  }
 ],
 "metadata": {
  "kernelspec": {
   "display_name": "Python 3 (ipykernel)",
   "language": "python",
   "name": "python3"
  },
  "language_info": {
   "codemirror_mode": {
    "name": "ipython",
    "version": 3
   },
   "file_extension": ".py",
   "mimetype": "text/x-python",
   "name": "python",
   "nbconvert_exporter": "python",
   "pygments_lexer": "ipython3",
   "version": "3.9.7"
  }
 },
 "nbformat": 4,
 "nbformat_minor": 5
}
