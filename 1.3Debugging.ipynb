{
 "cells": [
  {
   "cell_type": "markdown",
   "id": "decbf5cb-f38f-4a89-a679-84c08f8dd040",
   "metadata": {},
   "source": [
    "## 1.3 Debugging"
   ]
  },
  {
   "cell_type": "code",
   "execution_count": 1,
   "id": "2960298e-8623-49d5-9d7a-1ab4ff9ec036",
   "metadata": {},
   "outputs": [
    {
     "name": "stdout",
     "output_type": "stream",
     "text": [
      "True\n"
     ]
    },
    {
     "ename": "AttributeError",
     "evalue": "'int' object has no attribute 'endswith'",
     "output_type": "error",
     "traceback": [
      "\u001b[1;31m---------------------------------------------------------------------------\u001b[0m",
      "\u001b[1;31mAttributeError\u001b[0m                            Traceback (most recent call last)",
      "\u001b[1;32m~\\AppData\\Local\\Temp/ipykernel_21168/2340364436.py\u001b[0m in \u001b[0;36m<module>\u001b[1;34m\u001b[0m\n\u001b[0;32m      2\u001b[0m \u001b[0mb\u001b[0m \u001b[1;33m=\u001b[0m \u001b[1;36m5\u001b[0m\u001b[1;33m\u001b[0m\u001b[1;33m\u001b[0m\u001b[0m\n\u001b[0;32m      3\u001b[0m \u001b[0mprint\u001b[0m\u001b[1;33m(\u001b[0m\u001b[0ma\u001b[0m\u001b[1;33m.\u001b[0m\u001b[0mendswith\u001b[0m\u001b[1;33m(\u001b[0m\u001b[1;34m\"d\"\u001b[0m\u001b[1;33m)\u001b[0m\u001b[1;33m)\u001b[0m\u001b[1;33m\u001b[0m\u001b[1;33m\u001b[0m\u001b[0m\n\u001b[1;32m----> 4\u001b[1;33m \u001b[0mprint\u001b[0m\u001b[1;33m(\u001b[0m\u001b[0mb\u001b[0m\u001b[1;33m.\u001b[0m\u001b[0mendswith\u001b[0m\u001b[1;33m(\u001b[0m\u001b[1;34m\"d\"\u001b[0m\u001b[1;33m)\u001b[0m\u001b[1;33m)\u001b[0m\u001b[1;33m\u001b[0m\u001b[1;33m\u001b[0m\u001b[0m\n\u001b[0m",
      "\u001b[1;31mAttributeError\u001b[0m: 'int' object has no attribute 'endswith'"
     ]
    }
   ],
   "source": [
    "a = \"Hello, world\"\n",
    "b = 5\n",
    "print(a.endswith(\"d\"))\n",
    "print(b.endswith(\"d\"))"
   ]
  },
  {
   "cell_type": "markdown",
   "id": "964e0dd6-6268-4b1f-84ee-20b45e2404f4",
   "metadata": {},
   "source": [
    "### NameError: "
   ]
  },
  {
   "cell_type": "markdown",
   "id": "bd42ae84-54cb-4206-ace6-f7a4c39ea819",
   "metadata": {},
   "source": [
    "An error that usually occurs when you use a variable name that doesn't yet exist. When you encounter these, check first for misspellings; you very likely might have misspelled a variable name, causing the computer to see it as a completely different variable! If that doesn't work, try to find where you first defined the variable."
   ]
  },
  {
   "cell_type": "markdown",
   "id": "babdecff-d4f1-43e2-b5b1-9cbbbccadc67",
   "metadata": {},
   "source": [
    "### TypeError:"
   ]
  },
  {
   "cell_type": "markdown",
   "id": "8d42e81b-33f7-402c-9442-28a240f74d70",
   "metadata": {},
   "source": [
    "An error that occurs when we try to perform an operation on an object that doesn't make sense with the operation, like calculating the length of a number or to print an omelette."
   ]
  },
  {
   "cell_type": "markdown",
   "id": "3aa83d12-2119-48fd-93aa-c88a7a552197",
   "metadata": {},
   "source": [
    "### AttributeError: "
   ]
  },
  {
   "cell_type": "markdown",
   "id": "d93509f0-c31c-4537-b60d-a4ab4163721d",
   "metadata": {},
   "source": [
    "An error occurs when we ask for information about a variable that doesn't make sense, like the happiness of a potato or the GPA of a turnip."
   ]
  },
  {
   "cell_type": "markdown",
   "id": "417d10f5-93a7-44c6-b8b2-9f6bc5b3a138",
   "metadata": {},
   "source": [
    "### SyntaxError:"
   ]
  },
  {
   "cell_type": "markdown",
   "id": "c09994af-ddda-41bb-890d-09134b71096a",
   "metadata": {},
   "source": [
    "An error that occurs when the line of code we've written can't be read by the computer because it doesn't match the computer's expectation for the programming language's grammar."
   ]
  },
  {
   "cell_type": "markdown",
   "id": "17156e50-0135-48ad-b491-e4a7e8bbcd2c",
   "metadata": {},
   "source": [
    "## Basic Debugging"
   ]
  },
  {
   "cell_type": "code",
   "execution_count": 2,
   "id": "bd0c6ce5-3981-4f73-9a55-5402b0126998",
   "metadata": {},
   "outputs": [
    {
     "name": "stdout",
     "output_type": "stream",
     "text": [
      "0\n"
     ]
    }
   ],
   "source": [
    "i = 10\n",
    "count = 1\n",
    "while count < i:\n",
    "    count = count + 1\n",
    "while count > 0:\n",
    "    count = count - 1\n",
    "print(count)"
   ]
  },
  {
   "cell_type": "markdown",
   "id": "5c7e54f2-ff6a-4115-936e-c3fef6d7ba00",
   "metadata": {},
   "source": [
    "### Print Debugging:"
   ]
  },
  {
   "cell_type": "markdown",
   "id": "eb1ce674-d3b9-433c-895c-d3c9d174aee5",
   "metadata": {},
   "source": [
    "A form of debugging where print statements are added throughout the code to check how the program is flowing."
   ]
  },
  {
   "cell_type": "markdown",
   "id": "bcd5b2ec-6e16-4b4f-b99d-4af041f77a23",
   "metadata": {},
   "source": [
    "### Scope Debugging:"
   ]
  },
  {
   "cell_type": "markdown",
   "id": "3b75f93b-3013-4b77-9f29-59f9a94b17de",
   "metadata": {},
   "source": [
    "Scope Debugging: A form of debugging where print statements are added to check the status of the variables in the program at different  stages to see how they are changing."
   ]
  },
  {
   "cell_type": "markdown",
   "id": "b880bdfe-6ee2-429f-bfd5-d3de116c2374",
   "metadata": {},
   "source": [
    "### Rubber Duck Debugging: "
   ]
  },
  {
   "cell_type": "markdown",
   "id": "fda64de9-b4ad-42bc-8b29-fc666689ecf8",
   "metadata": {},
   "source": [
    "A form of debugging where the programmer explains the logic, goals, and operations to an inanimate listener to methodically step through the code."
   ]
  },
  {
   "cell_type": "code",
   "execution_count": null,
   "id": "a9e9bd63-2fa7-4c8a-9e60-548e9716c575",
   "metadata": {},
   "outputs": [],
   "source": []
  }
 ],
 "metadata": {
  "kernelspec": {
   "display_name": "Python 3 (ipykernel)",
   "language": "python",
   "name": "python3"
  },
  "language_info": {
   "codemirror_mode": {
    "name": "ipython",
    "version": 3
   },
   "file_extension": ".py",
   "mimetype": "text/x-python",
   "name": "python",
   "nbconvert_exporter": "python",
   "pygments_lexer": "ipython3",
   "version": "3.9.7"
  }
 },
 "nbformat": 4,
 "nbformat_minor": 5
}
