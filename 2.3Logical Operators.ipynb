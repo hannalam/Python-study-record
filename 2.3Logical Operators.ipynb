{
 "cells": [
  {
   "cell_type": "markdown",
   "id": "ca6f2aac-59cd-4dcc-8cda-e76f4cc6ec46",
   "metadata": {},
   "source": [
    "## 2.3 Logical Operators"
   ]
  },
  {
   "cell_type": "code",
   "execution_count": 1,
   "id": "348a5e0b-8108-45b7-8bb7-49c1add3f9e4",
   "metadata": {},
   "outputs": [
    {
     "name": "stdout",
     "output_type": "stream",
     "text": [
      "True\n"
     ]
    }
   ],
   "source": [
    "mystery_value_1 = 4\n",
    "mystery_value_2 = 6\n",
    "\n",
    "#Complete this program so that it prints True if\n",
    "#mystery_value_2 is greater than or equal to mystery_value_1,\n",
    "#and False otherwise.\n",
    "\n",
    "#Write your code here!\n",
    "print(mystery_value_2 >= mystery_value_1)"
   ]
  },
  {
   "cell_type": "markdown",
   "id": "d5357ff2-8e63-4d1f-bf11-493e120a1c49",
   "metadata": {},
   "source": [
    "### Non-Numeric Equality Comparisons"
   ]
  },
  {
   "cell_type": "code",
   "execution_count": 3,
   "id": "467ebc4b-91d3-4c9d-b2ad-6c28a4bd5168",
   "metadata": {},
   "outputs": [
    {
     "name": "stdout",
     "output_type": "stream",
     "text": [
      "True\n",
      "True\n",
      "True\n"
     ]
    }
   ],
   "source": [
    "from datetime import time\n",
    "from datetime import date\n",
    "mystery_string_1 = \"Hello, world\"\n",
    "mystery_string_2 = \"Hello, world\"\n",
    "mystery_date_1 = date(2017, 1, 15)\n",
    "mystery_date_2 = date(2017, 1, 15)\n",
    "mystery_time_1 = time(12, 45)\n",
    "mystery_time_2 = time(12, 45)\n",
    "\n",
    "#it should print True, True, True. \n",
    "print(mystery_string_1 == mystery_string_2)\n",
    "print(mystery_date_1 == mystery_date_2)\n",
    "print(mystery_time_1 == mystery_time_2)\n"
   ]
  },
  {
   "cell_type": "markdown",
   "id": "75679a83-c4da-4007-af75-d467d6c2d2f0",
   "metadata": {},
   "source": [
    "### Operators in Action"
   ]
  },
  {
   "cell_type": "code",
   "execution_count": 4,
   "id": "7aaf4b5a-cf19-4a3c-b8f6-25a78b0ab1aa",
   "metadata": {},
   "outputs": [
    {
     "name": "stdout",
     "output_type": "stream",
     "text": [
      "True\n"
     ]
    }
   ],
   "source": [
    "list_of_fruits = [\"grape\", \"orange\", \"banana\", \"kiwi\", \"pear\"]\n",
    "search_fruit = \"kiwi\"\n",
    "\n",
    "#it would print True because \"kiwi\" is an item in the list. if we changed the value\n",
    "#of search_fruit to \"strawberry\", it would print False.\n",
    "\n",
    "#Add your code here!\n",
    "print(search_fruit in list_of_fruits)"
   ]
  },
  {
   "cell_type": "markdown",
   "id": "299a85e0-36f9-4746-9e5f-1b52ffc812a1",
   "metadata": {},
   "source": [
    "### Relational Operators"
   ]
  },
  {
   "cell_type": "code",
   "execution_count": 5,
   "id": "896a650b-77f5-43e4-ad29-5100c210f163",
   "metadata": {},
   "outputs": [
    {
     "name": "stdout",
     "output_type": "stream",
     "text": [
      "True\n",
      "False\n",
      "True\n"
     ]
    }
   ],
   "source": [
    "a = \"Hello, world\"\n",
    "b = \"Hello, world\"\n",
    "c = \"Hello, \"\n",
    "d = \"world\"\n",
    "print(a == b)\n",
    "print(a == c)\n",
    "print(a == c + d)"
   ]
  },
  {
   "cell_type": "markdown",
   "id": "fad979eb-9bde-4ede-9516-b0e6ed619ce6",
   "metadata": {},
   "source": [
    "### Combining Operators"
   ]
  },
  {
   "cell_type": "code",
   "execution_count": 11,
   "id": "fc3f7d77-6aff-4f94-9a49-b6572db0e0de",
   "metadata": {},
   "outputs": [
    {
     "name": "stdout",
     "output_type": "stream",
     "text": [
      "True\n"
     ]
    }
   ],
   "source": [
    "onList = True\n",
    "inStock = True\n",
    "onSale = False\n",
    "rotten = False\n",
    "\n",
    "print(onList and inStock)"
   ]
  },
  {
   "cell_type": "code",
   "execution_count": null,
   "id": "9af32cec-9390-4ae6-9635-516f52b1d5e8",
   "metadata": {},
   "outputs": [],
   "source": []
  }
 ],
 "metadata": {
  "kernelspec": {
   "display_name": "Python 3 (ipykernel)",
   "language": "python",
   "name": "python3"
  },
  "language_info": {
   "codemirror_mode": {
    "name": "ipython",
    "version": 3
   },
   "file_extension": ".py",
   "mimetype": "text/x-python",
   "name": "python",
   "nbconvert_exporter": "python",
   "pygments_lexer": "ipython3",
   "version": "3.9.7"
  }
 },
 "nbformat": 4,
 "nbformat_minor": 5
}
