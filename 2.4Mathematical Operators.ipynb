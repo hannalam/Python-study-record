{
 "cells": [
  {
   "cell_type": "markdown",
   "id": "51d9cb4d-da0b-4de9-a9fd-9e65c263cd00",
   "metadata": {},
   "source": [
    "## 2.4 Mathematical Operators"
   ]
  },
  {
   "cell_type": "code",
   "execution_count": 1,
   "id": "d8a496cb-6d5b-4e59-88e3-2f93b3b8f107",
   "metadata": {},
   "outputs": [
    {
     "name": "stdout",
     "output_type": "stream",
     "text": [
      "1\n",
      "0\n",
      "1\n",
      "0\n",
      "\n",
      "1\n",
      "2\n",
      "0\n",
      "1\n",
      "2\n",
      "0\n"
     ]
    }
   ],
   "source": [
    "print(3 % 2)\t#Print the remainder of 3 / 2\n",
    "print(4 % 2) \t#Print the remainder of 4 / 2\n",
    "print(5 % 2) \t#Print the remainder of 5 / 2\n",
    "print(6 % 2) \t#Print the remainder of 6 / 2\n",
    "print()\n",
    "print(4 % 3) \t#Print the remainder of 4 / 3\n",
    "print(5 % 3) \t#Print the remainder of 5 / 3\n",
    "print(6 % 3) \t#Print the remainder of 6 / 3\n",
    "print(7 % 3) \t#Print the remainder of 7 / 3\n",
    "print(8 % 3) \t#Print the remainder of 8 / 3\n",
    "print(9 % 3) \t#Print the remainder of 9 / 3"
   ]
  },
  {
   "cell_type": "markdown",
   "id": "65a2e580-19a5-4f7c-8996-22eb44e72cce",
   "metadata": {},
   "source": [
    "#### FiveMathFunctions"
   ]
  },
  {
   "cell_type": "code",
   "execution_count": 2,
   "id": "06716988-6ab4-43cf-af97-38d49a1b7eb5",
   "metadata": {},
   "outputs": [
    {
     "name": "stdout",
     "output_type": "stream",
     "text": [
      "8\n",
      "4\n",
      "12\n",
      "3.0\n",
      "0\n"
     ]
    }
   ],
   "source": [
    "mystery_value_1 = 6\n",
    "mystery_value_2 = 2\n",
    "\n",
    "#Write some lines of code below that will perform the\n",
    "#following operations in the given order:\n",
    "#\n",
    "# - Print the sum of mystery_value_1 and mystery_value_2\n",
    "# - Print the difference between mystery_value_1 and mystery_value_2\n",
    "#   (mystery_value_1 minus mystery_value_2)\n",
    "# - Print the product of mystery_value_1 and mystery_value_2\n",
    "# - Print the quotient of mystery_value_1 and mystery_value_2\n",
    "#   (mystery_value_1 divided by mystery_value_2)\n",
    "# - Print the modulus of mystery_value_1 and mystery_value_2\n",
    "#   (the remainder of the division operation above)\n",
    "\n",
    "print(mystery_value_1 + mystery_value_2)\n",
    "print(mystery_value_1 - mystery_value_2)\n",
    "print(mystery_value_1 * mystery_value_2)\n",
    "print(mystery_value_1 / mystery_value_2)\n",
    "print(mystery_value_1 % mystery_value_2)"
   ]
  },
  {
   "cell_type": "markdown",
   "id": "165e524e-815d-480f-84d9-9c0ae2e4938d",
   "metadata": {},
   "source": [
    "#### Incrementing and Loops"
   ]
  },
  {
   "cell_type": "code",
   "execution_count": 3,
   "id": "8c1f10c2-a4ba-4dce-b12d-f9f97cc1f331",
   "metadata": {},
   "outputs": [
    {
     "name": "stdout",
     "output_type": "stream",
     "text": [
      "12\n"
     ]
    }
   ],
   "source": [
    "#Create letterCount and set it equal to 0\n",
    "letterCount = 0 \n",
    "#Run this code for each letter in the string\n",
    "for character in \"Hello, world\": \n",
    "    #Add one to letterCount\n",
    "    letterCount += 1    \n",
    "print(letterCount)  "
   ]
  },
  {
   "cell_type": "markdown",
   "id": "9c5fe4b6-cbd1-40a3-bc92-b3dc1bd4c20e",
   "metadata": {},
   "source": [
    "#### Coulombs Parentheses"
   ]
  },
  {
   "cell_type": "code",
   "execution_count": 4,
   "id": "7b899563-0162-49e6-9f36-a408ed34e53f",
   "metadata": {},
   "outputs": [
    {
     "name": "stdout",
     "output_type": "stream",
     "text": [
      "The electric potential energy is -89877424379.88\n"
     ]
    }
   ],
   "source": [
    "q1 = 5\n",
    "q2 = -10\n",
    "r = 5\n",
    "\n",
    "#it should print:\n",
    "#The electric potential energy is -89877424379.88\n",
    "\n",
    "from math import pi\n",
    "e = 8.854 * 10 ** -12\n",
    "\n",
    "val_1 = (1 / (4 * pi * e))\n",
    "val_2 = (q1 * q2) / r\n",
    "\n",
    "print(\"The electric potential energy is\", round((val_1 * val_2), 2))"
   ]
  },
  {
   "cell_type": "markdown",
   "id": "6e703782-1874-4dd1-bdde-916f3724a97e",
   "metadata": {},
   "source": [
    "#### Check Balance"
   ]
  },
  {
   "cell_type": "code",
   "execution_count": 5,
   "id": "c5316ddc-23fa-46e8-939f-c1651e86e25b",
   "metadata": {},
   "outputs": [
    {
     "name": "stdout",
     "output_type": "stream",
     "text": [
      "False\n"
     ]
    }
   ],
   "source": [
    "balance = 20.0\n",
    "price = 19.0\n",
    "sales_tax_rate = 1.06\n",
    "\n",
    "#Write some code below that will print True if balance is\n",
    "#big enough to make a purchase with the given price and sales\n",
    "#tax rate, False if it is not.\n",
    "\n",
    "purchase_cost = (price * sales_tax_rate) < balance\n",
    "print(purchase_cost)"
   ]
  },
  {
   "cell_type": "markdown",
   "id": "7482dc95-003c-4dd7-9bc6-d2337ca6533c",
   "metadata": {},
   "source": [
    "#### Checking If a Triangle Exists"
   ]
  },
  {
   "cell_type": "code",
   "execution_count": 6,
   "id": "604c126a-e4cb-4b74-939b-1a90b008c1a8",
   "metadata": {},
   "outputs": [
    {
     "name": "stdin",
     "output_type": "stream",
     "text": [
      "Enter the shortest side:  1\n",
      "Enter the next shortest side:  2\n",
      "Enter the longest side:  3\n"
     ]
    },
    {
     "name": "stdout",
     "output_type": "stream",
     "text": [
      "'These sides can form a triangle' is False\n"
     ]
    }
   ],
   "source": [
    "#Get the first side from the user\n",
    "side1 = int(input(\"Enter the shortest side: \"))\n",
    "#Get the second side from the user\n",
    "side2 = int(input(\"Enter the next shortest side: \"))\n",
    "#Get the third side from the user\n",
    "side3 = int(input(\"Enter the longest side: \" ))\n",
    "\n",
    "#Check if the shorter sides' sum exceeds the longer side\n",
    "result = (side1 + side2) > side3\n",
    "#Print the result\n",
    "print(\"'These sides can form a triangle' is\", result)  "
   ]
  },
  {
   "cell_type": "markdown",
   "id": "65958470-8852-467d-9099-b3a63b4834c3",
   "metadata": {},
   "source": [
    "#### Integer and Floats"
   ]
  },
  {
   "cell_type": "code",
   "execution_count": 7,
   "id": "411b2b2e-1fd0-414d-968a-abc4935e2511",
   "metadata": {},
   "outputs": [
    {
     "name": "stdout",
     "output_type": "stream",
     "text": [
      "3\n",
      "4.0\n"
     ]
    }
   ],
   "source": [
    "myInt1 = 1 \n",
    "myInt2 = 2\n",
    "myFloat = 3.0\n",
    "\n",
    "#Print the sum of two integers\n",
    "print(myInt1 + myInt2)  \n",
    "#Print the sum of an integer and a float\n",
    "print(myInt1 + myFloat) "
   ]
  },
  {
   "cell_type": "code",
   "execution_count": null,
   "id": "5b3907a6-d1fd-4091-80e0-6e783a575982",
   "metadata": {},
   "outputs": [],
   "source": []
  }
 ],
 "metadata": {
  "kernelspec": {
   "display_name": "Python 3 (ipykernel)",
   "language": "python",
   "name": "python3"
  },
  "language_info": {
   "codemirror_mode": {
    "name": "ipython",
    "version": 3
   },
   "file_extension": ".py",
   "mimetype": "text/x-python",
   "name": "python",
   "nbconvert_exporter": "python",
   "pygments_lexer": "ipython3",
   "version": "3.9.7"
  }
 },
 "nbformat": 4,
 "nbformat_minor": 5
}
