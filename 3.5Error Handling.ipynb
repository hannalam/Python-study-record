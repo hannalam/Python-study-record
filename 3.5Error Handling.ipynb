{
 "cells": [
  {
   "cell_type": "markdown",
   "id": "ebeca6b9-c24e-4408-b17a-91033a8bb0c1",
   "metadata": {},
   "source": [
    "## 3.5 Error Handling"
   ]
  },
  {
   "cell_type": "markdown",
   "id": "04d212e8-c315-495a-9cdb-1c4c59edc41b",
   "metadata": {},
   "source": [
    "#### Try Except"
   ]
  },
  {
   "cell_type": "code",
   "execution_count": 1,
   "id": "3c408633-89e8-4f91-b674-b70c4702d5ac",
   "metadata": {},
   "outputs": [
    {
     "name": "stdout",
     "output_type": "stream",
     "text": [
      "Not possible\n"
     ]
    }
   ],
   "source": [
    "mystery_value = \"9\"\n",
    "\n",
    "#Create a program that divides 10 by mystery_value and prints\n",
    "#the result. In the case that an error occurs, print \"Not\n",
    "#possible\".\n",
    "\n",
    "try:\n",
    "    result = 10 / mystery_value \n",
    "    print(result)\n",
    "except:\n",
    "    print(\"Not possible\")"
   ]
  },
  {
   "cell_type": "code",
   "execution_count": 3,
   "id": "38d37dc3-b9b8-4fd5-842a-40ce7ff27640",
   "metadata": {},
   "outputs": [
    {
     "name": "stdout",
     "output_type": "stream",
     "text": [
      "1.1111111111111112\n"
     ]
    }
   ],
   "source": [
    "mystery_value = 9\n",
    "\n",
    "#Create a program that divides 10 by mystery_value and prints\n",
    "#the result. In the case that mystery_value is equal to 0,\n",
    "#print \"Not possible\". Do not catch any other errors. This\n",
    "#means there will be an uncaught error in the correct answer!\n",
    "try:\n",
    "    print(10 / mystery_value)\n",
    "except ZeroDivisionError:\n",
    "    print(\"Not possible\")"
   ]
  },
  {
   "cell_type": "code",
   "execution_count": 4,
   "id": "40998cfe-ba8b-4eb0-bf2c-49402b02be71",
   "metadata": {},
   "outputs": [
    {
     "name": "stdout",
     "output_type": "stream",
     "text": [
      "1.1111111111111112\n"
     ]
    }
   ],
   "source": [
    "mystery_value = 9\n",
    "\n",
    "#Create a program that divides 10 by mystery_value and \n",
    "#prints the result. In the case that mystery_value is \n",
    "#equal to 0, print \"Can't divide by zero\". If for any other\n",
    "#reason the operation fails, print \"Not possible\".\n",
    "try:\n",
    "    print(10 / mystery_value)\n",
    "except ZeroDivisionError:\n",
    "    print(\"Can't divide by zero\")\n",
    "except Exception as error:\n",
    "    print(\"Not possible\")"
   ]
  },
  {
   "cell_type": "markdown",
   "id": "0b9cdc9c-e969-4fd0-add8-b1250d5d4b56",
   "metadata": {},
   "source": [
    "#### Catching Any Error"
   ]
  },
  {
   "cell_type": "code",
   "execution_count": 2,
   "id": "67d3ca13-f5cf-4e65-85f4-4214df74a338",
   "metadata": {},
   "outputs": [
    {
     "name": "stdout",
     "output_type": "stream",
     "text": [
      "Converting myString to int...\n",
      "Can't convert; myString not a number.\n",
      "Done!\n"
     ]
    }
   ],
   "source": [
    "myString = \"This string is not a number!\"\n",
    "#Run the code below until an error occurs\n",
    "try:    \n",
    "    print(\"Converting myString to int...\")\n",
    "    myInt = int(myString)\n",
    "    print(myInt)\n",
    "#If an error occurs, jump to here\n",
    "except: \n",
    "    print(\"Can't convert; myString not a number.\")\n",
    "print(\"Done!\")"
   ]
  },
  {
   "cell_type": "markdown",
   "id": "82ceba05-8107-4e1a-aec3-39da61b87ac7",
   "metadata": {},
   "source": [
    "#### Else and File Input"
   ]
  },
  {
   "cell_type": "code",
   "execution_count": 7,
   "id": "8d098434-ec49-473a-b291-ee30e7e8dd87",
   "metadata": {},
   "outputs": [
    {
     "name": "stdout",
     "output_type": "stream",
     "text": [
      "An input error occurred!\n"
     ]
    }
   ],
   "source": [
    "try:\n",
    "    #Open InputFile.txt in read-only mode\n",
    "    inputFile = open(\"InputFile.txt\", mode = \"r\")\n",
    "    #For each line in the file\n",
    "    for line in inputFile:\n",
    "        #Print the line\n",
    "        print(line)\n",
    "    #Close the file\n",
    "    inputFile.close()\n",
    "#Catch an IOError\n",
    "except IOError as error:\n",
    "    print(\"An input error occurred!\")"
   ]
  },
  {
   "cell_type": "markdown",
   "id": "11728fbb-bb87-4dae-bc7b-ac3805b0886d",
   "metadata": {},
   "source": [
    "#### Try Except"
   ]
  },
  {
   "cell_type": "code",
   "execution_count": 8,
   "id": "27c7d586-f045-442e-8a11-d8bd75ce8b0f",
   "metadata": {},
   "outputs": [
    {
     "name": "stdout",
     "output_type": "stream",
     "text": [
      "-1.6666666666666667\n",
      "-2.5\n",
      "-5.0\n"
     ]
    }
   ],
   "source": [
    "#Right now, the code below will encounter an error when num\n",
    "#is 0, but it will not print anything when it does, and then\n",
    "#it will keep running for num = 1, num = 2, and num = 3\n",
    "#afterwards. \n",
    "try:\n",
    "    for num in range(-3, 3):\n",
    "        print(5 / num)\n",
    "except ZeroDivisionError:\n",
    "    pass\n"
   ]
  },
  {
   "cell_type": "markdown",
   "id": "a85cb87b-98a6-4bc3-beaa-026eb3013764",
   "metadata": {},
   "source": [
    "#### Error Handling and For Loops"
   ]
  },
  {
   "cell_type": "code",
   "execution_count": 9,
   "id": "2f9341d2-892f-496b-842d-75df52d13669",
   "metadata": {},
   "outputs": [
    {
     "name": "stdout",
     "output_type": "stream",
     "text": [
      "An error occurred reading the file!\n"
     ]
    }
   ],
   "source": [
    "try:\n",
    "    #Open InputFile.txt in read-only mode\n",
    "    inputFile = open(\"NumberAndLetterFile.txt\", mode = \"r\")  \n",
    "    try:\n",
    "        #For each line in the file\n",
    "        for line in inputFile:  \n",
    "            #Print the line\n",
    "            print(int(line)) \n",
    "    #Catch a ValueError\n",
    "    except ValueError as error:    \n",
    "        print(\"A value error occurred!\")\n",
    "    else:\n",
    "        print(\"No errors occurred converting the file!\")\n",
    "    finally:\n",
    "        #Close the file\n",
    "        inputFile.close()  \n",
    "#Catch an IOError\n",
    "except IOError as error:\n",
    "    print(\"An error occurred reading the file!\")"
   ]
  },
  {
   "cell_type": "code",
   "execution_count": null,
   "id": "6b41aaaa-2781-45f6-941d-2862c9b28da9",
   "metadata": {},
   "outputs": [],
   "source": []
  }
 ],
 "metadata": {
  "kernelspec": {
   "display_name": "Python 3 (ipykernel)",
   "language": "python",
   "name": "python3"
  },
  "language_info": {
   "codemirror_mode": {
    "name": "ipython",
    "version": 3
   },
   "file_extension": ".py",
   "mimetype": "text/x-python",
   "name": "python",
   "nbconvert_exporter": "python",
   "pygments_lexer": "ipython3",
   "version": "3.9.7"
  }
 },
 "nbformat": 4,
 "nbformat_minor": 5
}
