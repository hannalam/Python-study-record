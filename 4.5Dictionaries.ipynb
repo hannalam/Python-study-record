{
 "cells": [
  {
   "cell_type": "markdown",
   "id": "9ada2dba-1fdc-4b94-9d71-0c0a6c5c1657",
   "metadata": {},
   "source": [
    "## 4.5 Dictionaries"
   ]
  },
  {
   "cell_type": "markdown",
   "id": "42188374-5b2b-4d8f-89ff-f7dba68bcc45",
   "metadata": {},
   "source": [
    "##### Dictionaries: \n",
    "A data structure comprised of key-value pairs, where a key is entered into the dictionary to get out a value. Similar to or synonymous with Maps, Associative Arrays, HashMaps, and Hashtables."
   ]
  },
  {
   "cell_type": "markdown",
   "id": "c1eeb112-80be-401b-bb2a-f92c6d408aaf",
   "metadata": {},
   "source": [
    "##### Dictionary Key: A value then, when passed into a dictionary, returns a corresponding value, like a word and its definition. Similar to a variable."
   ]
  },
  {
   "cell_type": "markdown",
   "id": "1d81780b-84d0-4ddf-bc9a-b5cb66af8c0c",
   "metadata": {},
   "source": [
    "##### Dictionary Value: A value returned in response to a key in a dictionary. Similar to a value of a variable outside a dictionary."
   ]
  },
  {
   "cell_type": "markdown",
   "id": "f97e5b84-3144-4675-baa4-9c35643f4628",
   "metadata": {},
   "source": [
    "#### TA Info"
   ]
  },
  {
   "cell_type": "code",
   "execution_count": 1,
   "id": "9abf3e9d-d3ea-4be5-95ef-a60a775e4b71",
   "metadata": {},
   "outputs": [
    {
     "name": "stdout",
     "output_type": "stream",
     "text": [
      "Georgia\n",
      "Vermont\n",
      "Tennessee\n"
     ]
    }
   ],
   "source": [
    "#We've defined a list of tuples below. Each tuple follows the format: (name, home state).\n",
    "#\n",
    "#Create a dictionary called ta_dict in the space below, where\n",
    "#the keys are each TA's name, and the values are their home state.\n",
    "\n",
    "ta_info = [(\"Joshua\", \"Georgia\"),\n",
    "          (\"Jackie\", \"Vermont\"),\n",
    "          (\"Marguerite\", \"Tennessee\")]\n",
    "\n",
    "#The first item in each tuple should be a key, and\n",
    "#the second item in each tuple should be its value.\n",
    "#Note that you may create this either by reading and\n",
    "#using the ta_info list of tuples, or you can create\n",
    "#the dictionary from scratch:\n",
    "\n",
    "ta_dict = {\"Joshua\": \"Georgia\",\"Jackie\": \"Vermont\", \"Marguerite\": \"Tennessee\"}\n",
    "\n",
    "#Now, create three variables: josh_val, jack_val, and\n",
    "#marg_val. Set josh_val equal to Josh's dictionary value,\n",
    "#then jack_val equal to Jackie's, then marg_val equal to\n",
    "#Marguerite's. \n",
    "\n",
    "josh_val = ta_dict[\"Joshua\"]\n",
    "jack_val = ta_dict[\"Jackie\"]\n",
    "marg_val = ta_dict[\"Marguerite\"]\n",
    "\n",
    "#will run and print Georgia, Vermont, and Tennessee:\n",
    "print(josh_val)\n",
    "print(jack_val)\n",
    "print(marg_val)"
   ]
  },
  {
   "cell_type": "markdown",
   "id": "8a7efd70-116b-4dd9-a656-055963cc5790",
   "metadata": {},
   "source": [
    "#### Creating and Accessing Dictionaries"
   ]
  },
  {
   "cell_type": "code",
   "execution_count": 2,
   "id": "80d7494c-722e-48e0-a53c-47ebfa7f2f2c",
   "metadata": {},
   "outputs": [
    {
     "name": "stdout",
     "output_type": "stream",
     "text": [
      "{'sprockets': 5, 'widgets': 11, 'cogs': 3, 'gizmos': 15}\n"
     ]
    }
   ],
   "source": [
    "#Creates myDictionary with sprockets=5, widgets=11, cogs=3, and gizmos=15\n",
    "myDictionary = {\"sprockets\" : 5, \"widgets\" : 11, \"cogs\" : 3, \"gizmos\": 15}\n",
    "print(myDictionary)"
   ]
  },
  {
   "cell_type": "markdown",
   "id": "3c7e4730-bde9-4d1a-8f4a-1a21c5d7b309",
   "metadata": {},
   "source": [
    "#### Tup 2 Dict"
   ]
  },
  {
   "cell_type": "code",
   "execution_count": 3,
   "id": "4d1a30f3-aee1-472a-9907-3aaf452ea492",
   "metadata": {},
   "outputs": [
    {
     "name": "stdout",
     "output_type": "stream",
     "text": [
      "{'Turquoise': '#40E0D0', 'Red': '#990000'}\n"
     ]
    }
   ],
   "source": [
    "#Create a function called tup_to_dict. tup_to_dict should take one\n",
    "#parameter: a list of tuples. You can assume each tuple in\n",
    "#the list has exactly two values.\n",
    "#\n",
    "#The function should return a dictionary where the first item\n",
    "#in each tuple is the key, and the second item in each tuple\n",
    "#is the corresponding value.\n",
    "#\n",
    "#For example:\n",
    "# colors = [(\"turquoise\", \"#40E0D0\"), (\"red\", \"#990000\")]\n",
    "# tup_to_dict(colors) -> {\"turquoise\":\"#40E0D0\", \"red\":\"#990000\"}\n",
    "\n",
    "def tup_to_dict(color):\n",
    "    #return {color[0][0]:color[0][1], color[1][0]:color[1][1]}\n",
    "    new3 = {}\n",
    "    for i in color:\n",
    "        new3[i[0]] = i[1]\n",
    "    return new3\n",
    "\n",
    "#print:  {'Turquoise':'#40E0D0', 'Red':'#990000'}\n",
    "print(tup_to_dict([(\"Turquoise\", \"#40E0D0\"), (\"Red\", \"#990000\")]))"
   ]
  },
  {
   "cell_type": "markdown",
   "id": "cc67a386-d1ce-41af-bbe6-81ba5cff3844",
   "metadata": {},
   "source": [
    "#### Adding to and Removing from a Dictionary"
   ]
  },
  {
   "cell_type": "code",
   "execution_count": 5,
   "id": "ab4e42c6-dfc1-42d6-a0cb-c1236b24feca",
   "metadata": {},
   "outputs": [
    {
     "name": "stdout",
     "output_type": "stream",
     "text": [
      "{'sprockets': 5, 'widgets': 11, 'cogs': 3, 'gizmos': 15}\n",
      "{'sprockets': 5, 'widgets': 11, 'cogs': 3, 'gizmos': 15, 'gadgets': 1}\n",
      "{'sprockets': 5, 'widgets': 11, 'cogs': 3, 'gizmos': 15}\n"
     ]
    }
   ],
   "source": [
    "#Creates myDictionary with sprockets=5, widgets=11, cogs=3, and gizmos=15\n",
    "myDictionary = {\"sprockets\" : 5, \"widgets\" : 11, \"cogs\" : 3, \"gizmos\": 15}\n",
    "print(myDictionary)\n",
    "\n",
    "#Creates the new key \"gadgets\" with value 1\n",
    "myDictionary[\"gadgets\"] = 1   \n",
    "print(myDictionary)\n",
    "\n",
    "del myDictionary[\"gadgets\"]\n",
    "print(myDictionary)"
   ]
  },
  {
   "cell_type": "markdown",
   "id": "4429704d-3d01-4bb2-b9d0-e1bf9638469f",
   "metadata": {},
   "source": [
    "#### Bueller"
   ]
  },
  {
   "cell_type": "code",
   "execution_count": 6,
   "id": "7ca91370-8cc6-4680-b200-0ffadbddb93c",
   "metadata": {},
   "outputs": [
    {
     "name": "stdout",
     "output_type": "stream",
     "text": [
      "['David', 'Marguerite', 'Joshua', 'Erica']\n"
     ]
    }
   ],
   "source": [
    "#Write a function called students_present. students_present\n",
    "#should take as input one parameter, a dictionary. The keys\n",
    "#of the dictionary will be names, and the values will be one\n",
    "#of three strings: \"Here\", \"Present\", or an empty string \"\".\n",
    "#Return a list of the keys for whom the corresponding value is either \"Here\" or \"Present\".\n",
    "\n",
    "def students_present(list1):\n",
    "    newlist = []\n",
    "    for (name, string1) in list1.items():\n",
    "        if string1 == \"Here\" or string1 == \"Present\":\n",
    "            newlist.append(name)\n",
    "            #word = \"(although the order of the keys may vary): %s\" % newlist\n",
    "    return  newlist \n",
    "\n",
    "#print (although the order of the keys may vary): [\"David\", \"Marguerite\", \"Joshua\", \"Erica\"]\n",
    "student_list = {\"David\" : \"Here\", \"Marguerite\" : \"Here\",\n",
    "                \"Jackie\": \"\", \"Joshua\": \"Present\",\n",
    "                \"Erica\": \"Here\", \"Daniel\": \"\"}\n",
    "print(students_present(student_list))"
   ]
  },
  {
   "cell_type": "markdown",
   "id": "b50d884a-660f-4634-bb92-c65def93ed09",
   "metadata": {},
   "source": [
    "#### Traversing Dictionaries"
   ]
  },
  {
   "cell_type": "code",
   "execution_count": 7,
   "id": "bb5b0d34-cbd9-442e-9401-5aff3c15f5b6",
   "metadata": {},
   "outputs": [
    {
     "name": "stdout",
     "output_type": "stream",
     "text": [
      "A value less than 5 was found: 3\n",
      "A value less than 5 was found: 1\n"
     ]
    }
   ],
   "source": [
    "#Creates myDictionary with sprockets=5, widgets=11, cogs=3, gizmos=15, gadgets=1\n",
    "myDictionary = {\"sprockets\" : 5, \"widgets\" : 11, \"cogs\" : 3, \"gizmos\" : 15, \"gadgets\" : 1}\n",
    "\n",
    "for value in myDictionary.values():\n",
    "    if value < 5:\n",
    "        print(\"A value less than 5 was found:\", value)"
   ]
  },
  {
   "cell_type": "markdown",
   "id": "3057712b-39e5-455c-9459-0d0c6902b7e9",
   "metadata": {},
   "source": [
    "#### Too Many Names"
   ]
  },
  {
   "cell_type": "code",
   "execution_count": 8,
   "id": "38e8b6c7-dbe8-40dd-8ec7-15dbfbd0f159",
   "metadata": {},
   "outputs": [
    {
     "name": "stdout",
     "output_type": "stream",
     "text": [
      "{'David': 2, 'Brenton': 2, 'Nicol': 1, 'Shelba': 5, 'Maren': 1}\n"
     ]
    }
   ],
   "source": [
    "#Write a function called name_counts. name_counts will take\n",
    "#as input a list of full names. Each name will be two words\n",
    "#separated by a space, like \"David Joyner\".\n",
    "#\n",
    "#The function should return a dictionary. The keys to the\n",
    "#dictionary will be the first names from the list, and the\n",
    "#values should be the number of times that first name appeared.\n",
    "\n",
    "def name_counts(list1):\n",
    "    newdict ={}\n",
    "    for name in list1:\n",
    "        if name[:name.find(\" \")] in newdict:\n",
    "            newdict[name[:name.find(\" \")]] += 1\n",
    "        else:\n",
    "            newdict[name[:name.find(\" \")]] = 1\n",
    "    return newdict\n",
    "\n",
    "#print(the order of the keys may vary): {'Shelba': 5, 'Maren': 1, 'Nicol': 1, 'David': 2, 'Brenton': 2}\n",
    "name_list = [\"David Joyner\", \"David Zuber\", \"Brenton Joyner\",\n",
    "             \"Brenton Zuber\", \"Nicol Barthel\", \"Shelba Barthel\",\n",
    "             \"Shelba Crowley\", \"Shelba Fernald\", \"Shelba Odle\",\n",
    "             \"Shelba Fry\", \"Maren Fry\"]\n",
    "print(name_counts(name_list))"
   ]
  },
  {
   "cell_type": "markdown",
   "id": "7ac8043b-62a8-4d42-9471-f69212d39cac",
   "metadata": {},
   "source": [
    "#### Simple Examples of Dictionaries"
   ]
  },
  {
   "cell_type": "code",
   "execution_count": 11,
   "id": "f6ab72d2-8d23-41df-ab76-b1b102a26d61",
   "metadata": {},
   "outputs": [
    {
     "name": "stdout",
     "output_type": "stream",
     "text": [
      "{'this': 3, 'is': 1, 'the': 5, 'string': 2, 'whose': 1, 'words': 4, 'we': 2, 'would': 1, 'like': 1, 'to': 1, 'count': 3, 'contains': 3, 'some': 2, 'repeated': 1, 'as': 2, 'well': 1, 'unique': 1, 'it': 4, 'punctuation': 1, 'and': 2, 'that': 1, 'are': 1, 'capitalized': 1, 'in': 1, 'different': 1, 'ways': 1, 'if': 1, 'method': 1, 'write': 1, 'runs': 1, 'correctly': 1, 'will': 1, '4': 1, 'instances': 3, 'of': 3, 'word': 3, '3': 2}\n"
     ]
    }
   ],
   "source": [
    "myString = \"This is the string whose words we would like to count. This string contains some repeated words, as well as some unique words. It contains punctuation, and it contains words that are capitalized in different ways. If the method we write runs correctly, it will count 4 instances of the word 'it', 3 instances of the word 'this', and 3 instances of the word 'count'.\"\n",
    "\n",
    "myString = myString.replace(\".\",\"\") #Remove periods\n",
    "myString = myString.replace(\",\",\"\") #Remove commas\n",
    "myString = myString.replace(\"'\",\"\") #Remove apostrophes\n",
    "myString = myString.lower() #Make all lower case\n",
    "mySplitString = myString.split() #Split by spaces\n",
    "\n",
    "wordDictionary = {} #Create empty dictionary\n",
    "for word in mySplitString:  #For each word in the split string\n",
    "    if word in wordDictionary:  #If it's already been found...\n",
    "        wordDictionary[word] += 1   #Add one to its count\n",
    "    else:   #Otherwise...\n",
    "        wordDictionary[word] = 1 #Create it with value 1\n",
    "\n",
    "print(wordDictionary)"
   ]
  },
  {
   "cell_type": "markdown",
   "id": "ac76f180-0987-4ef5-a9ac-604b061e8005",
   "metadata": {},
   "source": [
    "#### Dictionaries and Lists"
   ]
  },
  {
   "cell_type": "code",
   "execution_count": 12,
   "id": "86b9bf92-814e-4002-b3c6-9ecbb05bde59",
   "metadata": {},
   "outputs": [
    {
     "name": "stdout",
     "output_type": "stream",
     "text": [
      "Students in Computing: ['Partha', 'Venijamin', 'Terra', 'Sofia']\n",
      "Students in History: ['Tryphon', 'Gevorg', 'Raza', 'Rein', 'Francis']\n"
     ]
    }
   ],
   "source": [
    "classes = {\"Math\" : [\"David\", \"Lucy\", \"Dana\"],\n",
    "           \"Physics\" : [\"Addison\", \"Vrushali\", \"Bilbo\"],\n",
    "           \"Chemistry\" : [\"Sara\", \"Lugos\", \"Mireia\", \"Perle\"],\n",
    "           \"Computing\" : [\"Partha\", \"Venijamin\", \"Terra\", \"Sofia\"],\n",
    "           \"History\" : [\"Tryphon\", \"Gevorg\", \"Raza\", \"Rein\"]}\n",
    "\n",
    "print(\"Students in Computing:\", classes[\"Computing\"])\n",
    "\n",
    "#Add Francis to History\n",
    "classes[\"History\"].append(\"Francis\")   \n",
    "\n",
    "print(\"Students in History:\", classes[\"History\"])"
   ]
  },
  {
   "cell_type": "code",
   "execution_count": null,
   "id": "d9739e6e-c8dd-4075-a04c-3ead0ee7644e",
   "metadata": {},
   "outputs": [],
   "source": []
  }
 ],
 "metadata": {
  "kernelspec": {
   "display_name": "Python 3 (ipykernel)",
   "language": "python",
   "name": "python3"
  },
  "language_info": {
   "codemirror_mode": {
    "name": "ipython",
    "version": 3
   },
   "file_extension": ".py",
   "mimetype": "text/x-python",
   "name": "python",
   "nbconvert_exporter": "python",
   "pygments_lexer": "ipython3",
   "version": "3.9.7"
  }
 },
 "nbformat": 4,
 "nbformat_minor": 5
}
