{
 "cells": [
  {
   "cell_type": "markdown",
   "id": "f6fde6a6-3ff3-488e-86a2-2b74198dad2c",
   "metadata": {},
   "source": [
    "## 3.3 Loops"
   ]
  },
  {
   "cell_type": "markdown",
   "id": "75edd022-d55f-4714-8614-538e73c7f2ae",
   "metadata": {},
   "source": [
    "Loop: A programming control structure that executes a segment of code multiple times."
   ]
  },
  {
   "cell_type": "markdown",
   "id": "c72ecfe9-7888-4f50-87fd-24f90986635e",
   "metadata": {},
   "source": [
    "For Loop: A loop control structure that runs a block of code a predetermined number of times."
   ]
  },
  {
   "cell_type": "markdown",
   "id": "8cace4fd-b56c-4bf3-b2ec-39e10fde6a1e",
   "metadata": {},
   "source": [
    "Iteration:  A single execution of a repeated task or block of code."
   ]
  },
  {
   "cell_type": "markdown",
   "id": "0c954107-05e0-47a2-a325-144a5aa41b30",
   "metadata": {},
   "source": [
    "While Loop: A loop control structure that runs a block of code until a certain logical expression is satisfied."
   ]
  },
  {
   "cell_type": "markdown",
   "id": "3a81b16a-0ae7-4b55-97e3-e2444ab50655",
   "metadata": {},
   "source": [
    "#### Basic For Loop"
   ]
  },
  {
   "cell_type": "code",
   "execution_count": 2,
   "id": "27547586-e337-4561-a82c-47a038370318",
   "metadata": {},
   "outputs": [
    {
     "name": "stdout",
     "output_type": "stream",
     "text": [
      "First loop:\n",
      "1\n",
      "2\n",
      "3\n",
      "4\n",
      "5\n",
      "6\n",
      "7\n",
      "8\n",
      "9\n",
      "10\n",
      "Second loop:\n",
      "-5\n",
      "-4\n",
      "-3\n",
      "-2\n",
      "-1\n",
      "0\n",
      "1\n",
      "2\n",
      "3\n",
      "4\n",
      "5\n",
      "Third loop:\n",
      "2\n",
      "4\n",
      "6\n",
      "8\n",
      "10\n",
      "12\n",
      "14\n",
      "16\n",
      "18\n",
      "20\n"
     ]
    }
   ],
   "source": [
    "#In the designated areas below, write the three for loops that are described.\n",
    "\n",
    "print(\"First loop:\")\n",
    "#Write a loop here that prints the numbers from 1 to 10,\n",
    "#inclusive (meaning that it prints both 1 and 10, and all\n",
    "#the numbers in between). Print each number on a separate line.\n",
    "for i in range(1,11):\n",
    "    print(i)\n",
    "    \n",
    "print(\"Second loop:\")\n",
    "#Write a loop here that prints the numbers from -5 to 5,\n",
    "#inclusive. Print each number on a separate line.\n",
    "for i in range(-5,6):\n",
    "    print(i)\n",
    "\n",
    "print(\"Third loop:\")\n",
    "#Write a loop here that prints the even numbers only from 1\n",
    "#to 20, inclusive. Print each number on a separate line.\n",
    "for i in range(2,21,2):\n",
    "    print(i)"
   ]
  },
  {
   "cell_type": "markdown",
   "id": "f41f82f8-2305-4e81-91f6-f5d9794726c2",
   "metadata": {},
   "source": [
    "#### For Loop"
   ]
  },
  {
   "cell_type": "code",
   "execution_count": 3,
   "id": "afaffe1f-5354-4759-ac3a-4480e286f710",
   "metadata": {},
   "outputs": [
    {
     "name": "stdout",
     "output_type": "stream",
     "text": [
      "120\n"
     ]
    }
   ],
   "source": [
    "mystery_int = 5\n",
    "\n",
    "#In math, factorial is a mathematical operation where an\n",
    "#integer is multipled by every number between itself and 1.\n",
    "#For example, 5 factorial is 5 * 4 * 3 * 2 * 1, or 120.\n",
    "#Factorial is represented by an exclamation point: 5!\n",
    "#\n",
    "#Use a for loop to calculate the factorial of the number\n",
    "#given by mystery_int above. Then, print the result.\n",
    "\n",
    "sum = 1\n",
    "for i in range(1, mystery_int +1):\n",
    "    sum *= i\n",
    "print(sum)"
   ]
  },
  {
   "cell_type": "markdown",
   "id": "4238693b-41c6-46c7-99b4-570fafecfad7",
   "metadata": {},
   "source": [
    "#### For Each and Lists"
   ]
  },
  {
   "cell_type": "code",
   "execution_count": 4,
   "id": "126b09d2-9369-41c0-8d3c-c445d7b56af6",
   "metadata": {},
   "outputs": [
    {
     "name": "stdout",
     "output_type": "stream",
     "text": [
      "95.5\n"
     ]
    }
   ],
   "source": [
    "#Creates listOfNumbers and assigns it to a list of ten \n",
    "#numbers, 91 through 100\n",
    "listOfNumbers = [91, 92, 93, 94, 95, 96, 97, 98, 99, 100]\n",
    "sum = 0\n",
    "\n",
    "#Runs this loop once for each item, assigning the current \n",
    "#item to the variable 'currentNumber'\n",
    "for currentNumber in listOfNumbers:\n",
    "    sum += currentNumber\n",
    "#Divides sum by the number of items in the list\n",
    "print(sum / len(listOfNumbers)) "
   ]
  },
  {
   "cell_type": "markdown",
   "id": "3247e9ff-b67b-4030-8ec7-425411a992e5",
   "metadata": {},
   "source": [
    "#### Basic While Loop"
   ]
  },
  {
   "cell_type": "code",
   "execution_count": 5,
   "id": "6324428e-b803-4f57-842d-5d60effa9ee3",
   "metadata": {},
   "outputs": [
    {
     "name": "stdout",
     "output_type": "stream",
     "text": [
      "96\n",
      "105\n"
     ]
    }
   ],
   "source": [
    "mystery_value = 87\n",
    "\n",
    "#Write a while loop that continues to add 9 to mystery_value\n",
    "#until mystery_value is greater than 100. Each time 9 is\n",
    "#added, print the *new* value of mystery_value. For example,\n",
    "#with mystery_value = 87, your code should print 96 and 105.\n",
    "\n",
    "while mystery_value < 101:\n",
    "    mystery_value += 9\n",
    "    print(mystery_value)"
   ]
  },
  {
   "cell_type": "markdown",
   "id": "03835db2-516b-4b2b-a1c3-fc689c9d7770",
   "metadata": {},
   "source": [
    "#### Advanced Loops: Nesting in Python"
   ]
  },
  {
   "cell_type": "code",
   "execution_count": 6,
   "id": "ef644573-841a-43ee-bad1-0faf17022b7f",
   "metadata": {},
   "outputs": [
    {
     "name": "stdout",
     "output_type": "stream",
     "text": [
      "First Example:\n",
      "1 times 1 equals 1\n",
      "1 times 2 equals 2\n",
      "1 times 3 equals 3\n",
      "1 times 4 equals 4\n",
      "1 times 5 equals 5\n",
      "1 times 6 equals 6\n",
      "1 times 7 equals 7\n",
      "1 times 8 equals 8\n",
      "1 times 9 equals 9\n",
      "1 times 10 equals 10\n",
      "2 times 1 equals 2\n",
      "2 times 2 equals 4\n",
      "2 times 3 equals 6\n",
      "2 times 4 equals 8\n",
      "2 times 5 equals 10\n",
      "2 times 6 equals 12\n",
      "2 times 7 equals 14\n",
      "2 times 8 equals 16\n",
      "2 times 9 equals 18\n",
      "2 times 10 equals 20\n",
      "3 times 1 equals 3\n",
      "3 times 2 equals 6\n",
      "3 times 3 equals 9\n",
      "3 times 4 equals 12\n",
      "3 times 5 equals 15\n",
      "3 times 6 equals 18\n",
      "3 times 7 equals 21\n",
      "3 times 8 equals 24\n",
      "3 times 9 equals 27\n",
      "3 times 10 equals 30\n",
      "4 times 1 equals 4\n",
      "4 times 2 equals 8\n",
      "4 times 3 equals 12\n",
      "4 times 4 equals 16\n",
      "4 times 5 equals 20\n",
      "4 times 6 equals 24\n",
      "4 times 7 equals 28\n",
      "4 times 8 equals 32\n",
      "4 times 9 equals 36\n",
      "4 times 10 equals 40\n",
      "5 times 1 equals 5\n",
      "5 times 2 equals 10\n",
      "5 times 3 equals 15\n",
      "5 times 4 equals 20\n",
      "5 times 5 equals 25\n",
      "5 times 6 equals 30\n",
      "5 times 7 equals 35\n",
      "5 times 8 equals 40\n",
      "5 times 9 equals 45\n",
      "5 times 10 equals 50\n",
      "6 times 1 equals 6\n",
      "6 times 2 equals 12\n",
      "6 times 3 equals 18\n",
      "6 times 4 equals 24\n",
      "6 times 5 equals 30\n",
      "6 times 6 equals 36\n",
      "6 times 7 equals 42\n",
      "6 times 8 equals 48\n",
      "6 times 9 equals 54\n",
      "6 times 10 equals 60\n",
      "7 times 1 equals 7\n",
      "7 times 2 equals 14\n",
      "7 times 3 equals 21\n",
      "7 times 4 equals 28\n",
      "7 times 5 equals 35\n",
      "7 times 6 equals 42\n",
      "7 times 7 equals 49\n",
      "7 times 8 equals 56\n",
      "7 times 9 equals 63\n",
      "7 times 10 equals 70\n",
      "8 times 1 equals 8\n",
      "8 times 2 equals 16\n",
      "8 times 3 equals 24\n",
      "8 times 4 equals 32\n",
      "8 times 5 equals 40\n",
      "8 times 6 equals 48\n",
      "8 times 7 equals 56\n",
      "8 times 8 equals 64\n",
      "8 times 9 equals 72\n",
      "8 times 10 equals 80\n",
      "9 times 1 equals 9\n",
      "9 times 2 equals 18\n",
      "9 times 3 equals 27\n",
      "9 times 4 equals 36\n",
      "9 times 5 equals 45\n",
      "9 times 6 equals 54\n",
      "9 times 7 equals 63\n",
      "9 times 8 equals 72\n",
      "9 times 9 equals 81\n",
      "9 times 10 equals 90\n",
      "10 times 1 equals 10\n",
      "10 times 2 equals 20\n",
      "10 times 3 equals 30\n",
      "10 times 4 equals 40\n",
      "10 times 5 equals 50\n",
      "10 times 6 equals 60\n",
      "10 times 7 equals 70\n",
      "10 times 8 equals 80\n",
      "10 times 9 equals 90\n",
      "10 times 10 equals 100\n"
     ]
    }
   ],
   "source": [
    "#Well, let's look at the phrasing: for every number from 1 to 10, we\n",
    "#want to multiply it by every number from 1 to 10. Notice the word\n",
    "#'every' is twice in that description. 'Every' is one of those words\n",
    "#that gives away the need for a loop.\n",
    "\n",
    "print(\"First Example:\")\n",
    "\n",
    "#For every number from 1 to 10...\n",
    "for i in range(1, 11):\n",
    "    #For every number from 1 to 10...\n",
    "    for j in range(1, 11):\n",
    "        #Print the product of the two numbers.\n",
    "        print(i, \"times\", j, \"equals\", i*j)"
   ]
  },
  {
   "cell_type": "markdown",
   "id": "4ba9babd-6454-4d22-a467-019f5d2bc870",
   "metadata": {},
   "source": [
    "#### Beats and Measures"
   ]
  },
  {
   "cell_type": "code",
   "execution_count": 7,
   "id": "260456f6-dd5a-49ec-9b92-adaa97f99d68",
   "metadata": {},
   "outputs": [
    {
     "name": "stdout",
     "output_type": "stream",
     "text": [
      "1\n",
      "2\n",
      "3\n",
      "4\n",
      "1\n",
      "2\n",
      "3\n",
      "4\n",
      "1\n",
      "2\n",
      "3\n",
      "4\n",
      "1\n",
      "2\n",
      "3\n",
      "4\n",
      "1\n",
      "2\n",
      "3\n",
      "4\n"
     ]
    }
   ],
   "source": [
    "beats_per_measure = 4\n",
    "measures = 5\n",
    "\n",
    "#In music, a song's time signature is given in terms of beats\n",
    "#per measure. A common time signature is 4 beats per measure:\n",
    "#for every measure of music, a conductor might count from 1\n",
    "#to 4 with the tempo of the music.\n",
    "\n",
    "for i in range(1,measures+1):\n",
    "    for j in range(1,beats_per_measure+1):\n",
    "        print(j)"
   ]
  },
  {
   "cell_type": "markdown",
   "id": "6a596101-9f5f-4050-855f-074ec8be8e71",
   "metadata": {},
   "source": [
    "#### Nested For Loops"
   ]
  },
  {
   "cell_type": "code",
   "execution_count": 8,
   "id": "47519c01-f3c8-481e-b71f-2d9c1b460977",
   "metadata": {},
   "outputs": [
    {
     "name": "stdout",
     "output_type": "stream",
     "text": [
      "There are 25 words in these strings.\n"
     ]
    }
   ],
   "source": [
    "#Creates listOfStrings and assigns it a list of strings each with multiple words\n",
    "listOfStrings = [\"This is the first string\", \"This is the second string\",\n",
    "                 \"This is the third string\", \"This is the fourth string\",\n",
    "                 \"This is the fifth string\"]\n",
    "numSpaces = 0\n",
    "#Loops over each string in listOfStrings\n",
    "for currentString in listOfStrings: \n",
    "    #Loops over each character in currentString\n",
    "    for currentCharacter in currentString:  \n",
    "        #Checks if the current character is a space\n",
    "        if currentCharacter == \" \": \n",
    "            numSpaces += 1\n",
    "\n",
    "numWords = numSpaces + len(listOfStrings)  \n",
    "print(\"There are\", numWords, \"words in these strings.\")"
   ]
  },
  {
   "cell_type": "markdown",
   "id": "a4410028-efcd-4620-a4aa-ed037e99923b",
   "metadata": {},
   "source": [
    "#### Advanced Loop Keywords"
   ]
  },
  {
   "cell_type": "code",
   "execution_count": 9,
   "id": "6da2f3e5-32c0-42a5-838a-749d6a7b1d13",
   "metadata": {},
   "outputs": [
    {
     "name": "stdout",
     "output_type": "stream",
     "text": [
      "1 is odd.\n",
      "3 is odd.\n",
      "5 is odd.\n",
      "7 is odd.\n",
      "9 is odd.\n",
      "11 is odd.\n",
      "13 is odd.\n",
      "15 is odd.\n",
      "17 is odd.\n",
      "19 is odd.\n",
      "Done!\n"
     ]
    }
   ],
   "source": [
    "#Runs this loop 20 times\n",
    "for i in range(1, 21):  \n",
    "    #Checks if i is even\n",
    "    if i % 2 == 0:  \n",
    "        #Skips the rest of the code block if so\n",
    "        continue\n",
    "    #Prints that i is odd\n",
    "    print(i, \"is odd.\")  \n",
    "print(\"Done!\")"
   ]
  },
  {
   "cell_type": "code",
   "execution_count": null,
   "id": "be9af3e4-d9df-4dd4-9969-d888d7c9b952",
   "metadata": {},
   "outputs": [],
   "source": []
  }
 ],
 "metadata": {
  "kernelspec": {
   "display_name": "Python 3 (ipykernel)",
   "language": "python",
   "name": "python3"
  },
  "language_info": {
   "codemirror_mode": {
    "name": "ipython",
    "version": 3
   },
   "file_extension": ".py",
   "mimetype": "text/x-python",
   "name": "python",
   "nbconvert_exporter": "python",
   "pygments_lexer": "ipython3",
   "version": "3.9.7"
  }
 },
 "nbformat": 4,
 "nbformat_minor": 5
}
