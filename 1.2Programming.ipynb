{
 "cells": [
  {
   "cell_type": "markdown",
   "id": "062e6c0a-148f-4647-9dd8-fc37910d5563",
   "metadata": {},
   "source": [
    "## 1.2 Programming -- basic "
   ]
  },
  {
   "cell_type": "code",
   "execution_count": 1,
   "id": "05a64b80-b22e-4abf-832b-a7c5324d4398",
   "metadata": {},
   "outputs": [
    {
     "name": "stdout",
     "output_type": "stream",
     "text": [
      "Hey, an exercise!\n",
      "5\n",
      "6.6\n",
      "True\n",
      "False\n"
     ]
    }
   ],
   "source": [
    "print(\"Hey, an exercise!\")\n",
    "print(5)\n",
    "print(6.6)\n",
    "print(True)\n",
    "print(False)"
   ]
  },
  {
   "cell_type": "markdown",
   "id": "28589726-1506-4d03-8509-3092fbcb82f2",
   "metadata": {},
   "source": [
    "\"Compiling\" Python"
   ]
  },
  {
   "cell_type": "code",
   "execution_count": 2,
   "id": "defe42ae-4ced-42e9-9c9d-a8ca5d361ca4",
   "metadata": {},
   "outputs": [
    {
     "name": "stdout",
     "output_type": "stream",
     "text": [
      "This is Line 1\n",
      "This is Line 2\n",
      "This is Line 3\n",
      "This is Line 4\n",
      "This is Line 5\n"
     ]
    }
   ],
   "source": [
    "print(\"This is Line 1\")\n",
    "print(\"This is Line 2\")\n",
    "print(\"This is Line 3\")\n",
    "print(\"This is Line 4\")\n",
    "print(\"This is Line 5\")"
   ]
  },
  {
   "cell_type": "code",
   "execution_count": null,
   "id": "ffb566d9-2112-4b46-8e8c-54d0a6e72279",
   "metadata": {},
   "outputs": [],
   "source": []
  }
 ],
 "metadata": {
  "kernelspec": {
   "display_name": "Python 3 (ipykernel)",
   "language": "python",
   "name": "python3"
  },
  "language_info": {
   "codemirror_mode": {
    "name": "ipython",
    "version": 3
   },
   "file_extension": ".py",
   "mimetype": "text/x-python",
   "name": "python",
   "nbconvert_exporter": "python",
   "pygments_lexer": "ipython3",
   "version": "3.9.7"
  }
 },
 "nbformat": 4,
 "nbformat_minor": 5
}
