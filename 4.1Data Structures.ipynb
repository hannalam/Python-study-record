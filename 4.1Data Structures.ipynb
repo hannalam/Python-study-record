{
 "cells": [
  {
   "cell_type": "markdown",
   "id": "a04afbc2-7474-43eb-b0f4-f42558b2dbba",
   "metadata": {},
   "source": [
    "## 4.1 Data Structures"
   ]
  },
  {
   "cell_type": "markdown",
   "id": "448bbc9d-b6c7-4188-b7a0-1cfd57b8afa7",
   "metadata": {},
   "source": [
    "Data Structures: Approaches to organizing abstract data types, such that the data can be accessed efficiently."
   ]
  },
  {
   "cell_type": "markdown",
   "id": "f9505667-0272-44f7-9603-cdf29ef9fab2",
   "metadata": {},
   "source": [
    "List-Like Structures: Also referred to as sequences and collections, a data structure that holds multiple individual values gathered together under one variable name, accessed via indices. This includes structures like lists, arrays, and tuples. Lists are simultaneously a general type of data structure and a specific data type in some languages."
   ]
  },
  {
   "cell_type": "markdown",
   "id": "b0ed8170-0970-4544-aae5-59d8a38eea38",
   "metadata": {},
   "source": [
    "Index: A number used to access a particular element from a list-like data structure. Traditionally, most programming languages assign the first item of a list-like data structure the index 0."
   ]
  },
  {
   "cell_type": "markdown",
   "id": "715af22a-598a-4487-90fa-5a015d59e503",
   "metadata": {},
   "source": [
    "String: A data structure that holds a list, or a string, of characters."
   ]
  },
  {
   "cell_type": "markdown",
   "id": "f3b4ca9d-6c2f-42e4-abf8-6cd5869ec211",
   "metadata": {},
   "source": [
    "Lists: A data structure that holds multiple individual values gathered together under one variable name, accessed via indices. Similar to arrays and tuples."
   ]
  },
  {
   "cell_type": "markdown",
   "id": "8c0f90a5-401e-4d31-aec6-c54bea4894db",
   "metadata": {},
   "source": [
    "File Input and Output: The complementary processes of saving data to a file and loading data from a file, generally such that the state of the memory of the program is the same after saving and loading have occurred."
   ]
  },
  {
   "cell_type": "markdown",
   "id": "03d0f378-ecc1-43f4-85d2-539bf22e121a",
   "metadata": {},
   "source": [
    "Methods: Functions that are contained within data types.Dictionaries: A data structure comprised of key-value pairs, where a key is entered into the dictionary to get out a value. Similar to or synonymous with Maps, Associative Arrays, HashMaps, and Hashtables."
   ]
  },
  {
   "cell_type": "markdown",
   "id": "062257c6-792a-4894-a92c-7f9484256ab0",
   "metadata": {},
   "source": [
    "Methods: Functions that are contained within data types."
   ]
  },
  {
   "cell_type": "markdown",
   "id": "677ffe55-7eda-419d-8a85-8676094d2ce1",
   "metadata": {},
   "source": [
    "#### Integers By Valueor By Reference"
   ]
  },
  {
   "cell_type": "code",
   "execution_count": 2,
   "id": "2a50c5af-10ee-4ae7-a2e0-2b23999a5f0e",
   "metadata": {},
   "outputs": [
    {
     "name": "stdout",
     "output_type": "stream",
     "text": [
      "myInteger before addOne: 5\n",
      "anInteger: 6\n",
      "myInteger after addOne: 5\n",
      "myInteger after increment: 6\n"
     ]
    }
   ],
   "source": [
    "#Add one to anInteger \n",
    "def addOne(anInteger):  \n",
    "    anInteger = anInteger + 1\n",
    "    print(\"anInteger:\", anInteger)\n",
    "\n",
    "#Create myInteger with the value 5\n",
    "myInteger = 5   \n",
    "print(\"myInteger before addOne:\", myInteger)\n",
    "#Call addOne on myInteger\n",
    "addOne(myInteger)   \n",
    "print(\"myInteger after addOne:\", myInteger)\n",
    "myInteger = myInteger + 1\n",
    "print(\"myInteger after increment:\", myInteger)"
   ]
  },
  {
   "cell_type": "markdown",
   "id": "b33a0d1d-9f2d-46ae-94c9-d64cb946d904",
   "metadata": {},
   "source": [
    "### Mutability in Python"
   ]
  },
  {
   "cell_type": "markdown",
   "id": "059d9a42-c04c-4855-8778-ea8bc052ca77",
   "metadata": {},
   "source": [
    "Mutability: Whether or not a variable can have its value changed after being declared."
   ]
  },
  {
   "cell_type": "markdown",
   "id": "05140296-2529-43a5-ae79-885cf1db7969",
   "metadata": {},
   "source": [
    "Mutable Variable: A variable whose value can change after it has been declared."
   ]
  },
  {
   "cell_type": "markdown",
   "id": "143daa90-912a-4b17-9fa0-f2bf0e6a300c",
   "metadata": {},
   "source": [
    "Immutable Variable: A variable whose value cannot change after it has been declared."
   ]
  },
  {
   "cell_type": "markdown",
   "id": "827f08ca-81fe-4a21-a966-c2f45a5ce67c",
   "metadata": {},
   "source": [
    "#### Equivalent Syntax"
   ]
  },
  {
   "cell_type": "code",
   "execution_count": 3,
   "id": "2bd07038-6346-400a-a981-4a88a9924d9a",
   "metadata": {},
   "outputs": [
    {
     "name": "stdout",
     "output_type": "stream",
     "text": [
      "True\n",
      "True\n"
     ]
    }
   ],
   "source": [
    "import string\n",
    "#Return True if inString contains all digits\n",
    "def isdigit(inString):\n",
    "    #Check each character one-by-one\n",
    "    for character in inString:\n",
    "        #Check if the character is a digit\n",
    "        if not character in string.digits:\n",
    "            #Return false if not\n",
    "            return False\n",
    "    #Return true if we reached here\n",
    "    return True\n",
    "\n",
    "myString = \"52672\"\n",
    "print(isdigit(myString))\n",
    "print(myString.isdigit())"
   ]
  },
  {
   "cell_type": "code",
   "execution_count": null,
   "id": "b3cc3cd1-9c0d-4c39-8dfe-b35029b62084",
   "metadata": {},
   "outputs": [],
   "source": []
  }
 ],
 "metadata": {
  "kernelspec": {
   "display_name": "Python 3 (ipykernel)",
   "language": "python",
   "name": "python3"
  },
  "language_info": {
   "codemirror_mode": {
    "name": "ipython",
    "version": 3
   },
   "file_extension": ".py",
   "mimetype": "text/x-python",
   "name": "python",
   "nbconvert_exporter": "python",
   "pygments_lexer": "ipython3",
   "version": "3.9.7"
  }
 },
 "nbformat": 4,
 "nbformat_minor": 5
}
