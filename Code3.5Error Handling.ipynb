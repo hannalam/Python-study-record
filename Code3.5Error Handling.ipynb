{
 "cells": [
  {
   "cell_type": "markdown",
   "id": "b1c2ec84-07fe-464b-9632-50392af779eb",
   "metadata": {},
   "source": [
    "## Code 3.5 Error Handling"
   ]
  },
  {
   "cell_type": "markdown",
   "id": "aaef20f9-1216-45aa-a5a4-c677880b56da",
   "metadata": {},
   "source": [
    "#### Finding O"
   ]
  },
  {
   "cell_type": "code",
   "execution_count": 2,
   "id": "31044dcf-b9e9-41db-b9e0-1b505ee1a72b",
   "metadata": {},
   "outputs": [
    {
     "name": "stdout",
     "output_type": "stream",
     "text": [
      "1\n",
      "5\n",
      "Not found\n",
      "2\n"
     ]
    }
   ],
   "source": [
    "words = [\"dog\", \"sparrow\", \"cat\", \"frog\"]\n",
    "\n",
    "#This program is supposed to print the location of the 'o'\n",
    "#in each word in the list. However, line 18 causes an\n",
    "#error if 'o' is not in the word. Add try/except blocks\n",
    "#to print \"Not found\" when the word does not have an 'o'.\n",
    "#However, when the current word does not have an 'o', the\n",
    "#program should continue to behave as it does now.\n",
    "\n",
    "for word in words:\n",
    "    try:\n",
    "        print(word.index(\"o\"))\n",
    "    except:\n",
    "        print(\"Not found\")"
   ]
  },
  {
   "cell_type": "markdown",
   "id": "043797f2-8d87-498f-b123-1e56102bff13",
   "metadata": {},
   "source": [
    "#### Word Count"
   ]
  },
  {
   "cell_type": "code",
   "execution_count": 3,
   "id": "18cb2eed-d6fd-4dab-8266-241d57f1c6e6",
   "metadata": {},
   "outputs": [
    {
     "name": "stdout",
     "output_type": "stream",
     "text": [
      "Word Count: 4\n",
      "Word Count: 1\n",
      "Word Count: 7\n",
      "Word Count: Not a string\n",
      "Word Count: Not a string\n",
      "Word Count: Not a string\n"
     ]
    }
   ],
   "source": [
    "#Write a function called word_count. word_count takes as\n",
    "#input a string called my_string, and returns as output the\n",
    "#number of words in the string. For the purposes of this\n",
    "#problem, you can assume that every space indicates a new\n",
    "#word; so, the number of words should be one more than the\n",
    "#number of spaces. You may also assume that any strings are\n",
    "#not empty, so there should always be at least one word if\n",
    "#my_string is a string.\n",
    "\n",
    "def word_count(my_string):\n",
    "    try:\n",
    "        count = len(my_string.split())\n",
    "        return (count)\n",
    "\n",
    "    except Exception as error:\n",
    "        return (\"Not a string\")\n",
    "\n",
    "#print: \n",
    "#Word Count: 4\n",
    "#Word Count: 1\n",
    "#Word Count: 7\n",
    "#Word Count: Not a string\n",
    "#Word Count: Not a string\n",
    "#Word Count: Not a string\n",
    "\n",
    "print(\"Word Count:\", word_count(\"Four words are here!\"))\n",
    "print(\"Word Count:\", word_count(\"One.\"))\n",
    "print(\"Word Count:\", word_count(\"There are seven words in this sentence.\"))\n",
    "print(\"Word Count:\", word_count(5))\n",
    "print(\"Word Count:\", word_count(5.1))\n",
    "print(\"Word Count:\", word_count(True))"
   ]
  },
  {
   "cell_type": "code",
   "execution_count": 4,
   "id": "f947e8da-db58-47d7-857e-6af276162765",
   "metadata": {},
   "outputs": [
    {
     "name": "stdout",
     "output_type": "stream",
     "text": [
      "Word Count: 4\n",
      "Word Count: 2\n",
      "Word Count: Not a string\n",
      "Word Count: Not a string\n",
      "Word Count: Not a string\n"
     ]
    }
   ],
   "source": [
    "#If it encounters multiple consecutive spaces, it does *not* count an\n",
    "#additional word. For example, these three strings should\n",
    "#all be counted as having two words:\n",
    "# \"Hi Hanna\"\n",
    "# \"Hi   Hanna\"\n",
    "# \"Hi                 Hanna\"\n",
    "#\n",
    "#Other than ignoring consecutive spaces, the directions are\n",
    "#the same: write a function called word_count that returns an\n",
    "#integer representing the number of words in the string, or\n",
    "#return \"Not a string\" if the input isn't a string. \n",
    "\n",
    "def word_count(my_string):\n",
    "    try:\n",
    "        count = len(my_string.split())\n",
    "        return (count)\n",
    "    except Exception as error:\n",
    "        return (\"Not a string\")\n",
    "\n",
    "#print:\n",
    "#Word Count: 4\n",
    "#Word Count: 2\n",
    "#Word Count: Not a string\n",
    "#Word Count: Not a string\n",
    "#Word Count: Not a string\n",
    "\n",
    "print(\"Word Count:\", word_count(\"Four words are here!\"))\n",
    "print(\"Word Count:\", word_count(\"Hi   Hanna\"))\n",
    "print(\"Word Count:\", word_count(5))\n",
    "print(\"Word Count:\", word_count(5.1))\n",
    "print(\"Word Count:\", word_count(True))"
   ]
  },
  {
   "cell_type": "markdown",
   "id": "bc1e04a6-bf72-4e19-a1e2-40f0f8e740cb",
   "metadata": {},
   "source": [
    "#### List Indices"
   ]
  },
  {
   "cell_type": "code",
   "execution_count": 5,
   "id": "ad731c56-776c-47af-a411-d3e0b7a6b326",
   "metadata": {},
   "outputs": [
    {
     "name": "stdout",
     "output_type": "stream",
     "text": [
      "Accessing index...\n",
      "Invalid index!!\n",
      "Done!\n"
     ]
    }
   ],
   "source": [
    "a_list = [1, 2, 3, 4, 5]\n",
    "list_index = 7\n",
    "\n",
    "#Revise this code so that this error is caught, and the\n",
    "#message \"Invalid index!!\" is printed. However, your revision\n",
    "#must meet these requirements, too:\n",
    "#\n",
    "# - If the values of the variables above are changed so\n",
    "#   that the error doesn't occur, the program should behave\n",
    "#   the same way that it does now.\n",
    "# - The two first and last lines, \"Accessing index...\" and\n",
    "#   \"Done!\", should print whether or not an error occurs.\n",
    "# - If a *different* error occurs from the one that arises\n",
    "#   initially, your code should instead print \"Unknown\n",
    "#   error!\"\n",
    "\n",
    "print(\"Accessing index...\")\n",
    "\n",
    "try:\n",
    "    result = a_list[list_index]\n",
    "    print(\"Value at index:\", result)\n",
    "except IndexError:\n",
    "    print(\"Invalid index!!\")\n",
    "except Exception as error:\n",
    "    print(\"Unknown error!\")\n",
    "    \n",
    "print(\"Done!\")"
   ]
  },
  {
   "cell_type": "code",
   "execution_count": null,
   "id": "322d44c1-4368-4bea-93c8-0ed3bb1136b2",
   "metadata": {},
   "outputs": [],
   "source": []
  }
 ],
 "metadata": {
  "kernelspec": {
   "display_name": "Python 3 (ipykernel)",
   "language": "python",
   "name": "python3"
  },
  "language_info": {
   "codemirror_mode": {
    "name": "ipython",
    "version": 3
   },
   "file_extension": ".py",
   "mimetype": "text/x-python",
   "name": "python",
   "nbconvert_exporter": "python",
   "pygments_lexer": "ipython3",
   "version": "3.9.7"
  }
 },
 "nbformat": 4,
 "nbformat_minor": 5
}
