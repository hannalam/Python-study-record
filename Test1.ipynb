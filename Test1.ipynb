{
 "cells": [
  {
   "cell_type": "markdown",
   "id": "7a0bc499-9f26-473b-9022-8c7af953f7c4",
   "metadata": {},
   "source": [
    "## Test 1"
   ]
  },
  {
   "cell_type": "markdown",
   "id": "5d57a663-c668-46b1-86aa-b11c6dd4b401",
   "metadata": {},
   "source": [
    "#### Making Change"
   ]
  },
  {
   "cell_type": "code",
   "execution_count": 1,
   "id": "55fbff2e-cf71-4264-899e-9d6bc5c980a4",
   "metadata": {},
   "outputs": [
    {
     "name": "stdout",
     "output_type": "stream",
     "text": [
      "Your change is: 4.55\n"
     ]
    }
   ],
   "source": [
    "total = \"5.45\"\n",
    "cash = \"10.0\"\n",
    "\n",
    "#Imagine you're writing the code for a cash register. As part\n",
    "#of this, it will have a total price for a purchase, and an\n",
    "#amount of cash the buyer is paying. However, both of these\n",
    "#are represent as strings.\n",
    "#\n",
    "#Write some code that will find and print the change that the\n",
    "#customer is due. For example, if cash is 10.0 and total is\n",
    "#5.45, then the change would be 4.55.\n",
    "#\n",
    "#Then, print the result with a message like this: \"Your\n",
    "#change is: 4.55\". Do not include the quotes in your output.\n",
    "#You may assume total and cash will both be floats.\n",
    "\n",
    "change = float(cash) - float(total)\n",
    "print(\"Your change is:\", change)"
   ]
  },
  {
   "cell_type": "markdown",
   "id": "87039211-073e-4e59-9634-3a31c3f61323",
   "metadata": {},
   "source": [
    "#### Time of Birth"
   ]
  },
  {
   "cell_type": "code",
   "execution_count": 2,
   "id": "aa47c35e-34a2-43f3-a9ac-b6fd96937c85",
   "metadata": {},
   "outputs": [
    {
     "name": "stdout",
     "output_type": "stream",
     "text": [
      "Lucy was born to Caitlin and David at January 2, 2015 at 11:12PM.\n"
     ]
    }
   ],
   "source": [
    "parent_1 = \"Caitlin\"\n",
    "parent_2 = \"David\"\n",
    "baby = \"Lucy\"\n",
    "month = \"January\"\n",
    "day = 2\n",
    "year = 2015\n",
    "time = \"11:12PM\"\n",
    "\n",
    "#The variables above give some information about a baby's birth:\n",
    "#the names of the parents, the name of the baby, and the month,\n",
    "#day, year, and time of the wedding.\n",
    "#\n",
    "#Add some code that will write the text to appear on a birth\n",
    "#announcement based on these values. \n",
    "#this would read:\n",
    "#Lucy was born to Caitlin and David at January 2, 2015 at 11:12PM.\n",
    "\n",
    "print(baby ,\"was born to\", parent_1,\"and\", parent_2, \"at\", \"{} {}, {} at {}.\".format(month,day,year,time))"
   ]
  },
  {
   "cell_type": "markdown",
   "id": "3b682132-a805-4642-87b4-b9d310481698",
   "metadata": {},
   "source": [
    "#### Saving Goals"
   ]
  },
  {
   "cell_type": "code",
   "execution_count": 3,
   "id": "057e0714-8f87-4913-ad51-484a90ab120a",
   "metadata": {},
   "outputs": [
    {
     "name": "stdout",
     "output_type": "stream",
     "text": [
      "True\n"
     ]
    }
   ],
   "source": [
    "principal = 40000\n",
    "rate = 0.05\n",
    "years = 5\n",
    "goal = 50000\n",
    "\n",
    "#The variables above represent the current status of an\n",
    "#investment account. The variable principal represents the\n",
    "#initial value of the account. The variable rate represents\n",
    "#the interest rate. The variable years represents the number\n",
    "#of years the account will be allowed to grow.\n",
    "\n",
    "#Add some code below that will calculate whether the\n",
    "#investment described by the values above will meet the given\n",
    "#goal. If it will, print True. If it will not, print False.\n",
    "#\n",
    "#The formula for the value of an account after a given time\n",
    "#(in number of years) is:\n",
    "#\n",
    "#  Current Value = principal * e ^ (rate * number of years)\n",
    "#\n",
    "#Because of the next line, you may use the variable e to\n",
    "#represent the value of e. For example, print(e * 2) would\n",
    "#print 5.43656365691809, which is double the value of e.\n",
    "from math import e\n",
    "\n",
    "value = principal * (e ** (rate * years))\n",
    "\n",
    "print(value >= goal)"
   ]
  },
  {
   "cell_type": "markdown",
   "id": "6c6c7719-6ad1-4d81-80fb-0573d7e80c69",
   "metadata": {},
   "source": [
    "### Convertto Binary (NOT YET FINISH)"
   ]
  },
  {
   "cell_type": "code",
   "execution_count": null,
   "id": "c71b780a-ee96-4045-81a3-fc7e3dc3abb3",
   "metadata": {},
   "outputs": [],
   "source": [
    "number = 215\n",
    "\n",
    "#You may modify the lines of code above, but don't move them!\n",
    "#When you Submit your code, we'll change these lines to\n",
    "#assign different values to the variables.\n",
    "#\n",
    "#The number above is given in base 10. Let's convert it to\n",
    "#base 2 and print it in binary. For example, 215 can be written\n",
    "#in binary as 11010111.\n",
    "#\n",
    "#Each digit of that string corresponds to a power of 2. The far\n",
    "#left digit represents 128, then 64, then 32, then 16, then 8,\n",
    "#then 4, then 2, and then finally 1 at the far right.\n",
    "#\n",
    "#To convert the number to binary, first check to see if it is\n",
    "#greater than or equal to 128. If it is, your first digit is 1.\n",
    "#If not, your first digit is 0. If the number was greater than\n",
    "#128, subtract 128 (because the 128 is captured by the first\n",
    "#digit of the string).\n",
    "#\n",
    "#Then, repeat that process for 64, 32, 16, 8, 4, 2, and 1.\n",
    "#\n",
    "#For example:\n",
    "#\n",
    "#215 is >= 128: 1\n",
    "#87 is >= 64: 11\n",
    "#23 is not >= 32: 110\n",
    "#23 is >= 16: 1101\n",
    "#7 is not >= 8: 11010\n",
    "#7 is >= 4: 110101\n",
    "#3 is >= 2: 1101011\n",
    "#1 is >= 1: 11010111\n",
    "#\n",
    "#Note that although we use 'if' a lot to describe this problem,\n",
    "#this can be done entirely with floor division and modulus.\n",
    "#Remember, if you convert a boolean to an integer, True becomes\n",
    "#1 and False becomes 0.\n",
    "#\n",
    "#Print the string that results from this conversion.\n",
    "\n",
    "\n",
    "#Add your code here!\n",
    "\n",
    "\n",
    "i = bool(number >= number//128)\n",
    "a = bool((number-number//128) >= 64 )\n",
    "b = bool((number-number//128 - 64) >= 32)\n",
    "c = bool((number-number//128//64//32) >= 16)\n",
    "d = bool((number-number//128//64//16) >= 8)\n",
    "e = bool((number-number//128//64//16//8) >=4)\n",
    "f = bool((number-number//128//64//16//8//4) >=2)\n",
    "g = bool((number-number//128//64//16//8//2) >=1)\n",
    "\n",
    "print(\"{}{}{}{}{}{}{}{}\".format(int(i),int(a),int(b),int(c),int(d),int(e),int(f),int(g)))"
   ]
  },
  {
   "cell_type": "markdown",
   "id": "e7077080-c984-440f-8d16-671161f1f3f0",
   "metadata": {},
   "source": [
    "### Much Wow (NOT YET FINISH)"
   ]
  },
  {
   "cell_type": "code",
   "execution_count": null,
   "id": "4c52f181-57a7-46aa-9cd3-ef8d460ea196",
   "metadata": {},
   "outputs": [],
   "source": [
    "message = \"lol\"\n",
    "punct = \"!\"\n",
    "num = 3\n",
    "\n",
    "#You may modify the lines of code above, but don't move them!\n",
    "#When you Submit your code, we'll change these lines to\n",
    "#assign different values to the variables.\n",
    "\n",
    "#Using the values of message, punct, and num, print\n",
    "#a string that looks like the one below if message = \"lol\",\n",
    "#punct = \"!\", and num = 3:\n",
    "#\n",
    "# lollollol!lollollol!lollollol\n",
    "#\n",
    "#Specifically, it should start by printing message num times,\n",
    "#then print punct. It should repeat that process num times,\n",
    "#with punct printed between each time (but not at the start or\n",
    "#end).\n",
    "#\n",
    "#Here are a couple other examples:\n",
    "#\n",
    "# message = \"bbq\", punct = \"?\", num = 2 -> bbqbbq?bbqbbq\n",
    "# message = \"bbl\", punct = \":\", num = 3 -> bblbblbbl:bblbblbbl:bblbblbbl\n",
    "# message = \"brb\", punct = \".\", num = 4 -> brbbrbbrbbrb.brbbrbbrbbrb.brbbrbbrbbrb.brbbrbbrbbrb\n",
    "\n",
    "\n",
    "#Add your code below!\n",
    "\n",
    "print(\"message = {}, punct = {}, num = 2 -> {}\".format(message,punct,num))\n",
    "print(\"message = {}, punct = {}, num = 2 -> {}\".format(message,punct,num))\n",
    "print(\"message = {}, punct = {}, num = 2 -> {}\".format(message,punct,num))"
   ]
  },
  {
   "cell_type": "markdown",
   "id": "5e21c61c-f430-41c0-aec8-075404b5f6b5",
   "metadata": {},
   "source": [
    "### Root Squared (NOT YET FINISH)"
   ]
  },
  {
   "cell_type": "code",
   "execution_count": null,
   "id": "458e26c4-6779-4aab-b438-03cc9e0655dc",
   "metadata": {},
   "outputs": [],
   "source": [
    "num = 4\n",
    "\n",
    "#You may modify the lines of code above, but don't move them!\n",
    "#When you Submit your code, we'll change these lines to\n",
    "#assign different values to the variables.\n",
    "\n",
    "#Write some code that calculates the square and the square root\n",
    "#of the number given above. Then, it should print the square the\n",
    "#square root number of times. If the square root is a decimal,\n",
    "#round it down (you can do this by converting the decimal to\n",
    "#an integer: Python will automatically round it down).\n",
    "#\n",
    "#For example, if num is 4, then your code would print:\n",
    "#\n",
    "# 1616\n",
    "#\n",
    "#That's 16 2 times. 4 squared is 16, the square root of 4 is 2,\n",
    "#and so it prints 16 2 times.\n",
    "#\n",
    "#For another example: if num is 13, then 13 squared is 169, and\n",
    "#the square root of 13 is ~3.6. 3.6 rounds down to 3. So, it would\n",
    "#print: 169169169, or 169 3 times.\n",
    "\n",
    "\n",
    "#Add your code here!"
   ]
  },
  {
   "cell_type": "markdown",
   "id": "62b8c32a-c754-4384-831e-4d0c8a6403f2",
   "metadata": {},
   "source": [
    "### Happy Birthday (NOT YET FINISH)"
   ]
  },
  {
   "cell_type": "code",
   "execution_count": null,
   "id": "1ebe752d-f78e-4283-816b-c58bf4cfb931",
   "metadata": {},
   "outputs": [],
   "source": [
    "current_day = 31\n",
    "current_month = 5\n",
    "current_year = 2018\n",
    "birth_day = 19\n",
    "birth_month = 12\n",
    "birth_year = 1990\n",
    "\n",
    "#You may modify the lines of code above, but don't move them!\n",
    "#When you Submit your code, we'll change these lines to\n",
    "#assign different values to the variables.\n",
    "\n",
    "#Given the current date and birth date held by the variables\n",
    "#above, calculate and print this person's current age. Note\n",
    "#that if their birth date has not yet passed this year, your\n",
    "#result would be one less than if it has.\n",
    "#\n",
    "#For example, with the variables given above, the person\n",
    "#would turn 28 on December 12th, 2018. So, as of May 31st,\n",
    "#2018, they are 27.\n",
    "\n",
    "\n",
    "#Add your code here!\n"
   ]
  }
 ],
 "metadata": {
  "kernelspec": {
   "display_name": "Python 3 (ipykernel)",
   "language": "python",
   "name": "python3"
  },
  "language_info": {
   "codemirror_mode": {
    "name": "ipython",
    "version": 3
   },
   "file_extension": ".py",
   "mimetype": "text/x-python",
   "name": "python",
   "nbconvert_exporter": "python",
   "pygments_lexer": "ipython3",
   "version": "3.9.7"
  }
 },
 "nbformat": 4,
 "nbformat_minor": 5
}
